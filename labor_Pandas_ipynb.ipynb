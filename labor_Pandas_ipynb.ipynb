{
  "nbformat": 4,
  "nbformat_minor": 0,
  "metadata": {
    "kernelspec": {
      "display_name": "Python 3",
      "language": "python",
      "name": "python3"
    },
    "language_info": {
      "codemirror_mode": {
        "name": "ipython",
        "version": 3
      },
      "file_extension": ".py",
      "mimetype": "text/x-python",
      "name": "python",
      "nbconvert_exporter": "python",
      "pygments_lexer": "ipython3",
      "version": "3.6.4"
    },
    "colab": {
      "name": "labor_Pandas.ipynb másolata",
      "provenance": [],
      "collapsed_sections": [
        "x--7QoTY_rBB",
        "Uzbp23DT_rBK",
        "xpgEmtmP_rBM",
        "KSJCx58u_rBS",
        "BmKFo9QC_rBX",
        "8lG-IPfR_rBa",
        "KUJcu9Qt_rBn",
        "cE9AVQGZ_rBp",
        "6zdUXC7e_rBy",
        "XK73j57K_rB0",
        "FGl6hsmN_rB3",
        "mtp5LIGE_rB5",
        "6oEFguC3_rB7",
        "RJzajBBD_rCK",
        "QObrmzb9_rCc",
        "THUPw4_r_rCi",
        "2-LkZO2v_rCp",
        "dBQvC4hkDCe3",
        "GxNZ-6_4DCfC",
        "V9QF1I9ODCfG"
      ],
      "toc_visible": true,
      "include_colab_link": true
    }
  },
  "cells": [
    {
      "cell_type": "markdown",
      "metadata": {
        "id": "view-in-github",
        "colab_type": "text"
      },
      "source": [
        "<a href=\"https://colab.research.google.com/github/CsabaLorincz/Android_Project/blob/main/labor_Pandas_ipynb.ipynb\" target=\"_parent\"><img src=\"https://colab.research.google.com/assets/colab-badge.svg\" alt=\"Open In Colab\"/></a>"
      ]
    },
    {
      "cell_type": "markdown",
      "metadata": {
        "id": "0fry44sT_rAb"
      },
      "source": [
        "# Pandas bevezető\n",
        "\n",
        "Angol nyelvű erőforrások:\n",
        "\n",
        "1. A hivatalos dokumentációhoz tartozó rövid bevezető: http://pandas.pydata.org/pandas-docs/stable/10min.html\n",
        "2. Részletesebb bevezető: https://www.learndatasci.com/tutorials/python-pandas-tutorial-complete-introduction-for-beginners/\n",
        "3. Brandon Rhodes előadása, Pycon 2015: https://www.youtube.com/watch?v=5JnMutdy6Fw"
      ]
    },
    {
      "cell_type": "markdown",
      "metadata": {
        "id": "5f8-NzaB_rAe"
      },
      "source": [
        "# Mi az a pandas?\n",
        "\n",
        "A pandas egy adatkezelő függvénykönyvtár, amit nagymértékben megkönnyiti az adatok kezelését, az adatbányászat [adattisztítás](https://hu.wikipedia.org/wiki/Adattiszt%C3%ADt%C3%A1s) és adatintegráció lépéseit. Az adatokat táblázatos formában kezeli. A táblázatoknak van fejlécük és indexük. Heterogén adatokat tárolhatunk: szöveges, számadat, igazságérték, dátum stb. Az adatok típusa egy oszlopon belül sem kell, hogy azonos legyen.\n",
        "\n",
        "A pandas remekül együttműködik a Python gépi tanuló könyvtárával (scikit-learn) és a legelterjedtebb vizualizációs könyvtárakkal (matplotlib, seaborn)."
      ]
    },
    {
      "cell_type": "code",
      "metadata": {
        "id": "faF_C-8X_rAf"
      },
      "source": [
        "import pandas as pd  # konvenció szerint pd aliast szoktunk használni\n",
        "%matplotlib inline\n",
        "import matplotlib\n",
        "import numpy as np\n",
        "\n",
        "# tegyük szebbé a grafikonokat\n",
        "matplotlib.style.use('ggplot')\n",
        "matplotlib.pyplot.rcParams['figure.figsize'] = (15, 3)\n",
        "matplotlib.pyplot.rcParams['font.family'] = 'sans-serif'"
      ],
      "execution_count": null,
      "outputs": []
    },
    {
      "cell_type": "code",
      "metadata": {
        "id": "_w9yFOdX_rAj",
        "colab": {
          "base_uri": "https://localhost:8080/",
          "height": 266
        },
        "outputId": "3dacdb68-f70f-4a60-bd3d-31c1a18ca90d"
      },
      "source": [
        "grades = pd.DataFrame(\n",
        "    {\n",
        "        'subject': ['analízis 1', 'digitális technika 1', \n",
        "                    'fizika 1', 'mikmak', 'programozás alapjai 1', 'szoftvertechonológia',\n",
        "                   'bevezetés a számításelméletbe 1'],\n",
        "        'grade': [3, 4, 3, 2, 5, 1, 4],\n",
        "        'teacher': ['a', 'b', 'a', 'c', 'd', 'd', 'd'],\n",
        "        'semester': [1, 1, 2, 2, 1, 3, 1],\n",
        "    }\n",
        ")\n",
        "grades"
      ],
      "execution_count": null,
      "outputs": [
        {
          "output_type": "execute_result",
          "data": {
            "text/html": [
              "<div>\n",
              "<style scoped>\n",
              "    .dataframe tbody tr th:only-of-type {\n",
              "        vertical-align: middle;\n",
              "    }\n",
              "\n",
              "    .dataframe tbody tr th {\n",
              "        vertical-align: top;\n",
              "    }\n",
              "\n",
              "    .dataframe thead th {\n",
              "        text-align: right;\n",
              "    }\n",
              "</style>\n",
              "<table border=\"1\" class=\"dataframe\">\n",
              "  <thead>\n",
              "    <tr style=\"text-align: right;\">\n",
              "      <th></th>\n",
              "      <th>subject</th>\n",
              "      <th>grade</th>\n",
              "      <th>teacher</th>\n",
              "      <th>semester</th>\n",
              "    </tr>\n",
              "  </thead>\n",
              "  <tbody>\n",
              "    <tr>\n",
              "      <th>0</th>\n",
              "      <td>analízis 1</td>\n",
              "      <td>3</td>\n",
              "      <td>a</td>\n",
              "      <td>1</td>\n",
              "    </tr>\n",
              "    <tr>\n",
              "      <th>1</th>\n",
              "      <td>digitális technika 1</td>\n",
              "      <td>4</td>\n",
              "      <td>b</td>\n",
              "      <td>1</td>\n",
              "    </tr>\n",
              "    <tr>\n",
              "      <th>2</th>\n",
              "      <td>fizika 1</td>\n",
              "      <td>3</td>\n",
              "      <td>a</td>\n",
              "      <td>2</td>\n",
              "    </tr>\n",
              "    <tr>\n",
              "      <th>3</th>\n",
              "      <td>mikmak</td>\n",
              "      <td>2</td>\n",
              "      <td>c</td>\n",
              "      <td>2</td>\n",
              "    </tr>\n",
              "    <tr>\n",
              "      <th>4</th>\n",
              "      <td>programozás alapjai 1</td>\n",
              "      <td>5</td>\n",
              "      <td>d</td>\n",
              "      <td>1</td>\n",
              "    </tr>\n",
              "    <tr>\n",
              "      <th>5</th>\n",
              "      <td>szoftvertechonológia</td>\n",
              "      <td>1</td>\n",
              "      <td>d</td>\n",
              "      <td>3</td>\n",
              "    </tr>\n",
              "    <tr>\n",
              "      <th>6</th>\n",
              "      <td>bevezetés a számításelméletbe 1</td>\n",
              "      <td>4</td>\n",
              "      <td>d</td>\n",
              "      <td>1</td>\n",
              "    </tr>\n",
              "  </tbody>\n",
              "</table>\n",
              "</div>"
            ],
            "text/plain": [
              "                           subject  grade teacher  semester\n",
              "0                       analízis 1      3       a         1\n",
              "1             digitális technika 1      4       b         1\n",
              "2                         fizika 1      3       a         2\n",
              "3                           mikmak      2       c         2\n",
              "4            programozás alapjai 1      5       d         1\n",
              "5             szoftvertechonológia      1       d         3\n",
              "6  bevezetés a számításelméletbe 1      4       d         1"
            ]
          },
          "metadata": {
            "tags": []
          },
          "execution_count": 3
        }
      ]
    },
    {
      "cell_type": "markdown",
      "metadata": {
        "id": "_igsrOk9_rAm"
      },
      "source": [
        "A DataFrame elejét a .head függvénnyel, a végét a .tail-lel nézhetjük meg. Ennek akkor van jelentősége, ha nagy táblázatokkal dolgozunk."
      ]
    },
    {
      "cell_type": "code",
      "metadata": {
        "id": "WaXod5mR_rAn",
        "colab": {
          "base_uri": "https://localhost:8080/",
          "height": 204
        },
        "outputId": "56bc2971-80c1-4f91-e9e4-524b378ab981"
      },
      "source": [
        "grades.head()"
      ],
      "execution_count": null,
      "outputs": [
        {
          "output_type": "execute_result",
          "data": {
            "text/html": [
              "<div>\n",
              "<style scoped>\n",
              "    .dataframe tbody tr th:only-of-type {\n",
              "        vertical-align: middle;\n",
              "    }\n",
              "\n",
              "    .dataframe tbody tr th {\n",
              "        vertical-align: top;\n",
              "    }\n",
              "\n",
              "    .dataframe thead th {\n",
              "        text-align: right;\n",
              "    }\n",
              "</style>\n",
              "<table border=\"1\" class=\"dataframe\">\n",
              "  <thead>\n",
              "    <tr style=\"text-align: right;\">\n",
              "      <th></th>\n",
              "      <th>subject</th>\n",
              "      <th>grade</th>\n",
              "      <th>teacher</th>\n",
              "      <th>semester</th>\n",
              "    </tr>\n",
              "  </thead>\n",
              "  <tbody>\n",
              "    <tr>\n",
              "      <th>0</th>\n",
              "      <td>analízis 1</td>\n",
              "      <td>3</td>\n",
              "      <td>a</td>\n",
              "      <td>1</td>\n",
              "    </tr>\n",
              "    <tr>\n",
              "      <th>1</th>\n",
              "      <td>digitális technika 1</td>\n",
              "      <td>4</td>\n",
              "      <td>b</td>\n",
              "      <td>1</td>\n",
              "    </tr>\n",
              "    <tr>\n",
              "      <th>2</th>\n",
              "      <td>fizika 1</td>\n",
              "      <td>3</td>\n",
              "      <td>a</td>\n",
              "      <td>2</td>\n",
              "    </tr>\n",
              "    <tr>\n",
              "      <th>3</th>\n",
              "      <td>mikmak</td>\n",
              "      <td>2</td>\n",
              "      <td>c</td>\n",
              "      <td>2</td>\n",
              "    </tr>\n",
              "    <tr>\n",
              "      <th>4</th>\n",
              "      <td>programozás alapjai 1</td>\n",
              "      <td>5</td>\n",
              "      <td>d</td>\n",
              "      <td>1</td>\n",
              "    </tr>\n",
              "  </tbody>\n",
              "</table>\n",
              "</div>"
            ],
            "text/plain": [
              "                 subject  grade teacher  semester\n",
              "0             analízis 1      3       a         1\n",
              "1   digitális technika 1      4       b         1\n",
              "2               fizika 1      3       a         2\n",
              "3                 mikmak      2       c         2\n",
              "4  programozás alapjai 1      5       d         1"
            ]
          },
          "metadata": {
            "tags": []
          },
          "execution_count": 4
        }
      ]
    },
    {
      "cell_type": "markdown",
      "metadata": {
        "id": "poBHI5D__rAq"
      },
      "source": [
        "Alapértelmezetten 5 sort ír ki, de megadhatjuk paraméterként pontosan hány sort szeretnénk látni."
      ]
    },
    {
      "cell_type": "code",
      "metadata": {
        "id": "5EIudqcN_rAq",
        "colab": {
          "base_uri": "https://localhost:8080/",
          "height": 111
        },
        "outputId": "bdddc10d-4442-40e0-ed25-c884bd8dec0e"
      },
      "source": [
        "grades.tail(2)"
      ],
      "execution_count": null,
      "outputs": [
        {
          "output_type": "execute_result",
          "data": {
            "text/html": [
              "<div>\n",
              "<style scoped>\n",
              "    .dataframe tbody tr th:only-of-type {\n",
              "        vertical-align: middle;\n",
              "    }\n",
              "\n",
              "    .dataframe tbody tr th {\n",
              "        vertical-align: top;\n",
              "    }\n",
              "\n",
              "    .dataframe thead th {\n",
              "        text-align: right;\n",
              "    }\n",
              "</style>\n",
              "<table border=\"1\" class=\"dataframe\">\n",
              "  <thead>\n",
              "    <tr style=\"text-align: right;\">\n",
              "      <th></th>\n",
              "      <th>subject</th>\n",
              "      <th>grade</th>\n",
              "      <th>teacher</th>\n",
              "      <th>semester</th>\n",
              "    </tr>\n",
              "  </thead>\n",
              "  <tbody>\n",
              "    <tr>\n",
              "      <th>5</th>\n",
              "      <td>szoftvertechonológia</td>\n",
              "      <td>1</td>\n",
              "      <td>d</td>\n",
              "      <td>3</td>\n",
              "    </tr>\n",
              "    <tr>\n",
              "      <th>6</th>\n",
              "      <td>bevezetés a számításelméletbe 1</td>\n",
              "      <td>4</td>\n",
              "      <td>d</td>\n",
              "      <td>1</td>\n",
              "    </tr>\n",
              "  </tbody>\n",
              "</table>\n",
              "</div>"
            ],
            "text/plain": [
              "                           subject  grade teacher  semester\n",
              "5             szoftvertechonológia      1       d         3\n",
              "6  bevezetés a számításelméletbe 1      4       d         1"
            ]
          },
          "metadata": {
            "tags": []
          },
          "execution_count": 5
        }
      ]
    },
    {
      "cell_type": "markdown",
      "metadata": {
        "id": "C0qUdubZ_rAt"
      },
      "source": [
        "# Egyszerű navigálás a DataFrame-ben"
      ]
    },
    {
      "cell_type": "markdown",
      "metadata": {
        "id": "fVFf_YLs_rAu"
      },
      "source": [
        "Fontos megemlíteni, hogy minden művelet egy új DataFrame-mel tér vissza, beleértve a `head` és a `tail` függvényeket is, azonban ezek az új DataFrame-ek nem tényleges másolatok, hanem csak ún. slice-ok az eredetiből. A `copy` függénnyel tudunk másolatot készíteni.\n",
        "\n",
        "A táblázat első oszlopa kitüntetett, ez a DataFrame indexe, ezzel tudjuk azonosítani a sorokat. Ugyan nem követelmény, hogy unikus legyen, de praktikus unikusra választani. Egynél több oszlopot is használhatunk indexként (multiindex)."
      ]
    },
    {
      "cell_type": "markdown",
      "metadata": {
        "id": "jh-Ssq96_rAv"
      },
      "source": [
        "## Oszlopok kiválasztása\n",
        "\n",
        "Lekérhetünk csak bizonyos oszlopokat, ekkor egy új DataFrame-et kapunk, ami a választott oszlopokat tartalmazza csak. Egy oszlopot a szögletes zárójelekkel tudunk indexelni."
      ]
    },
    {
      "cell_type": "code",
      "metadata": {
        "id": "VmCOfBby_rAw",
        "colab": {
          "base_uri": "https://localhost:8080/"
        },
        "outputId": "f6d2b963-58b2-45ca-92c3-64c4ff96da78"
      },
      "source": [
        "grades['teacher']"
      ],
      "execution_count": null,
      "outputs": [
        {
          "output_type": "execute_result",
          "data": {
            "text/plain": [
              "0    a\n",
              "1    b\n",
              "2    a\n",
              "3    c\n",
              "4    d\n",
              "5    d\n",
              "6    d\n",
              "Name: teacher, dtype: object"
            ]
          },
          "metadata": {
            "tags": []
          },
          "execution_count": 6
        }
      ]
    },
    {
      "cell_type": "markdown",
      "metadata": {
        "id": "yee-WeDp_rAy"
      },
      "source": [
        "Amennyiben az oszlop neve nem tartalmaz szóközöket, attribútumként is elérjük."
      ]
    },
    {
      "cell_type": "code",
      "metadata": {
        "id": "t_6XEK9Z_rAz",
        "colab": {
          "base_uri": "https://localhost:8080/"
        },
        "outputId": "f45e214f-7cca-4c56-ca0f-af0a394ada96"
      },
      "source": [
        "grades.teacher"
      ],
      "execution_count": null,
      "outputs": [
        {
          "output_type": "execute_result",
          "data": {
            "text/plain": [
              "0    a\n",
              "1    b\n",
              "2    a\n",
              "3    c\n",
              "4    d\n",
              "5    d\n",
              "6    d\n",
              "Name: teacher, dtype: object"
            ]
          },
          "metadata": {
            "tags": []
          },
          "execution_count": 7
        }
      ]
    },
    {
      "cell_type": "markdown",
      "metadata": {
        "id": "FdfnNWRf_rA1"
      },
      "source": [
        "A kapott eredmény nem tűnik táblázatnak és valóban más típusú"
      ]
    },
    {
      "cell_type": "code",
      "metadata": {
        "id": "OqQGnoG4_rA2",
        "colab": {
          "base_uri": "https://localhost:8080/"
        },
        "outputId": "510c3cd4-d2a2-4cbc-8943-4bd5201bfee6"
      },
      "source": [
        "type(grades.teacher)"
      ],
      "execution_count": null,
      "outputs": [
        {
          "output_type": "execute_result",
          "data": {
            "text/plain": [
              "pandas.core.series.Series"
            ]
          },
          "metadata": {
            "tags": []
          },
          "execution_count": 8
        }
      ]
    },
    {
      "cell_type": "markdown",
      "metadata": {
        "id": "jwoXXPcF_rA6"
      },
      "source": [
        "Amikor a dimenziók száma egyre csökken, `Series` objektumot kapunk vissza."
      ]
    },
    {
      "cell_type": "markdown",
      "metadata": {
        "id": "t8BoAwBF_rA7"
      },
      "source": [
        "Egynél több oszlop kiválasztásánál dupla zárójelet kell használni."
      ]
    },
    {
      "cell_type": "code",
      "metadata": {
        "id": "bkeNtBtI_rA7",
        "colab": {
          "base_uri": "https://localhost:8080/",
          "height": 266
        },
        "outputId": "193a31f5-aa4f-4908-e780-db9e58092bb2"
      },
      "source": [
        "grades[['grade', 'teacher']]"
      ],
      "execution_count": null,
      "outputs": [
        {
          "output_type": "execute_result",
          "data": {
            "text/html": [
              "<div>\n",
              "<style scoped>\n",
              "    .dataframe tbody tr th:only-of-type {\n",
              "        vertical-align: middle;\n",
              "    }\n",
              "\n",
              "    .dataframe tbody tr th {\n",
              "        vertical-align: top;\n",
              "    }\n",
              "\n",
              "    .dataframe thead th {\n",
              "        text-align: right;\n",
              "    }\n",
              "</style>\n",
              "<table border=\"1\" class=\"dataframe\">\n",
              "  <thead>\n",
              "    <tr style=\"text-align: right;\">\n",
              "      <th></th>\n",
              "      <th>grade</th>\n",
              "      <th>teacher</th>\n",
              "    </tr>\n",
              "  </thead>\n",
              "  <tbody>\n",
              "    <tr>\n",
              "      <th>0</th>\n",
              "      <td>3</td>\n",
              "      <td>a</td>\n",
              "    </tr>\n",
              "    <tr>\n",
              "      <th>1</th>\n",
              "      <td>4</td>\n",
              "      <td>b</td>\n",
              "    </tr>\n",
              "    <tr>\n",
              "      <th>2</th>\n",
              "      <td>3</td>\n",
              "      <td>a</td>\n",
              "    </tr>\n",
              "    <tr>\n",
              "      <th>3</th>\n",
              "      <td>2</td>\n",
              "      <td>c</td>\n",
              "    </tr>\n",
              "    <tr>\n",
              "      <th>4</th>\n",
              "      <td>5</td>\n",
              "      <td>d</td>\n",
              "    </tr>\n",
              "    <tr>\n",
              "      <th>5</th>\n",
              "      <td>1</td>\n",
              "      <td>d</td>\n",
              "    </tr>\n",
              "    <tr>\n",
              "      <th>6</th>\n",
              "      <td>4</td>\n",
              "      <td>d</td>\n",
              "    </tr>\n",
              "  </tbody>\n",
              "</table>\n",
              "</div>"
            ],
            "text/plain": [
              "   grade teacher\n",
              "0      3       a\n",
              "1      4       b\n",
              "2      3       a\n",
              "3      2       c\n",
              "4      5       d\n",
              "5      1       d\n",
              "6      4       d"
            ]
          },
          "metadata": {
            "tags": []
          },
          "execution_count": 9
        }
      ]
    },
    {
      "cell_type": "markdown",
      "metadata": {
        "id": "04Xhx-Zx_rA-"
      },
      "source": [
        "Valójában az `[]` operátor indexének típusa alapján dől el, hogy milyen típust kapunk vissza.\n",
        "Egy oszlopból is készíthethünk `DataFrame`-et `Series` helyett, ha listaként kérdezzük le:"
      ]
    },
    {
      "cell_type": "code",
      "metadata": {
        "id": "Eb3Z8W6P_rA-",
        "colab": {
          "base_uri": "https://localhost:8080/",
          "height": 283
        },
        "outputId": "1e2bc20b-23c5-495b-d3ea-00dd2669f719"
      },
      "source": [
        "print(type(grades[['grade']]))\n",
        "grades[['grade']]"
      ],
      "execution_count": null,
      "outputs": [
        {
          "output_type": "stream",
          "text": [
            "<class 'pandas.core.frame.DataFrame'>\n"
          ],
          "name": "stdout"
        },
        {
          "output_type": "execute_result",
          "data": {
            "text/html": [
              "<div>\n",
              "<style scoped>\n",
              "    .dataframe tbody tr th:only-of-type {\n",
              "        vertical-align: middle;\n",
              "    }\n",
              "\n",
              "    .dataframe tbody tr th {\n",
              "        vertical-align: top;\n",
              "    }\n",
              "\n",
              "    .dataframe thead th {\n",
              "        text-align: right;\n",
              "    }\n",
              "</style>\n",
              "<table border=\"1\" class=\"dataframe\">\n",
              "  <thead>\n",
              "    <tr style=\"text-align: right;\">\n",
              "      <th></th>\n",
              "      <th>grade</th>\n",
              "    </tr>\n",
              "  </thead>\n",
              "  <tbody>\n",
              "    <tr>\n",
              "      <th>0</th>\n",
              "      <td>3</td>\n",
              "    </tr>\n",
              "    <tr>\n",
              "      <th>1</th>\n",
              "      <td>4</td>\n",
              "    </tr>\n",
              "    <tr>\n",
              "      <th>2</th>\n",
              "      <td>3</td>\n",
              "    </tr>\n",
              "    <tr>\n",
              "      <th>3</th>\n",
              "      <td>2</td>\n",
              "    </tr>\n",
              "    <tr>\n",
              "      <th>4</th>\n",
              "      <td>5</td>\n",
              "    </tr>\n",
              "    <tr>\n",
              "      <th>5</th>\n",
              "      <td>1</td>\n",
              "    </tr>\n",
              "    <tr>\n",
              "      <th>6</th>\n",
              "      <td>4</td>\n",
              "    </tr>\n",
              "  </tbody>\n",
              "</table>\n",
              "</div>"
            ],
            "text/plain": [
              "   grade\n",
              "0      3\n",
              "1      4\n",
              "2      3\n",
              "3      2\n",
              "4      5\n",
              "5      1\n",
              "6      4"
            ]
          },
          "metadata": {
            "tags": []
          },
          "execution_count": 10
        }
      ]
    },
    {
      "cell_type": "markdown",
      "metadata": {
        "id": "x--7QoTY_rBB"
      },
      "source": [
        "## Sorok kiválasztása\n",
        "\n",
        "A sorokat többféleképpen indexelhetjük:\n",
        "1. index szerint\n",
        "2. sorszám szerint\n",
        "\n",
        "Mielőtt index szerint kérdeznénk le egy sort, állítsuk át az indexet valami beszédesebbre."
      ]
    },
    {
      "cell_type": "code",
      "metadata": {
        "id": "D5_rcx-n_rBB",
        "colab": {
          "base_uri": "https://localhost:8080/",
          "height": 297
        },
        "outputId": "27bf7b87-901a-4e2e-a369-be80fcb4fd3e"
      },
      "source": [
        "grades = grades.set_index('subject')\n",
        "grades"
      ],
      "execution_count": null,
      "outputs": [
        {
          "output_type": "execute_result",
          "data": {
            "text/html": [
              "<div>\n",
              "<style scoped>\n",
              "    .dataframe tbody tr th:only-of-type {\n",
              "        vertical-align: middle;\n",
              "    }\n",
              "\n",
              "    .dataframe tbody tr th {\n",
              "        vertical-align: top;\n",
              "    }\n",
              "\n",
              "    .dataframe thead th {\n",
              "        text-align: right;\n",
              "    }\n",
              "</style>\n",
              "<table border=\"1\" class=\"dataframe\">\n",
              "  <thead>\n",
              "    <tr style=\"text-align: right;\">\n",
              "      <th></th>\n",
              "      <th>grade</th>\n",
              "      <th>teacher</th>\n",
              "      <th>semester</th>\n",
              "    </tr>\n",
              "    <tr>\n",
              "      <th>subject</th>\n",
              "      <th></th>\n",
              "      <th></th>\n",
              "      <th></th>\n",
              "    </tr>\n",
              "  </thead>\n",
              "  <tbody>\n",
              "    <tr>\n",
              "      <th>analízis 1</th>\n",
              "      <td>3</td>\n",
              "      <td>a</td>\n",
              "      <td>1</td>\n",
              "    </tr>\n",
              "    <tr>\n",
              "      <th>digitális technika 1</th>\n",
              "      <td>4</td>\n",
              "      <td>b</td>\n",
              "      <td>1</td>\n",
              "    </tr>\n",
              "    <tr>\n",
              "      <th>fizika 1</th>\n",
              "      <td>3</td>\n",
              "      <td>a</td>\n",
              "      <td>2</td>\n",
              "    </tr>\n",
              "    <tr>\n",
              "      <th>mikmak</th>\n",
              "      <td>2</td>\n",
              "      <td>c</td>\n",
              "      <td>2</td>\n",
              "    </tr>\n",
              "    <tr>\n",
              "      <th>programozás alapjai 1</th>\n",
              "      <td>5</td>\n",
              "      <td>d</td>\n",
              "      <td>1</td>\n",
              "    </tr>\n",
              "    <tr>\n",
              "      <th>szoftvertechonológia</th>\n",
              "      <td>1</td>\n",
              "      <td>d</td>\n",
              "      <td>3</td>\n",
              "    </tr>\n",
              "    <tr>\n",
              "      <th>bevezetés a számításelméletbe 1</th>\n",
              "      <td>4</td>\n",
              "      <td>d</td>\n",
              "      <td>1</td>\n",
              "    </tr>\n",
              "  </tbody>\n",
              "</table>\n",
              "</div>"
            ],
            "text/plain": [
              "                                 grade teacher  semester\n",
              "subject                                                 \n",
              "analízis 1                           3       a         1\n",
              "digitális technika 1                 4       b         1\n",
              "fizika 1                             3       a         2\n",
              "mikmak                               2       c         2\n",
              "programozás alapjai 1                5       d         1\n",
              "szoftvertechonológia                 1       d         3\n",
              "bevezetés a számításelméletbe 1      4       d         1"
            ]
          },
          "metadata": {
            "tags": []
          },
          "execution_count": 11
        }
      ]
    },
    {
      "cell_type": "code",
      "metadata": {
        "id": "RtymqEYJ_rBD",
        "colab": {
          "base_uri": "https://localhost:8080/"
        },
        "outputId": "c905e952-6c48-4f16-ab31-fb0b9828eedd"
      },
      "source": [
        "grades.loc['fizika 1']  # a loc után [] kell!"
      ],
      "execution_count": null,
      "outputs": [
        {
          "output_type": "execute_result",
          "data": {
            "text/plain": [
              "grade       3\n",
              "teacher     a\n",
              "semester    2\n",
              "Name: fizika 1, dtype: object"
            ]
          },
          "metadata": {
            "tags": []
          },
          "execution_count": 12
        }
      ]
    },
    {
      "cell_type": "markdown",
      "metadata": {
        "id": "r2ok0ELk_rBG"
      },
      "source": [
        "Mivel egyetlen sort kértünk, megint `Series` objektumot kapunk."
      ]
    },
    {
      "cell_type": "code",
      "metadata": {
        "id": "tcn5QG9k_rBH",
        "colab": {
          "base_uri": "https://localhost:8080/"
        },
        "outputId": "38aedd17-fb3d-48fd-84ee-cdb8e11a78be"
      },
      "source": [
        "type(grades.loc['fizika 1'])"
      ],
      "execution_count": null,
      "outputs": [
        {
          "output_type": "execute_result",
          "data": {
            "text/plain": [
              "pandas.core.series.Series"
            ]
          },
          "metadata": {
            "tags": []
          },
          "execution_count": 8
        }
      ]
    },
    {
      "cell_type": "markdown",
      "metadata": {
        "id": "9aNVJUDu_rBJ"
      },
      "source": [
        "A Series egy egydimenziós adatsor, gondolhatunk rá úgy, mint a DataFrame egy sorára."
      ]
    },
    {
      "cell_type": "markdown",
      "metadata": {
        "id": "Uzbp23DT_rBK"
      },
      "source": [
        "## Indexelés sor szerint"
      ]
    },
    {
      "cell_type": "code",
      "metadata": {
        "id": "ZUDKBTge_rBK",
        "colab": {
          "base_uri": "https://localhost:8080/",
          "height": 196
        },
        "outputId": "5fd3976f-f282-47f5-c8eb-a39a78a1803d"
      },
      "source": [
        "grades.iloc[1:3]  # utolsó index nincs benne, [1, 3)"
      ],
      "execution_count": null,
      "outputs": [
        {
          "output_type": "execute_result",
          "data": {
            "text/html": [
              "<div>\n",
              "<style scoped>\n",
              "    .dataframe tbody tr th:only-of-type {\n",
              "        vertical-align: middle;\n",
              "    }\n",
              "\n",
              "    .dataframe tbody tr th {\n",
              "        vertical-align: top;\n",
              "    }\n",
              "\n",
              "    .dataframe thead th {\n",
              "        text-align: right;\n",
              "    }\n",
              "</style>\n",
              "<table border=\"1\" class=\"dataframe\">\n",
              "  <thead>\n",
              "    <tr style=\"text-align: right;\">\n",
              "      <th></th>\n",
              "      <th>grade</th>\n",
              "      <th>teacher</th>\n",
              "      <th>semester</th>\n",
              "    </tr>\n",
              "    <tr>\n",
              "      <th>subject</th>\n",
              "      <th></th>\n",
              "      <th></th>\n",
              "      <th></th>\n",
              "    </tr>\n",
              "  </thead>\n",
              "  <tbody>\n",
              "    <tr>\n",
              "      <th>digitális technika 1</th>\n",
              "      <td>4</td>\n",
              "      <td>b</td>\n",
              "      <td>1</td>\n",
              "    </tr>\n",
              "    <tr>\n",
              "      <th>fizika 1</th>\n",
              "      <td>3</td>\n",
              "      <td>a</td>\n",
              "      <td>2</td>\n",
              "    </tr>\n",
              "  </tbody>\n",
              "</table>\n",
              "</div>"
            ],
            "text/plain": [
              "                      grade teacher  semester\n",
              "subject                                      \n",
              "digitális technika 1      4       b         1\n",
              "fizika 1                  3       a         2"
            ]
          },
          "metadata": {
            "tags": []
          },
          "execution_count": 13
        }
      ]
    },
    {
      "cell_type": "markdown",
      "metadata": {
        "id": "xpgEmtmP_rBM"
      },
      "source": [
        "### Oszlopok kiválasztása az `iloc` segítségével"
      ]
    },
    {
      "cell_type": "code",
      "metadata": {
        "id": "CXD2uiNG_rBN",
        "colab": {
          "base_uri": "https://localhost:8080/",
          "height": 351
        },
        "outputId": "fc93cd5b-e763-463b-f15d-8af06bc74af9"
      },
      "source": [
        "grades.iloc[:, [0, 2]]"
      ],
      "execution_count": null,
      "outputs": [
        {
          "output_type": "execute_result",
          "data": {
            "text/html": [
              "<div>\n",
              "<style scoped>\n",
              "    .dataframe tbody tr th:only-of-type {\n",
              "        vertical-align: middle;\n",
              "    }\n",
              "\n",
              "    .dataframe tbody tr th {\n",
              "        vertical-align: top;\n",
              "    }\n",
              "\n",
              "    .dataframe thead th {\n",
              "        text-align: right;\n",
              "    }\n",
              "</style>\n",
              "<table border=\"1\" class=\"dataframe\">\n",
              "  <thead>\n",
              "    <tr style=\"text-align: right;\">\n",
              "      <th></th>\n",
              "      <th>grade</th>\n",
              "      <th>semester</th>\n",
              "    </tr>\n",
              "    <tr>\n",
              "      <th>subject</th>\n",
              "      <th></th>\n",
              "      <th></th>\n",
              "    </tr>\n",
              "  </thead>\n",
              "  <tbody>\n",
              "    <tr>\n",
              "      <th>analízis 1</th>\n",
              "      <td>3</td>\n",
              "      <td>1</td>\n",
              "    </tr>\n",
              "    <tr>\n",
              "      <th>digitális technika 1</th>\n",
              "      <td>4</td>\n",
              "      <td>1</td>\n",
              "    </tr>\n",
              "    <tr>\n",
              "      <th>fizika 1</th>\n",
              "      <td>3</td>\n",
              "      <td>2</td>\n",
              "    </tr>\n",
              "    <tr>\n",
              "      <th>mikmak</th>\n",
              "      <td>2</td>\n",
              "      <td>2</td>\n",
              "    </tr>\n",
              "    <tr>\n",
              "      <th>programozás alapjai 1</th>\n",
              "      <td>5</td>\n",
              "      <td>1</td>\n",
              "    </tr>\n",
              "    <tr>\n",
              "      <th>szoftvertechonológia</th>\n",
              "      <td>1</td>\n",
              "      <td>3</td>\n",
              "    </tr>\n",
              "    <tr>\n",
              "      <th>bevezetés a számításelméletbe 1</th>\n",
              "      <td>4</td>\n",
              "      <td>1</td>\n",
              "    </tr>\n",
              "  </tbody>\n",
              "</table>\n",
              "</div>"
            ],
            "text/plain": [
              "                                 grade  semester\n",
              "subject                                         \n",
              "analízis 1                           3         1\n",
              "digitális technika 1                 4         1\n",
              "fizika 1                             3         2\n",
              "mikmak                               2         2\n",
              "programozás alapjai 1                5         1\n",
              "szoftvertechonológia                 1         3\n",
              "bevezetés a számításelméletbe 1      4         1"
            ]
          },
          "metadata": {
            "tags": []
          },
          "execution_count": 14
        }
      ]
    },
    {
      "cell_type": "code",
      "metadata": {
        "id": "beobw-S-_rBP",
        "colab": {
          "base_uri": "https://localhost:8080/",
          "height": 351
        },
        "outputId": "f1476b46-9e08-4ddc-a262-648e06e27b46"
      },
      "source": [
        "grades.iloc[:, 1:-1]"
      ],
      "execution_count": null,
      "outputs": [
        {
          "output_type": "execute_result",
          "data": {
            "text/html": [
              "<div>\n",
              "<style scoped>\n",
              "    .dataframe tbody tr th:only-of-type {\n",
              "        vertical-align: middle;\n",
              "    }\n",
              "\n",
              "    .dataframe tbody tr th {\n",
              "        vertical-align: top;\n",
              "    }\n",
              "\n",
              "    .dataframe thead th {\n",
              "        text-align: right;\n",
              "    }\n",
              "</style>\n",
              "<table border=\"1\" class=\"dataframe\">\n",
              "  <thead>\n",
              "    <tr style=\"text-align: right;\">\n",
              "      <th></th>\n",
              "      <th>teacher</th>\n",
              "    </tr>\n",
              "    <tr>\n",
              "      <th>subject</th>\n",
              "      <th></th>\n",
              "    </tr>\n",
              "  </thead>\n",
              "  <tbody>\n",
              "    <tr>\n",
              "      <th>analízis 1</th>\n",
              "      <td>a</td>\n",
              "    </tr>\n",
              "    <tr>\n",
              "      <th>digitális technika 1</th>\n",
              "      <td>b</td>\n",
              "    </tr>\n",
              "    <tr>\n",
              "      <th>fizika 1</th>\n",
              "      <td>a</td>\n",
              "    </tr>\n",
              "    <tr>\n",
              "      <th>mikmak</th>\n",
              "      <td>c</td>\n",
              "    </tr>\n",
              "    <tr>\n",
              "      <th>programozás alapjai 1</th>\n",
              "      <td>d</td>\n",
              "    </tr>\n",
              "    <tr>\n",
              "      <th>szoftvertechonológia</th>\n",
              "      <td>d</td>\n",
              "    </tr>\n",
              "    <tr>\n",
              "      <th>bevezetés a számításelméletbe 1</th>\n",
              "      <td>d</td>\n",
              "    </tr>\n",
              "  </tbody>\n",
              "</table>\n",
              "</div>"
            ],
            "text/plain": [
              "                                teacher\n",
              "subject                                \n",
              "analízis 1                            a\n",
              "digitális technika 1                  b\n",
              "fizika 1                              a\n",
              "mikmak                                c\n",
              "programozás alapjai 1                 d\n",
              "szoftvertechonológia                  d\n",
              "bevezetés a számításelméletbe 1       d"
            ]
          },
          "metadata": {
            "tags": []
          },
          "execution_count": 15
        }
      ]
    },
    {
      "cell_type": "markdown",
      "metadata": {
        "id": "KSJCx58u_rBS"
      },
      "source": [
        "#### Tetszőleges sor és oszlop tartományok vagy kombinációk kiválasztása"
      ]
    },
    {
      "cell_type": "code",
      "metadata": {
        "id": "0scEbD8X_rBS",
        "colab": {
          "base_uri": "https://localhost:8080/",
          "height": 258
        },
        "outputId": "a0e55fe5-6c96-40f2-a5b9-580c5d30b7ee"
      },
      "source": [
        "grades.iloc[1:5, 1:2]"
      ],
      "execution_count": null,
      "outputs": [
        {
          "output_type": "execute_result",
          "data": {
            "text/html": [
              "<div>\n",
              "<style scoped>\n",
              "    .dataframe tbody tr th:only-of-type {\n",
              "        vertical-align: middle;\n",
              "    }\n",
              "\n",
              "    .dataframe tbody tr th {\n",
              "        vertical-align: top;\n",
              "    }\n",
              "\n",
              "    .dataframe thead th {\n",
              "        text-align: right;\n",
              "    }\n",
              "</style>\n",
              "<table border=\"1\" class=\"dataframe\">\n",
              "  <thead>\n",
              "    <tr style=\"text-align: right;\">\n",
              "      <th></th>\n",
              "      <th>teacher</th>\n",
              "    </tr>\n",
              "    <tr>\n",
              "      <th>subject</th>\n",
              "      <th></th>\n",
              "    </tr>\n",
              "  </thead>\n",
              "  <tbody>\n",
              "    <tr>\n",
              "      <th>digitális technika 1</th>\n",
              "      <td>b</td>\n",
              "    </tr>\n",
              "    <tr>\n",
              "      <th>fizika 1</th>\n",
              "      <td>a</td>\n",
              "    </tr>\n",
              "    <tr>\n",
              "      <th>mikmak</th>\n",
              "      <td>c</td>\n",
              "    </tr>\n",
              "    <tr>\n",
              "      <th>programozás alapjai 1</th>\n",
              "      <td>d</td>\n",
              "    </tr>\n",
              "  </tbody>\n",
              "</table>\n",
              "</div>"
            ],
            "text/plain": [
              "                      teacher\n",
              "subject                      \n",
              "digitális technika 1        b\n",
              "fizika 1                    a\n",
              "mikmak                      c\n",
              "programozás alapjai 1       d"
            ]
          },
          "metadata": {
            "tags": []
          },
          "execution_count": 16
        }
      ]
    },
    {
      "cell_type": "markdown",
      "metadata": {
        "id": "pnGsSHYw_rBU"
      },
      "source": [
        "Egy sort vagy oszlopot többször is lekérdezhetünk, ráadásul akármilyen sorrendben."
      ]
    },
    {
      "cell_type": "code",
      "metadata": {
        "id": "B1SAcgi2_rBV",
        "colab": {
          "base_uri": "https://localhost:8080/",
          "height": 244
        },
        "outputId": "13ccff56-eec7-4981-b78f-aa7efd24d456"
      },
      "source": [
        "grades.iloc[[4, 1, 1], [2, 1, 2]]"
      ],
      "execution_count": null,
      "outputs": [
        {
          "output_type": "execute_result",
          "data": {
            "text/html": [
              "<div>\n",
              "<style scoped>\n",
              "    .dataframe tbody tr th:only-of-type {\n",
              "        vertical-align: middle;\n",
              "    }\n",
              "\n",
              "    .dataframe tbody tr th {\n",
              "        vertical-align: top;\n",
              "    }\n",
              "\n",
              "    .dataframe thead th {\n",
              "        text-align: right;\n",
              "    }\n",
              "</style>\n",
              "<table border=\"1\" class=\"dataframe\">\n",
              "  <thead>\n",
              "    <tr style=\"text-align: right;\">\n",
              "      <th></th>\n",
              "      <th>semester</th>\n",
              "      <th>teacher</th>\n",
              "      <th>semester</th>\n",
              "    </tr>\n",
              "    <tr>\n",
              "      <th>subject</th>\n",
              "      <th></th>\n",
              "      <th></th>\n",
              "      <th></th>\n",
              "    </tr>\n",
              "  </thead>\n",
              "  <tbody>\n",
              "    <tr>\n",
              "      <th>programozás alapjai 1</th>\n",
              "      <td>1</td>\n",
              "      <td>d</td>\n",
              "      <td>1</td>\n",
              "    </tr>\n",
              "    <tr>\n",
              "      <th>digitális technika 1</th>\n",
              "      <td>1</td>\n",
              "      <td>b</td>\n",
              "      <td>1</td>\n",
              "    </tr>\n",
              "    <tr>\n",
              "      <th>digitális technika 1</th>\n",
              "      <td>1</td>\n",
              "      <td>b</td>\n",
              "      <td>1</td>\n",
              "    </tr>\n",
              "  </tbody>\n",
              "</table>\n",
              "</div>"
            ],
            "text/plain": [
              "                       semester teacher  semester\n",
              "subject                                          \n",
              "programozás alapjai 1         1       d         1\n",
              "digitális technika 1          1       b         1\n",
              "digitális technika 1          1       b         1"
            ]
          },
          "metadata": {
            "tags": []
          },
          "execution_count": 17
        }
      ]
    },
    {
      "cell_type": "markdown",
      "metadata": {
        "id": "BmKFo9QC_rBX"
      },
      "source": [
        "# Egyetlen mező kiválasztása\n",
        "\n",
        "Egy mező tartalmát sokféleképpen kiválaszthatjuk, talán így a legegyszerűbb:"
      ]
    },
    {
      "cell_type": "code",
      "metadata": {
        "id": "ELFlQyXf_rBY",
        "colab": {
          "base_uri": "https://localhost:8080/"
        },
        "outputId": "a5ba7c86-7a80-4869-e88e-166cedb39f9a"
      },
      "source": [
        "grades.loc['fizika 1', 'grade']"
      ],
      "execution_count": null,
      "outputs": [
        {
          "output_type": "execute_result",
          "data": {
            "text/plain": [
              "3"
            ]
          },
          "metadata": {
            "tags": []
          },
          "execution_count": 18
        }
      ]
    },
    {
      "cell_type": "markdown",
      "metadata": {
        "id": "8lG-IPfR_rBa"
      },
      "source": [
        "# Szűrés\n",
        "\n",
        "A DataFrame-ek sorain egyszerre végezhetünk műveleteket:"
      ]
    },
    {
      "cell_type": "code",
      "metadata": {
        "id": "ST09HyFn_rBa",
        "colab": {
          "base_uri": "https://localhost:8080/"
        },
        "outputId": "f1df09d0-a20d-48bc-8a42-23fbc8fac908"
      },
      "source": [
        "grades.semester == 1"
      ],
      "execution_count": null,
      "outputs": [
        {
          "output_type": "execute_result",
          "data": {
            "text/plain": [
              "subject\n",
              "analízis 1                          True\n",
              "digitális technika 1                True\n",
              "fizika 1                           False\n",
              "mikmak                             False\n",
              "programozás alapjai 1               True\n",
              "szoftvertechonológia               False\n",
              "bevezetés a számításelméletbe 1     True\n",
              "Name: semester, dtype: bool"
            ]
          },
          "metadata": {
            "tags": []
          },
          "execution_count": 19
        }
      ]
    },
    {
      "cell_type": "markdown",
      "metadata": {
        "id": "kgj-lR4L_rBd"
      },
      "source": [
        "Ekkor azokra a sorokra kapunk True-t, ahol igaz a feltétel. A feltételek kombinálhatóak, a zárójelezésre figyelni kell:"
      ]
    },
    {
      "cell_type": "code",
      "metadata": {
        "id": "DVbhrCdl_rBd",
        "colab": {
          "base_uri": "https://localhost:8080/"
        },
        "outputId": "f1e2880c-5cb7-4619-bf43-998cd63932fc"
      },
      "source": [
        "(grades.semester == 1) & (grades.teacher == 'a')"
      ],
      "execution_count": null,
      "outputs": [
        {
          "output_type": "execute_result",
          "data": {
            "text/plain": [
              "subject\n",
              "analízis 1                          True\n",
              "digitális technika 1               False\n",
              "fizika 1                           False\n",
              "mikmak                             False\n",
              "programozás alapjai 1              False\n",
              "szoftvertechonológia               False\n",
              "bevezetés a számításelméletbe 1    False\n",
              "dtype: bool"
            ]
          },
          "metadata": {
            "tags": []
          },
          "execution_count": 20
        }
      ]
    },
    {
      "cell_type": "markdown",
      "metadata": {
        "id": "cHRCYS8G_rBh"
      },
      "source": [
        "Az igazságértékek sorozatával pedig szűrhetjük a DataFrame-eket:"
      ]
    },
    {
      "cell_type": "code",
      "metadata": {
        "id": "Ykom3R5A_rBi",
        "colab": {
          "base_uri": "https://localhost:8080/",
          "height": 292
        },
        "outputId": "bfb3f059-c420-4c5f-9ad8-c9f6a465dbd1"
      },
      "source": [
        "grades[grades.semester==1]"
      ],
      "execution_count": null,
      "outputs": [
        {
          "output_type": "execute_result",
          "data": {
            "text/html": [
              "<div>\n",
              "<style scoped>\n",
              "    .dataframe tbody tr th:only-of-type {\n",
              "        vertical-align: middle;\n",
              "    }\n",
              "\n",
              "    .dataframe tbody tr th {\n",
              "        vertical-align: top;\n",
              "    }\n",
              "\n",
              "    .dataframe thead th {\n",
              "        text-align: right;\n",
              "    }\n",
              "</style>\n",
              "<table border=\"1\" class=\"dataframe\">\n",
              "  <thead>\n",
              "    <tr style=\"text-align: right;\">\n",
              "      <th></th>\n",
              "      <th>grade</th>\n",
              "      <th>teacher</th>\n",
              "      <th>semester</th>\n",
              "    </tr>\n",
              "    <tr>\n",
              "      <th>subject</th>\n",
              "      <th></th>\n",
              "      <th></th>\n",
              "      <th></th>\n",
              "    </tr>\n",
              "  </thead>\n",
              "  <tbody>\n",
              "    <tr>\n",
              "      <th>analízis 1</th>\n",
              "      <td>3</td>\n",
              "      <td>a</td>\n",
              "      <td>1</td>\n",
              "    </tr>\n",
              "    <tr>\n",
              "      <th>digitális technika 1</th>\n",
              "      <td>4</td>\n",
              "      <td>b</td>\n",
              "      <td>1</td>\n",
              "    </tr>\n",
              "    <tr>\n",
              "      <th>programozás alapjai 1</th>\n",
              "      <td>5</td>\n",
              "      <td>d</td>\n",
              "      <td>1</td>\n",
              "    </tr>\n",
              "    <tr>\n",
              "      <th>bevezetés a számításelméletbe 1</th>\n",
              "      <td>4</td>\n",
              "      <td>d</td>\n",
              "      <td>1</td>\n",
              "    </tr>\n",
              "  </tbody>\n",
              "</table>\n",
              "</div>"
            ],
            "text/plain": [
              "                                 grade teacher  semester\n",
              "subject                                                 \n",
              "analízis 1                           3       a         1\n",
              "digitális technika 1                 4       b         1\n",
              "programozás alapjai 1                5       d         1\n",
              "bevezetés a számításelméletbe 1      4       d         1"
            ]
          },
          "metadata": {
            "tags": []
          },
          "execution_count": 21
        }
      ]
    },
    {
      "cell_type": "code",
      "metadata": {
        "id": "07iRtD-G_rBl",
        "colab": {
          "base_uri": "https://localhost:8080/",
          "height": 148
        },
        "outputId": "fbeb82e1-d348-40da-fe4a-4f7eeed1b827"
      },
      "source": [
        "grades[(grades.semester == 1) & (grades.teacher == 'a')]"
      ],
      "execution_count": null,
      "outputs": [
        {
          "output_type": "execute_result",
          "data": {
            "text/html": [
              "<div>\n",
              "<style scoped>\n",
              "    .dataframe tbody tr th:only-of-type {\n",
              "        vertical-align: middle;\n",
              "    }\n",
              "\n",
              "    .dataframe tbody tr th {\n",
              "        vertical-align: top;\n",
              "    }\n",
              "\n",
              "    .dataframe thead th {\n",
              "        text-align: right;\n",
              "    }\n",
              "</style>\n",
              "<table border=\"1\" class=\"dataframe\">\n",
              "  <thead>\n",
              "    <tr style=\"text-align: right;\">\n",
              "      <th></th>\n",
              "      <th>grade</th>\n",
              "      <th>teacher</th>\n",
              "      <th>semester</th>\n",
              "    </tr>\n",
              "    <tr>\n",
              "      <th>subject</th>\n",
              "      <th></th>\n",
              "      <th></th>\n",
              "      <th></th>\n",
              "    </tr>\n",
              "  </thead>\n",
              "  <tbody>\n",
              "    <tr>\n",
              "      <th>analízis 1</th>\n",
              "      <td>3</td>\n",
              "      <td>a</td>\n",
              "      <td>1</td>\n",
              "    </tr>\n",
              "  </tbody>\n",
              "</table>\n",
              "</div>"
            ],
            "text/plain": [
              "            grade teacher  semester\n",
              "subject                            \n",
              "analízis 1      3       a         1"
            ]
          },
          "metadata": {
            "tags": []
          },
          "execution_count": 22
        }
      ]
    },
    {
      "cell_type": "markdown",
      "metadata": {
        "id": "KUJcu9Qt_rBn"
      },
      "source": [
        "# Vektoros műveletvégzés\n",
        "\n",
        "A pandas DataFrame-jeire és Series-eire az aritmetikai operátorok túl vannak terhelve, ezért egyszerre végezhetünk az egész táblán műveleteket."
      ]
    },
    {
      "cell_type": "code",
      "metadata": {
        "id": "ANBFSIAC_rBn",
        "colab": {
          "base_uri": "https://localhost:8080/",
          "height": 297
        },
        "outputId": "a531a9bc-1ea0-4901-88d4-8bc7295b489f"
      },
      "source": [
        "grades[['grade', 'semester']] + 15"
      ],
      "execution_count": null,
      "outputs": [
        {
          "output_type": "execute_result",
          "data": {
            "text/html": [
              "<div>\n",
              "<style scoped>\n",
              "    .dataframe tbody tr th:only-of-type {\n",
              "        vertical-align: middle;\n",
              "    }\n",
              "\n",
              "    .dataframe tbody tr th {\n",
              "        vertical-align: top;\n",
              "    }\n",
              "\n",
              "    .dataframe thead th {\n",
              "        text-align: right;\n",
              "    }\n",
              "</style>\n",
              "<table border=\"1\" class=\"dataframe\">\n",
              "  <thead>\n",
              "    <tr style=\"text-align: right;\">\n",
              "      <th></th>\n",
              "      <th>grade</th>\n",
              "      <th>semester</th>\n",
              "    </tr>\n",
              "    <tr>\n",
              "      <th>subject</th>\n",
              "      <th></th>\n",
              "      <th></th>\n",
              "    </tr>\n",
              "  </thead>\n",
              "  <tbody>\n",
              "    <tr>\n",
              "      <th>analízis 1</th>\n",
              "      <td>18</td>\n",
              "      <td>16</td>\n",
              "    </tr>\n",
              "    <tr>\n",
              "      <th>digitális technika 1</th>\n",
              "      <td>19</td>\n",
              "      <td>16</td>\n",
              "    </tr>\n",
              "    <tr>\n",
              "      <th>fizika 1</th>\n",
              "      <td>18</td>\n",
              "      <td>17</td>\n",
              "    </tr>\n",
              "    <tr>\n",
              "      <th>mikmak</th>\n",
              "      <td>17</td>\n",
              "      <td>17</td>\n",
              "    </tr>\n",
              "    <tr>\n",
              "      <th>programozás alapjai 1</th>\n",
              "      <td>20</td>\n",
              "      <td>16</td>\n",
              "    </tr>\n",
              "    <tr>\n",
              "      <th>szoftvertechonológia</th>\n",
              "      <td>16</td>\n",
              "      <td>18</td>\n",
              "    </tr>\n",
              "    <tr>\n",
              "      <th>bevezetés a számításelméletbe 1</th>\n",
              "      <td>19</td>\n",
              "      <td>16</td>\n",
              "    </tr>\n",
              "  </tbody>\n",
              "</table>\n",
              "</div>"
            ],
            "text/plain": [
              "                                 grade  semester\n",
              "subject                                         \n",
              "analízis 1                          18        16\n",
              "digitális technika 1                19        16\n",
              "fizika 1                            18        17\n",
              "mikmak                              17        17\n",
              "programozás alapjai 1               20        16\n",
              "szoftvertechonológia                16        18\n",
              "bevezetés a számításelméletbe 1     19        16"
            ]
          },
          "metadata": {
            "tags": []
          },
          "execution_count": 23
        }
      ]
    },
    {
      "cell_type": "markdown",
      "metadata": {
        "id": "cE9AVQGZ_rBp"
      },
      "source": [
        "## Az index is hasonlóan manipulálható "
      ]
    },
    {
      "cell_type": "code",
      "metadata": {
        "id": "VNq4-FXI_rBq",
        "colab": {
          "base_uri": "https://localhost:8080/"
        },
        "outputId": "90fac821-f41c-4726-b2c9-8c239936c8ff"
      },
      "source": [
        "grades.index.str.upper()"
      ],
      "execution_count": null,
      "outputs": [
        {
          "output_type": "execute_result",
          "data": {
            "text/plain": [
              "Index(['ANALÍZIS 1', 'DIGITÁLIS TECHNIKA 1', 'FIZIKA 1', 'MIKMAK',\n",
              "       'PROGRAMOZÁS ALAPJAI 1', 'SZOFTVERTECHONOLÓGIA',\n",
              "       'BEVEZETÉS A SZÁMÍTÁSELMÉLETBE 1'],\n",
              "      dtype='object', name='subject')"
            ]
          },
          "metadata": {
            "tags": []
          },
          "execution_count": 24
        }
      ]
    },
    {
      "cell_type": "markdown",
      "metadata": {
        "id": "BsMCdIAB_rBt"
      },
      "source": [
        "Át is állítható:"
      ]
    },
    {
      "cell_type": "code",
      "metadata": {
        "id": "EbxFk_z__rBt",
        "outputId": "1d4d2c60-7a7d-4e89-ac77-88ed0f9d2439"
      },
      "source": [
        "grades.index = grades.index.str.upper()\n",
        "grades"
      ],
      "execution_count": null,
      "outputs": [
        {
          "output_type": "execute_result",
          "data": {
            "text/html": [
              "<div>\n",
              "<style scoped>\n",
              "    .dataframe tbody tr th:only-of-type {\n",
              "        vertical-align: middle;\n",
              "    }\n",
              "\n",
              "    .dataframe tbody tr th {\n",
              "        vertical-align: top;\n",
              "    }\n",
              "\n",
              "    .dataframe thead th {\n",
              "        text-align: right;\n",
              "    }\n",
              "</style>\n",
              "<table border=\"1\" class=\"dataframe\">\n",
              "  <thead>\n",
              "    <tr style=\"text-align: right;\">\n",
              "      <th></th>\n",
              "      <th>grade</th>\n",
              "      <th>semester</th>\n",
              "      <th>teacher</th>\n",
              "    </tr>\n",
              "    <tr>\n",
              "      <th>subject</th>\n",
              "      <th></th>\n",
              "      <th></th>\n",
              "      <th></th>\n",
              "    </tr>\n",
              "  </thead>\n",
              "  <tbody>\n",
              "    <tr>\n",
              "      <th>ANALÍZIS 1</th>\n",
              "      <td>3</td>\n",
              "      <td>1</td>\n",
              "      <td>a</td>\n",
              "    </tr>\n",
              "    <tr>\n",
              "      <th>DIGITÁLIS TECHNIKA 1</th>\n",
              "      <td>4</td>\n",
              "      <td>1</td>\n",
              "      <td>b</td>\n",
              "    </tr>\n",
              "    <tr>\n",
              "      <th>FIZIKA 1</th>\n",
              "      <td>3</td>\n",
              "      <td>2</td>\n",
              "      <td>a</td>\n",
              "    </tr>\n",
              "    <tr>\n",
              "      <th>MIKMAK</th>\n",
              "      <td>2</td>\n",
              "      <td>2</td>\n",
              "      <td>c</td>\n",
              "    </tr>\n",
              "    <tr>\n",
              "      <th>PROGRAMOZÁS ALAPJAI 1</th>\n",
              "      <td>5</td>\n",
              "      <td>1</td>\n",
              "      <td>d</td>\n",
              "    </tr>\n",
              "    <tr>\n",
              "      <th>SZOFTVERTECHONOLÓGIA</th>\n",
              "      <td>1</td>\n",
              "      <td>3</td>\n",
              "      <td>d</td>\n",
              "    </tr>\n",
              "    <tr>\n",
              "      <th>BEVEZETÉS A SZÁMÍTÁSELMÉLETBE 1</th>\n",
              "      <td>4</td>\n",
              "      <td>1</td>\n",
              "      <td>d</td>\n",
              "    </tr>\n",
              "  </tbody>\n",
              "</table>\n",
              "</div>"
            ],
            "text/plain": [
              "                                 grade  semester teacher\n",
              "subject                                                 \n",
              "ANALÍZIS 1                           3         1       a\n",
              "DIGITÁLIS TECHNIKA 1                 4         1       b\n",
              "FIZIKA 1                             3         2       a\n",
              "MIKMAK                               2         2       c\n",
              "PROGRAMOZÁS ALAPJAI 1                5         1       d\n",
              "SZOFTVERTECHONOLÓGIA                 1         3       d\n",
              "BEVEZETÉS A SZÁMÍTÁSELMÉLETBE 1      4         1       d"
            ]
          },
          "metadata": {
            "tags": []
          },
          "execution_count": 25
        }
      ]
    },
    {
      "cell_type": "markdown",
      "metadata": {
        "id": "yBvvz0kk_rBv"
      },
      "source": [
        "Majd visszaállítható:"
      ]
    },
    {
      "cell_type": "code",
      "metadata": {
        "id": "pngLw_d3_rBw",
        "outputId": "d74c1cda-e759-4191-9aa3-32ef4ac3eab3"
      },
      "source": [
        "grades.index = grades.index.str.lower()\n",
        "grades"
      ],
      "execution_count": null,
      "outputs": [
        {
          "output_type": "execute_result",
          "data": {
            "text/html": [
              "<div>\n",
              "<style scoped>\n",
              "    .dataframe tbody tr th:only-of-type {\n",
              "        vertical-align: middle;\n",
              "    }\n",
              "\n",
              "    .dataframe tbody tr th {\n",
              "        vertical-align: top;\n",
              "    }\n",
              "\n",
              "    .dataframe thead th {\n",
              "        text-align: right;\n",
              "    }\n",
              "</style>\n",
              "<table border=\"1\" class=\"dataframe\">\n",
              "  <thead>\n",
              "    <tr style=\"text-align: right;\">\n",
              "      <th></th>\n",
              "      <th>grade</th>\n",
              "      <th>semester</th>\n",
              "      <th>teacher</th>\n",
              "    </tr>\n",
              "    <tr>\n",
              "      <th>subject</th>\n",
              "      <th></th>\n",
              "      <th></th>\n",
              "      <th></th>\n",
              "    </tr>\n",
              "  </thead>\n",
              "  <tbody>\n",
              "    <tr>\n",
              "      <th>analízis 1</th>\n",
              "      <td>3</td>\n",
              "      <td>1</td>\n",
              "      <td>a</td>\n",
              "    </tr>\n",
              "    <tr>\n",
              "      <th>digitális technika 1</th>\n",
              "      <td>4</td>\n",
              "      <td>1</td>\n",
              "      <td>b</td>\n",
              "    </tr>\n",
              "    <tr>\n",
              "      <th>fizika 1</th>\n",
              "      <td>3</td>\n",
              "      <td>2</td>\n",
              "      <td>a</td>\n",
              "    </tr>\n",
              "    <tr>\n",
              "      <th>mikmak</th>\n",
              "      <td>2</td>\n",
              "      <td>2</td>\n",
              "      <td>c</td>\n",
              "    </tr>\n",
              "    <tr>\n",
              "      <th>programozás alapjai 1</th>\n",
              "      <td>5</td>\n",
              "      <td>1</td>\n",
              "      <td>d</td>\n",
              "    </tr>\n",
              "    <tr>\n",
              "      <th>szoftvertechonológia</th>\n",
              "      <td>1</td>\n",
              "      <td>3</td>\n",
              "      <td>d</td>\n",
              "    </tr>\n",
              "    <tr>\n",
              "      <th>bevezetés a számításelméletbe 1</th>\n",
              "      <td>4</td>\n",
              "      <td>1</td>\n",
              "      <td>d</td>\n",
              "    </tr>\n",
              "  </tbody>\n",
              "</table>\n",
              "</div>"
            ],
            "text/plain": [
              "                                 grade  semester teacher\n",
              "subject                                                 \n",
              "analízis 1                           3         1       a\n",
              "digitális technika 1                 4         1       b\n",
              "fizika 1                             3         2       a\n",
              "mikmak                               2         2       c\n",
              "programozás alapjai 1                5         1       d\n",
              "szoftvertechonológia                 1         3       d\n",
              "bevezetés a számításelméletbe 1      4         1       d"
            ]
          },
          "metadata": {
            "tags": []
          },
          "execution_count": 26
        }
      ]
    },
    {
      "cell_type": "markdown",
      "metadata": {
        "id": "6zdUXC7e_rBy"
      },
      "source": [
        "# Több DataFrame kezelése, merge"
      ]
    },
    {
      "cell_type": "code",
      "metadata": {
        "id": "uAY6ATWW_rBy",
        "outputId": "de149df0-1717-4adb-ccfd-6f862de36744"
      },
      "source": [
        "credits = pd.DataFrame(\n",
        "    {\n",
        "        'subject': ['analízis 1', 'fizika 1', 'programozás alapjai 2'],\n",
        "        'credit': [7, 5, 5]\n",
        "    }\n",
        ")\n",
        "credits"
      ],
      "execution_count": null,
      "outputs": [
        {
          "output_type": "execute_result",
          "data": {
            "text/html": [
              "<div>\n",
              "<style scoped>\n",
              "    .dataframe tbody tr th:only-of-type {\n",
              "        vertical-align: middle;\n",
              "    }\n",
              "\n",
              "    .dataframe tbody tr th {\n",
              "        vertical-align: top;\n",
              "    }\n",
              "\n",
              "    .dataframe thead th {\n",
              "        text-align: right;\n",
              "    }\n",
              "</style>\n",
              "<table border=\"1\" class=\"dataframe\">\n",
              "  <thead>\n",
              "    <tr style=\"text-align: right;\">\n",
              "      <th></th>\n",
              "      <th>credit</th>\n",
              "      <th>subject</th>\n",
              "    </tr>\n",
              "  </thead>\n",
              "  <tbody>\n",
              "    <tr>\n",
              "      <th>0</th>\n",
              "      <td>7</td>\n",
              "      <td>analízis 1</td>\n",
              "    </tr>\n",
              "    <tr>\n",
              "      <th>1</th>\n",
              "      <td>5</td>\n",
              "      <td>fizika 1</td>\n",
              "    </tr>\n",
              "    <tr>\n",
              "      <th>2</th>\n",
              "      <td>5</td>\n",
              "      <td>programozás alapjai 2</td>\n",
              "    </tr>\n",
              "  </tbody>\n",
              "</table>\n",
              "</div>"
            ],
            "text/plain": [
              "   credit                subject\n",
              "0       7             analízis 1\n",
              "1       5               fizika 1\n",
              "2       5  programozás alapjai 2"
            ]
          },
          "metadata": {
            "tags": []
          },
          "execution_count": 27
        }
      ]
    },
    {
      "cell_type": "markdown",
      "metadata": {
        "id": "XK73j57K_rB0"
      },
      "source": [
        "## Hány kreditet érnek a tárgyak, amikre jegyet kaptunk?"
      ]
    },
    {
      "cell_type": "code",
      "metadata": {
        "id": "lyfbiWVP_rB0",
        "outputId": "bf1628f2-1e03-4f2e-b54f-69033e9bc567"
      },
      "source": [
        "d = grades.merge(credits, left_index=True, right_on='subject', how='outer')\n",
        "\n",
        "d"
      ],
      "execution_count": null,
      "outputs": [
        {
          "output_type": "execute_result",
          "data": {
            "text/html": [
              "<div>\n",
              "<style scoped>\n",
              "    .dataframe tbody tr th:only-of-type {\n",
              "        vertical-align: middle;\n",
              "    }\n",
              "\n",
              "    .dataframe tbody tr th {\n",
              "        vertical-align: top;\n",
              "    }\n",
              "\n",
              "    .dataframe thead th {\n",
              "        text-align: right;\n",
              "    }\n",
              "</style>\n",
              "<table border=\"1\" class=\"dataframe\">\n",
              "  <thead>\n",
              "    <tr style=\"text-align: right;\">\n",
              "      <th></th>\n",
              "      <th>grade</th>\n",
              "      <th>semester</th>\n",
              "      <th>teacher</th>\n",
              "      <th>credit</th>\n",
              "      <th>subject</th>\n",
              "    </tr>\n",
              "  </thead>\n",
              "  <tbody>\n",
              "    <tr>\n",
              "      <th>0</th>\n",
              "      <td>3.0</td>\n",
              "      <td>1.0</td>\n",
              "      <td>a</td>\n",
              "      <td>7.0</td>\n",
              "      <td>analízis 1</td>\n",
              "    </tr>\n",
              "    <tr>\n",
              "      <th>2</th>\n",
              "      <td>4.0</td>\n",
              "      <td>1.0</td>\n",
              "      <td>b</td>\n",
              "      <td>NaN</td>\n",
              "      <td>digitális technika 1</td>\n",
              "    </tr>\n",
              "    <tr>\n",
              "      <th>1</th>\n",
              "      <td>3.0</td>\n",
              "      <td>2.0</td>\n",
              "      <td>a</td>\n",
              "      <td>5.0</td>\n",
              "      <td>fizika 1</td>\n",
              "    </tr>\n",
              "    <tr>\n",
              "      <th>2</th>\n",
              "      <td>2.0</td>\n",
              "      <td>2.0</td>\n",
              "      <td>c</td>\n",
              "      <td>NaN</td>\n",
              "      <td>mikmak</td>\n",
              "    </tr>\n",
              "    <tr>\n",
              "      <th>2</th>\n",
              "      <td>5.0</td>\n",
              "      <td>1.0</td>\n",
              "      <td>d</td>\n",
              "      <td>NaN</td>\n",
              "      <td>programozás alapjai 1</td>\n",
              "    </tr>\n",
              "    <tr>\n",
              "      <th>2</th>\n",
              "      <td>1.0</td>\n",
              "      <td>3.0</td>\n",
              "      <td>d</td>\n",
              "      <td>NaN</td>\n",
              "      <td>szoftvertechonológia</td>\n",
              "    </tr>\n",
              "    <tr>\n",
              "      <th>2</th>\n",
              "      <td>4.0</td>\n",
              "      <td>1.0</td>\n",
              "      <td>d</td>\n",
              "      <td>NaN</td>\n",
              "      <td>bevezetés a számításelméletbe 1</td>\n",
              "    </tr>\n",
              "    <tr>\n",
              "      <th>2</th>\n",
              "      <td>NaN</td>\n",
              "      <td>NaN</td>\n",
              "      <td>NaN</td>\n",
              "      <td>5.0</td>\n",
              "      <td>programozás alapjai 2</td>\n",
              "    </tr>\n",
              "  </tbody>\n",
              "</table>\n",
              "</div>"
            ],
            "text/plain": [
              "   grade  semester teacher  credit                          subject\n",
              "0    3.0       1.0       a     7.0                       analízis 1\n",
              "2    4.0       1.0       b     NaN             digitális technika 1\n",
              "1    3.0       2.0       a     5.0                         fizika 1\n",
              "2    2.0       2.0       c     NaN                           mikmak\n",
              "2    5.0       1.0       d     NaN            programozás alapjai 1\n",
              "2    1.0       3.0       d     NaN             szoftvertechonológia\n",
              "2    4.0       1.0       d     NaN  bevezetés a számításelméletbe 1\n",
              "2    NaN       NaN     NaN     5.0            programozás alapjai 2"
            ]
          },
          "metadata": {
            "tags": []
          },
          "execution_count": 28
        }
      ]
    },
    {
      "cell_type": "markdown",
      "metadata": {
        "id": "FGl6hsmN_rB3"
      },
      "source": [
        "### A paraméterek magyarázata:\n",
        "\n",
        "1. `left_index`: a baloldali DataFrame (grades ebben az esetben) indexe mentén joinoljon.\n",
        "2. `right_on`: a jobboldali DataFrame (credits) subject mezője mentén joinoljon.\n",
        "3. `how`: inner/outer. Egyezik az SQL-es joinnal.\n",
        "\n",
        "### A joinolni kívánt mező kétféle lehet:\n",
        "\n",
        "1. index: ekkor az indexként használt oszlopot próbálja a másik táblázattal joinolni. `left_index=True`-ra kell állítani.\n",
        "2. nem index: egy vagy több nem indexként használt oszlop mentén próbál meg joinolni. `left_on=col1` vagy `left_on=[col1, col2]`"
      ]
    },
    {
      "cell_type": "code",
      "metadata": {
        "id": "rTtU6iK9_rB3",
        "outputId": "bb28cd96-5c47-4ec5-91a5-bf6fad85fcf3"
      },
      "source": [
        "grades.merge(credits, left_index=True, right_on='subject', how='inner')"
      ],
      "execution_count": null,
      "outputs": [
        {
          "output_type": "execute_result",
          "data": {
            "text/html": [
              "<div>\n",
              "<style scoped>\n",
              "    .dataframe tbody tr th:only-of-type {\n",
              "        vertical-align: middle;\n",
              "    }\n",
              "\n",
              "    .dataframe tbody tr th {\n",
              "        vertical-align: top;\n",
              "    }\n",
              "\n",
              "    .dataframe thead th {\n",
              "        text-align: right;\n",
              "    }\n",
              "</style>\n",
              "<table border=\"1\" class=\"dataframe\">\n",
              "  <thead>\n",
              "    <tr style=\"text-align: right;\">\n",
              "      <th></th>\n",
              "      <th>grade</th>\n",
              "      <th>semester</th>\n",
              "      <th>teacher</th>\n",
              "      <th>credit</th>\n",
              "      <th>subject</th>\n",
              "    </tr>\n",
              "  </thead>\n",
              "  <tbody>\n",
              "    <tr>\n",
              "      <th>0</th>\n",
              "      <td>3</td>\n",
              "      <td>1</td>\n",
              "      <td>a</td>\n",
              "      <td>7</td>\n",
              "      <td>analízis 1</td>\n",
              "    </tr>\n",
              "    <tr>\n",
              "      <th>1</th>\n",
              "      <td>3</td>\n",
              "      <td>2</td>\n",
              "      <td>a</td>\n",
              "      <td>5</td>\n",
              "      <td>fizika 1</td>\n",
              "    </tr>\n",
              "  </tbody>\n",
              "</table>\n",
              "</div>"
            ],
            "text/plain": [
              "   grade  semester teacher  credit     subject\n",
              "0      3         1       a       7  analízis 1\n",
              "1      3         2       a       5    fizika 1"
            ]
          },
          "metadata": {
            "tags": []
          },
          "execution_count": 29
        }
      ]
    },
    {
      "cell_type": "markdown",
      "metadata": {
        "id": "mtp5LIGE_rB5"
      },
      "source": [
        "## Érvénytelen adatok eldobása "
      ]
    },
    {
      "cell_type": "markdown",
      "metadata": {
        "id": "ADFwn5eu_rB5"
      },
      "source": [
        "Látható, hogy nem minden tárgyhoz sikerült megtalálni a kreditszámot, hiszen nem mindegyik szerepelt a credits táblában.\n",
        "\n",
        "A pandas NaN (not a number) tölti fel a hiányzó mezőket. Szerencsére a legtöbb műveletnek megmondhatjuk, hogy hogyan bánjon a NaN-okkal. Meg is szabadulhatunk tőlük:"
      ]
    },
    {
      "cell_type": "code",
      "metadata": {
        "id": "Dy30cIWO_rB6",
        "outputId": "dfa88814-e91e-4fed-c521-fe4fdf0daae9"
      },
      "source": [
        "d = d.dropna()\n",
        "d"
      ],
      "execution_count": null,
      "outputs": [
        {
          "output_type": "execute_result",
          "data": {
            "text/html": [
              "<div>\n",
              "<style scoped>\n",
              "    .dataframe tbody tr th:only-of-type {\n",
              "        vertical-align: middle;\n",
              "    }\n",
              "\n",
              "    .dataframe tbody tr th {\n",
              "        vertical-align: top;\n",
              "    }\n",
              "\n",
              "    .dataframe thead th {\n",
              "        text-align: right;\n",
              "    }\n",
              "</style>\n",
              "<table border=\"1\" class=\"dataframe\">\n",
              "  <thead>\n",
              "    <tr style=\"text-align: right;\">\n",
              "      <th></th>\n",
              "      <th>grade</th>\n",
              "      <th>semester</th>\n",
              "      <th>teacher</th>\n",
              "      <th>credit</th>\n",
              "      <th>subject</th>\n",
              "    </tr>\n",
              "  </thead>\n",
              "  <tbody>\n",
              "    <tr>\n",
              "      <th>0</th>\n",
              "      <td>3.0</td>\n",
              "      <td>1.0</td>\n",
              "      <td>a</td>\n",
              "      <td>7.0</td>\n",
              "      <td>analízis 1</td>\n",
              "    </tr>\n",
              "    <tr>\n",
              "      <th>1</th>\n",
              "      <td>3.0</td>\n",
              "      <td>2.0</td>\n",
              "      <td>a</td>\n",
              "      <td>5.0</td>\n",
              "      <td>fizika 1</td>\n",
              "    </tr>\n",
              "  </tbody>\n",
              "</table>\n",
              "</div>"
            ],
            "text/plain": [
              "   grade  semester teacher  credit     subject\n",
              "0    3.0       1.0       a     7.0  analízis 1\n",
              "1    3.0       2.0       a     5.0    fizika 1"
            ]
          },
          "metadata": {
            "tags": []
          },
          "execution_count": 30
        }
      ]
    },
    {
      "cell_type": "markdown",
      "metadata": {
        "id": "6oEFguC3_rB7"
      },
      "source": [
        "# Szélsőérték-keresés (max, idxmax)\n",
        "\n",
        "Sokszor vagyunk kíváncsiak arra, hogy mi egy oszlop maximuma/minimuma vagy éppen hol veszi fel ezt az értéket (argmax). A pandas tartalmaz erre beépített függvényeket.\n",
        "\n",
        "## DataFrame-re\n",
        "\n",
        "Mi az egyes oszlopok maximuma?"
      ]
    },
    {
      "cell_type": "code",
      "metadata": {
        "id": "lWhO96ms_rB8",
        "outputId": "4b0b5fe8-3e75-438e-d75a-88f56205b7ec"
      },
      "source": [
        "print(type(grades.max()))\n",
        "grades.max()"
      ],
      "execution_count": null,
      "outputs": [
        {
          "output_type": "stream",
          "text": [
            "<class 'pandas.core.series.Series'>\n"
          ],
          "name": "stdout"
        },
        {
          "output_type": "execute_result",
          "data": {
            "text/plain": [
              "grade       5\n",
              "semester    3\n",
              "teacher     d\n",
              "dtype: object"
            ]
          },
          "metadata": {
            "tags": []
          },
          "execution_count": 31
        }
      ]
    },
    {
      "cell_type": "markdown",
      "metadata": {
        "id": "E7GwJpo1_rB_"
      },
      "source": [
        "A `max` függvény egy Series-zel tér vissza, ami minden oszlop maximumát tartalmazza. Sorokra is felthetjük ugyanezt a kérdést, bár erre az adatra nem sok értelme van:"
      ]
    },
    {
      "cell_type": "code",
      "metadata": {
        "id": "jNPdFyi9_rCA",
        "outputId": "8efff178-ae56-49bc-b02b-db2c3f49bb81"
      },
      "source": [
        "grades.max(axis=1)"
      ],
      "execution_count": null,
      "outputs": [
        {
          "output_type": "execute_result",
          "data": {
            "text/plain": [
              "subject\n",
              "analízis 1                         3\n",
              "digitális technika 1               4\n",
              "fizika 1                           3\n",
              "mikmak                             2\n",
              "programozás alapjai 1              5\n",
              "szoftvertechonológia               3\n",
              "bevezetés a számításelméletbe 1    4\n",
              "dtype: int64"
            ]
          },
          "metadata": {
            "tags": []
          },
          "execution_count": 32
        }
      ]
    },
    {
      "cell_type": "markdown",
      "metadata": {
        "id": "6Mp9woOU_rCD"
      },
      "source": [
        "Hol veszi fel a maximumát?"
      ]
    },
    {
      "cell_type": "code",
      "metadata": {
        "id": "t3UGKqCz_rCD",
        "outputId": "03fd8993-93d9-49c0-e408-6c85cf390e8e"
      },
      "source": [
        "# grades.idxmax()  # hibát kapunk, mert az egyik oszlop szöveges\n",
        "grades[['grade', 'semester']].idxmax()"
      ],
      "execution_count": null,
      "outputs": [
        {
          "output_type": "execute_result",
          "data": {
            "text/plain": [
              "grade       programozás alapjai 1\n",
              "semester     szoftvertechonológia\n",
              "dtype: object"
            ]
          },
          "metadata": {
            "tags": []
          },
          "execution_count": 33
        }
      ]
    },
    {
      "cell_type": "markdown",
      "metadata": {
        "id": "PgbCVdnv_rCF"
      },
      "source": [
        "Indexelhetünk is a visszakapott értékekkel, így a legmagasabb értékeket tartalmazó sorokat kapjuk meg."
      ]
    },
    {
      "cell_type": "code",
      "metadata": {
        "id": "sCCpxuJh_rCF",
        "outputId": "b69a4737-34b6-4ac6-da63-74cc2d655758"
      },
      "source": [
        "grades.loc[grades[['grade', 'semester']].idxmax()]"
      ],
      "execution_count": null,
      "outputs": [
        {
          "output_type": "execute_result",
          "data": {
            "text/html": [
              "<div>\n",
              "<style scoped>\n",
              "    .dataframe tbody tr th:only-of-type {\n",
              "        vertical-align: middle;\n",
              "    }\n",
              "\n",
              "    .dataframe tbody tr th {\n",
              "        vertical-align: top;\n",
              "    }\n",
              "\n",
              "    .dataframe thead th {\n",
              "        text-align: right;\n",
              "    }\n",
              "</style>\n",
              "<table border=\"1\" class=\"dataframe\">\n",
              "  <thead>\n",
              "    <tr style=\"text-align: right;\">\n",
              "      <th></th>\n",
              "      <th>grade</th>\n",
              "      <th>semester</th>\n",
              "      <th>teacher</th>\n",
              "    </tr>\n",
              "    <tr>\n",
              "      <th>subject</th>\n",
              "      <th></th>\n",
              "      <th></th>\n",
              "      <th></th>\n",
              "    </tr>\n",
              "  </thead>\n",
              "  <tbody>\n",
              "    <tr>\n",
              "      <th>programozás alapjai 1</th>\n",
              "      <td>5</td>\n",
              "      <td>1</td>\n",
              "      <td>d</td>\n",
              "    </tr>\n",
              "    <tr>\n",
              "      <th>szoftvertechonológia</th>\n",
              "      <td>1</td>\n",
              "      <td>3</td>\n",
              "      <td>d</td>\n",
              "    </tr>\n",
              "  </tbody>\n",
              "</table>\n",
              "</div>"
            ],
            "text/plain": [
              "                       grade  semester teacher\n",
              "subject                                       \n",
              "programozás alapjai 1      5         1       d\n",
              "szoftvertechonológia       1         3       d"
            ]
          },
          "metadata": {
            "tags": []
          },
          "execution_count": 34
        }
      ]
    },
    {
      "cell_type": "markdown",
      "metadata": {
        "id": "4L0qqoYz_rCI"
      },
      "source": [
        "A számadatot tartalmazó oszlopok közül megkaptuk, hogy melyik sornál veszi fel a maximális értéket. Holtverseny esetén a legelső előfordulást adja vissza."
      ]
    },
    {
      "cell_type": "markdown",
      "metadata": {
        "id": "wmgfxRAz_rCI"
      },
      "source": [
        "Az `idxmax` függvény `Series`-re hasonlóan működik, csak az eredmény egyetlen skalár érték:"
      ]
    },
    {
      "cell_type": "code",
      "metadata": {
        "id": "dhh9GTgH_rCI",
        "outputId": "7ae510de-730d-4520-b24d-31caf77c593b"
      },
      "source": [
        "grades.grade.idxmax()"
      ],
      "execution_count": null,
      "outputs": [
        {
          "output_type": "execute_result",
          "data": {
            "text/plain": [
              "'programozás alapjai 1'"
            ]
          },
          "metadata": {
            "tags": []
          },
          "execution_count": 35
        }
      ]
    },
    {
      "cell_type": "markdown",
      "metadata": {
        "id": "RJzajBBD_rCK"
      },
      "source": [
        "# Csoportosítás (groupby)"
      ]
    },
    {
      "cell_type": "markdown",
      "metadata": {
        "id": "MXhP_2w-_rCK"
      },
      "source": [
        "A groupby függvénnyel tetszőleges oszlop mentén csoportosíthatjuk a DataFrame-et."
      ]
    },
    {
      "cell_type": "code",
      "metadata": {
        "id": "s7c10fzF_rCL"
      },
      "source": [
        "g = credits.groupby('credit')"
      ],
      "execution_count": null,
      "outputs": []
    },
    {
      "cell_type": "code",
      "metadata": {
        "id": "BjxYaM11_rCO",
        "outputId": "820f0c6c-45eb-4e1b-9743-4395f11e1681"
      },
      "source": [
        "g.groups"
      ],
      "execution_count": null,
      "outputs": [
        {
          "output_type": "execute_result",
          "data": {
            "text/plain": [
              "{5: Int64Index([1, 2], dtype='int64'), 7: Int64Index([0], dtype='int64')}"
            ]
          },
          "metadata": {
            "tags": []
          },
          "execution_count": 37
        }
      ]
    },
    {
      "cell_type": "markdown",
      "metadata": {
        "id": "0RN6Mo4Z_rCR"
      },
      "source": [
        "Nem csak oszlop szerint tudunk csoportosítani, hanem tetszőleges kifejezés szerint."
      ]
    },
    {
      "cell_type": "code",
      "metadata": {
        "id": "EctImVGM_rCR",
        "outputId": "549e76af-e6d1-4c62-ed0e-9f373dbccaf9"
      },
      "source": [
        "credits.credit % 3"
      ],
      "execution_count": null,
      "outputs": [
        {
          "output_type": "execute_result",
          "data": {
            "text/plain": [
              "0    1\n",
              "1    2\n",
              "2    2\n",
              "Name: credit, dtype: int64"
            ]
          },
          "metadata": {
            "tags": []
          },
          "execution_count": 38
        }
      ]
    },
    {
      "cell_type": "markdown",
      "metadata": {
        "id": "U4Hx8RQM_rCT"
      },
      "source": [
        "Eszerint groupby:"
      ]
    },
    {
      "cell_type": "code",
      "metadata": {
        "id": "z50CDSmM_rCT",
        "outputId": "eca0fc28-3eb9-4a4a-c08f-3d32c88ec9d5"
      },
      "source": [
        "credits.groupby(credits.credit % 3)"
      ],
      "execution_count": null,
      "outputs": [
        {
          "output_type": "execute_result",
          "data": {
            "text/plain": [
              "<pandas.core.groupby.DataFrameGroupBy object at 0x7f867767f978>"
            ]
          },
          "metadata": {
            "tags": []
          },
          "execution_count": 39
        }
      ]
    },
    {
      "cell_type": "markdown",
      "metadata": {
        "id": "Zx0PiTAr_rCV"
      },
      "source": [
        "Csoportonként végezhetünk műveleteket:"
      ]
    },
    {
      "cell_type": "code",
      "metadata": {
        "id": "CgCK8oqI_rCW",
        "outputId": "6c40ee72-6b4b-4f7d-f5c1-3da5b8d9b524"
      },
      "source": [
        "grades.groupby(\"semester\").mean()"
      ],
      "execution_count": null,
      "outputs": [
        {
          "output_type": "execute_result",
          "data": {
            "text/html": [
              "<div>\n",
              "<style scoped>\n",
              "    .dataframe tbody tr th:only-of-type {\n",
              "        vertical-align: middle;\n",
              "    }\n",
              "\n",
              "    .dataframe tbody tr th {\n",
              "        vertical-align: top;\n",
              "    }\n",
              "\n",
              "    .dataframe thead th {\n",
              "        text-align: right;\n",
              "    }\n",
              "</style>\n",
              "<table border=\"1\" class=\"dataframe\">\n",
              "  <thead>\n",
              "    <tr style=\"text-align: right;\">\n",
              "      <th></th>\n",
              "      <th>grade</th>\n",
              "    </tr>\n",
              "    <tr>\n",
              "      <th>semester</th>\n",
              "      <th></th>\n",
              "    </tr>\n",
              "  </thead>\n",
              "  <tbody>\n",
              "    <tr>\n",
              "      <th>1</th>\n",
              "      <td>4.0</td>\n",
              "    </tr>\n",
              "    <tr>\n",
              "      <th>2</th>\n",
              "      <td>2.5</td>\n",
              "    </tr>\n",
              "    <tr>\n",
              "      <th>3</th>\n",
              "      <td>1.0</td>\n",
              "    </tr>\n",
              "  </tbody>\n",
              "</table>\n",
              "</div>"
            ],
            "text/plain": [
              "          grade\n",
              "semester       \n",
              "1           4.0\n",
              "2           2.5\n",
              "3           1.0"
            ]
          },
          "metadata": {
            "tags": []
          },
          "execution_count": 40
        }
      ]
    },
    {
      "cell_type": "markdown",
      "metadata": {
        "id": "_iEHz2q6_rCY"
      },
      "source": [
        "Egynél több oszlop szerint is csoportosíthatunk, ekkor az olszopok értékeinek összes kombinációja (direkt szorzat) szerepelni fog az indexben.\n",
        "\n",
        "A `size` függvénnyel az egyes csoportok elemeinek számát kérhetjük le."
      ]
    },
    {
      "cell_type": "code",
      "metadata": {
        "id": "acqGQWOV_rCY",
        "outputId": "d74f071b-a695-4aa0-d641-638ac2ad2eae"
      },
      "source": [
        "grades.groupby([\"semester\", \"teacher\"]).size()"
      ],
      "execution_count": null,
      "outputs": [
        {
          "output_type": "execute_result",
          "data": {
            "text/plain": [
              "semester  teacher\n",
              "1         a          1\n",
              "          b          1\n",
              "          d          2\n",
              "2         a          1\n",
              "          c          1\n",
              "3         d          1\n",
              "dtype: int64"
            ]
          },
          "metadata": {
            "tags": []
          },
          "execution_count": 41
        }
      ]
    },
    {
      "cell_type": "markdown",
      "metadata": {
        "id": "dwmTJD55_rCa"
      },
      "source": [
        "Ismét `Series` objektumot kaphatunk. A könnyebb olvashatóság kedvéért `DataFrame`-é konvertálhatjuk:"
      ]
    },
    {
      "cell_type": "code",
      "metadata": {
        "id": "wkNhfjIQ_rCa",
        "outputId": "7ffbbb4f-b1eb-4210-89a2-2dc8dc2faa8a"
      },
      "source": [
        "grades.groupby([\"semester\", \"teacher\"]).size().to_frame()"
      ],
      "execution_count": null,
      "outputs": [
        {
          "output_type": "execute_result",
          "data": {
            "text/html": [
              "<div>\n",
              "<style scoped>\n",
              "    .dataframe tbody tr th:only-of-type {\n",
              "        vertical-align: middle;\n",
              "    }\n",
              "\n",
              "    .dataframe tbody tr th {\n",
              "        vertical-align: top;\n",
              "    }\n",
              "\n",
              "    .dataframe thead th {\n",
              "        text-align: right;\n",
              "    }\n",
              "</style>\n",
              "<table border=\"1\" class=\"dataframe\">\n",
              "  <thead>\n",
              "    <tr style=\"text-align: right;\">\n",
              "      <th></th>\n",
              "      <th></th>\n",
              "      <th>0</th>\n",
              "    </tr>\n",
              "    <tr>\n",
              "      <th>semester</th>\n",
              "      <th>teacher</th>\n",
              "      <th></th>\n",
              "    </tr>\n",
              "  </thead>\n",
              "  <tbody>\n",
              "    <tr>\n",
              "      <th rowspan=\"3\" valign=\"top\">1</th>\n",
              "      <th>a</th>\n",
              "      <td>1</td>\n",
              "    </tr>\n",
              "    <tr>\n",
              "      <th>b</th>\n",
              "      <td>1</td>\n",
              "    </tr>\n",
              "    <tr>\n",
              "      <th>d</th>\n",
              "      <td>2</td>\n",
              "    </tr>\n",
              "    <tr>\n",
              "      <th rowspan=\"2\" valign=\"top\">2</th>\n",
              "      <th>a</th>\n",
              "      <td>1</td>\n",
              "    </tr>\n",
              "    <tr>\n",
              "      <th>c</th>\n",
              "      <td>1</td>\n",
              "    </tr>\n",
              "    <tr>\n",
              "      <th>3</th>\n",
              "      <th>d</th>\n",
              "      <td>1</td>\n",
              "    </tr>\n",
              "  </tbody>\n",
              "</table>\n",
              "</div>"
            ],
            "text/plain": [
              "                  0\n",
              "semester teacher   \n",
              "1        a        1\n",
              "         b        1\n",
              "         d        2\n",
              "2        a        1\n",
              "         c        1\n",
              "3        d        1"
            ]
          },
          "metadata": {
            "tags": []
          },
          "execution_count": 42
        }
      ]
    },
    {
      "cell_type": "markdown",
      "metadata": {
        "id": "QObrmzb9_rCc"
      },
      "source": [
        "# Rendezés\n",
        "\n",
        "A `DataFrame`-eket többféleképpen rendezhetjük.\n",
        "\n",
        "Index szerint rendezve:"
      ]
    },
    {
      "cell_type": "code",
      "metadata": {
        "id": "kSNLBO0c_rCd",
        "outputId": "ae3751e7-8532-447a-bbe8-a2aeca2950ac"
      },
      "source": [
        "grades.sort_index()"
      ],
      "execution_count": null,
      "outputs": [
        {
          "output_type": "execute_result",
          "data": {
            "text/html": [
              "<div>\n",
              "<style scoped>\n",
              "    .dataframe tbody tr th:only-of-type {\n",
              "        vertical-align: middle;\n",
              "    }\n",
              "\n",
              "    .dataframe tbody tr th {\n",
              "        vertical-align: top;\n",
              "    }\n",
              "\n",
              "    .dataframe thead th {\n",
              "        text-align: right;\n",
              "    }\n",
              "</style>\n",
              "<table border=\"1\" class=\"dataframe\">\n",
              "  <thead>\n",
              "    <tr style=\"text-align: right;\">\n",
              "      <th></th>\n",
              "      <th>grade</th>\n",
              "      <th>semester</th>\n",
              "      <th>teacher</th>\n",
              "    </tr>\n",
              "    <tr>\n",
              "      <th>subject</th>\n",
              "      <th></th>\n",
              "      <th></th>\n",
              "      <th></th>\n",
              "    </tr>\n",
              "  </thead>\n",
              "  <tbody>\n",
              "    <tr>\n",
              "      <th>analízis 1</th>\n",
              "      <td>3</td>\n",
              "      <td>1</td>\n",
              "      <td>a</td>\n",
              "    </tr>\n",
              "    <tr>\n",
              "      <th>bevezetés a számításelméletbe 1</th>\n",
              "      <td>4</td>\n",
              "      <td>1</td>\n",
              "      <td>d</td>\n",
              "    </tr>\n",
              "    <tr>\n",
              "      <th>digitális technika 1</th>\n",
              "      <td>4</td>\n",
              "      <td>1</td>\n",
              "      <td>b</td>\n",
              "    </tr>\n",
              "    <tr>\n",
              "      <th>fizika 1</th>\n",
              "      <td>3</td>\n",
              "      <td>2</td>\n",
              "      <td>a</td>\n",
              "    </tr>\n",
              "    <tr>\n",
              "      <th>mikmak</th>\n",
              "      <td>2</td>\n",
              "      <td>2</td>\n",
              "      <td>c</td>\n",
              "    </tr>\n",
              "    <tr>\n",
              "      <th>programozás alapjai 1</th>\n",
              "      <td>5</td>\n",
              "      <td>1</td>\n",
              "      <td>d</td>\n",
              "    </tr>\n",
              "    <tr>\n",
              "      <th>szoftvertechonológia</th>\n",
              "      <td>1</td>\n",
              "      <td>3</td>\n",
              "      <td>d</td>\n",
              "    </tr>\n",
              "  </tbody>\n",
              "</table>\n",
              "</div>"
            ],
            "text/plain": [
              "                                 grade  semester teacher\n",
              "subject                                                 \n",
              "analízis 1                           3         1       a\n",
              "bevezetés a számításelméletbe 1      4         1       d\n",
              "digitális technika 1                 4         1       b\n",
              "fizika 1                             3         2       a\n",
              "mikmak                               2         2       c\n",
              "programozás alapjai 1                5         1       d\n",
              "szoftvertechonológia                 1         3       d"
            ]
          },
          "metadata": {
            "tags": []
          },
          "execution_count": 43
        }
      ]
    },
    {
      "cell_type": "markdown",
      "metadata": {
        "id": "8hAj8GGo_rCe"
      },
      "source": [
        "Illetve egy vagy több oszlop szerint rendezve:"
      ]
    },
    {
      "cell_type": "code",
      "metadata": {
        "id": "_bXspnzF_rCe",
        "outputId": "5e39d609-06c2-40ca-f558-63f788263946"
      },
      "source": [
        "grades.sort_values(['grade', 'semester'])"
      ],
      "execution_count": null,
      "outputs": [
        {
          "output_type": "execute_result",
          "data": {
            "text/html": [
              "<div>\n",
              "<style scoped>\n",
              "    .dataframe tbody tr th:only-of-type {\n",
              "        vertical-align: middle;\n",
              "    }\n",
              "\n",
              "    .dataframe tbody tr th {\n",
              "        vertical-align: top;\n",
              "    }\n",
              "\n",
              "    .dataframe thead th {\n",
              "        text-align: right;\n",
              "    }\n",
              "</style>\n",
              "<table border=\"1\" class=\"dataframe\">\n",
              "  <thead>\n",
              "    <tr style=\"text-align: right;\">\n",
              "      <th></th>\n",
              "      <th>grade</th>\n",
              "      <th>semester</th>\n",
              "      <th>teacher</th>\n",
              "    </tr>\n",
              "    <tr>\n",
              "      <th>subject</th>\n",
              "      <th></th>\n",
              "      <th></th>\n",
              "      <th></th>\n",
              "    </tr>\n",
              "  </thead>\n",
              "  <tbody>\n",
              "    <tr>\n",
              "      <th>szoftvertechonológia</th>\n",
              "      <td>1</td>\n",
              "      <td>3</td>\n",
              "      <td>d</td>\n",
              "    </tr>\n",
              "    <tr>\n",
              "      <th>mikmak</th>\n",
              "      <td>2</td>\n",
              "      <td>2</td>\n",
              "      <td>c</td>\n",
              "    </tr>\n",
              "    <tr>\n",
              "      <th>analízis 1</th>\n",
              "      <td>3</td>\n",
              "      <td>1</td>\n",
              "      <td>a</td>\n",
              "    </tr>\n",
              "    <tr>\n",
              "      <th>fizika 1</th>\n",
              "      <td>3</td>\n",
              "      <td>2</td>\n",
              "      <td>a</td>\n",
              "    </tr>\n",
              "    <tr>\n",
              "      <th>digitális technika 1</th>\n",
              "      <td>4</td>\n",
              "      <td>1</td>\n",
              "      <td>b</td>\n",
              "    </tr>\n",
              "    <tr>\n",
              "      <th>bevezetés a számításelméletbe 1</th>\n",
              "      <td>4</td>\n",
              "      <td>1</td>\n",
              "      <td>d</td>\n",
              "    </tr>\n",
              "    <tr>\n",
              "      <th>programozás alapjai 1</th>\n",
              "      <td>5</td>\n",
              "      <td>1</td>\n",
              "      <td>d</td>\n",
              "    </tr>\n",
              "  </tbody>\n",
              "</table>\n",
              "</div>"
            ],
            "text/plain": [
              "                                 grade  semester teacher\n",
              "subject                                                 \n",
              "szoftvertechonológia                 1         3       d\n",
              "mikmak                               2         2       c\n",
              "analízis 1                           3         1       a\n",
              "fizika 1                             3         2       a\n",
              "digitális technika 1                 4         1       b\n",
              "bevezetés a számításelméletbe 1      4         1       d\n",
              "programozás alapjai 1                5         1       d"
            ]
          },
          "metadata": {
            "tags": []
          },
          "execution_count": 44
        }
      ]
    },
    {
      "cell_type": "markdown",
      "metadata": {
        "id": "D4Gc8o6V_rCg"
      },
      "source": [
        "Fordított sorrendben:"
      ]
    },
    {
      "cell_type": "code",
      "metadata": {
        "id": "zodwGQj5_rCg",
        "outputId": "b1145bc4-4c83-4fee-d6ab-a65f47f74bfa"
      },
      "source": [
        "grades.sort_index(ascending=False)"
      ],
      "execution_count": null,
      "outputs": [
        {
          "output_type": "execute_result",
          "data": {
            "text/html": [
              "<div>\n",
              "<style scoped>\n",
              "    .dataframe tbody tr th:only-of-type {\n",
              "        vertical-align: middle;\n",
              "    }\n",
              "\n",
              "    .dataframe tbody tr th {\n",
              "        vertical-align: top;\n",
              "    }\n",
              "\n",
              "    .dataframe thead th {\n",
              "        text-align: right;\n",
              "    }\n",
              "</style>\n",
              "<table border=\"1\" class=\"dataframe\">\n",
              "  <thead>\n",
              "    <tr style=\"text-align: right;\">\n",
              "      <th></th>\n",
              "      <th>grade</th>\n",
              "      <th>semester</th>\n",
              "      <th>teacher</th>\n",
              "    </tr>\n",
              "    <tr>\n",
              "      <th>subject</th>\n",
              "      <th></th>\n",
              "      <th></th>\n",
              "      <th></th>\n",
              "    </tr>\n",
              "  </thead>\n",
              "  <tbody>\n",
              "    <tr>\n",
              "      <th>szoftvertechonológia</th>\n",
              "      <td>1</td>\n",
              "      <td>3</td>\n",
              "      <td>d</td>\n",
              "    </tr>\n",
              "    <tr>\n",
              "      <th>programozás alapjai 1</th>\n",
              "      <td>5</td>\n",
              "      <td>1</td>\n",
              "      <td>d</td>\n",
              "    </tr>\n",
              "    <tr>\n",
              "      <th>mikmak</th>\n",
              "      <td>2</td>\n",
              "      <td>2</td>\n",
              "      <td>c</td>\n",
              "    </tr>\n",
              "    <tr>\n",
              "      <th>fizika 1</th>\n",
              "      <td>3</td>\n",
              "      <td>2</td>\n",
              "      <td>a</td>\n",
              "    </tr>\n",
              "    <tr>\n",
              "      <th>digitális technika 1</th>\n",
              "      <td>4</td>\n",
              "      <td>1</td>\n",
              "      <td>b</td>\n",
              "    </tr>\n",
              "    <tr>\n",
              "      <th>bevezetés a számításelméletbe 1</th>\n",
              "      <td>4</td>\n",
              "      <td>1</td>\n",
              "      <td>d</td>\n",
              "    </tr>\n",
              "    <tr>\n",
              "      <th>analízis 1</th>\n",
              "      <td>3</td>\n",
              "      <td>1</td>\n",
              "      <td>a</td>\n",
              "    </tr>\n",
              "  </tbody>\n",
              "</table>\n",
              "</div>"
            ],
            "text/plain": [
              "                                 grade  semester teacher\n",
              "subject                                                 \n",
              "szoftvertechonológia                 1         3       d\n",
              "programozás alapjai 1                5         1       d\n",
              "mikmak                               2         2       c\n",
              "fizika 1                             3         2       a\n",
              "digitális technika 1                 4         1       b\n",
              "bevezetés a számításelméletbe 1      4         1       d\n",
              "analízis 1                           3         1       a"
            ]
          },
          "metadata": {
            "tags": []
          },
          "execution_count": 45
        }
      ]
    },
    {
      "cell_type": "markdown",
      "metadata": {
        "id": "THUPw4_r_rCi"
      },
      "source": [
        "# Vizualizáció (plot)\n",
        "\n",
        "A matplotlib modullal együttműködve rengeteg vizualizációs lehetőségünk van."
      ]
    },
    {
      "cell_type": "code",
      "metadata": {
        "id": "tC1gL20L_rCj",
        "outputId": "b67bc80f-78e1-4701-85c5-bc2ed4382a52"
      },
      "source": [
        "grades.plot(y='grade')"
      ],
      "execution_count": null,
      "outputs": [
        {
          "output_type": "execute_result",
          "data": {
            "text/plain": [
              "<matplotlib.axes._subplots.AxesSubplot at 0x7f86776a1d68>"
            ]
          },
          "metadata": {
            "tags": []
          },
          "execution_count": 46
        },
        {
          "output_type": "display_data",
          "data": {
            "image/png": "[encoded data removed]",
            "text/plain": [
              "<matplotlib.figure.Figure at 0x7f86776a1518>"
            ]
          },
          "metadata": {
            "tags": []
          }
        }
      ]
    },
    {
      "cell_type": "markdown",
      "metadata": {
        "id": "nTMoQu72_rCm"
      },
      "source": [
        "Az oszlopdiagramnak több értelme lenne:"
      ]
    },
    {
      "cell_type": "code",
      "metadata": {
        "id": "lxVRM2BN_rCm",
        "outputId": "a290d846-17f8-4f73-b9c1-4e7f94909c46"
      },
      "source": [
        "grades.plot(y='grade', kind='bar')"
      ],
      "execution_count": null,
      "outputs": [
        {
          "output_type": "execute_result",
          "data": {
            "text/plain": [
              "<matplotlib.axes._subplots.AxesSubplot at 0x7f86755e6080>"
            ]
          },
          "metadata": {
            "tags": []
          },
          "execution_count": 47
        },
        {
          "output_type": "display_data",
          "data": {
            "image/png": "[encoded data removed]",
            "text/plain": [
              "<matplotlib.figure.Figure at 0x7f86755966d8>"
            ]
          },
          "metadata": {
            "tags": []
          }
        }
      ]
    },
    {
      "cell_type": "markdown",
      "metadata": {
        "id": "Sy4uMt15_rCo"
      },
      "source": [
        "Nem adtuk meg az x tengelyt, ekkor automatikusan a DataFrame indexét használja, ami ebben az esetben a tárgyakat jelenti.\n",
        "\n",
        "Ábrázolhatnánk félév szerint is egy scatter ploton."
      ]
    },
    {
      "cell_type": "code",
      "metadata": {
        "id": "Wwn1bQVB_rCo",
        "outputId": "d71de7e6-3ba1-400d-ff17-d85da8b7ac98"
      },
      "source": [
        "grades.plot(x='semester', y='grade', kind='scatter')"
      ],
      "execution_count": null,
      "outputs": [
        {
          "output_type": "execute_result",
          "data": {
            "text/plain": [
              "<matplotlib.axes._subplots.AxesSubplot at 0x7f86755e6160>"
            ]
          },
          "metadata": {
            "tags": []
          },
          "execution_count": 48
        },
        {
          "output_type": "display_data",
          "data": {
            "image/png": "[encoded data removed]",
            "text/plain": [
              "<matplotlib.figure.Figure at 0x7f86755eb668>"
            ]
          },
          "metadata": {
            "tags": []
          }
        }
      ]
    },
    {
      "cell_type": "markdown",
      "metadata": {
        "id": "2-LkZO2v_rCp"
      },
      "source": [
        "## Amire érdemes figyelni (GOTCHAs)\n",
        "\n",
        "### Minden művelet új DataFrame-et ad vissza\n",
        "\n",
        "Szinte minden művelet alapértelmezetten egy új DataFrame-mel tér vissza, nem módosítja a paramétereit. Ezt el kell tárolnunk, ha használni akarjuk.\n",
        "\n",
        "### Egy cellában az utolsó kifejezés visszatérési értéke kiíródik, de a többi nem\n",
        "\n",
        "Ha a többit is szeretnénk kiírni, használjuk a print függvényt."
      ]
    },
    {
      "cell_type": "markdown",
      "metadata": {
        "id": "Yb0KWAz_Biby"
      },
      "source": [
        "#Feladatok (MovieLens)"
      ]
    },
    {
      "cell_type": "code",
      "metadata": {
        "id": "WFCjQdUzBnWH"
      },
      "source": [
        "import pandas as pd  # konvenció szerint pd aliast használunk\n",
        "%matplotlib inline\n",
        "import matplotlib\n",
        "import numpy as np\n",
        "from urllib import request\n",
        "\n",
        "# tegyük szebbé a grafikonokat\n",
        "matplotlib.style.use('ggplot')\n",
        "matplotlib.pyplot.rcParams['figure.figsize'] = (15, 3)\n",
        "matplotlib.pyplot.rcParams['font.family'] = 'sans-serif'"
      ],
      "execution_count": 1,
      "outputs": []
    },
    {
      "cell_type": "markdown",
      "metadata": {
        "id": "pmojn5SjDCeB"
      },
      "source": [
        "A MovieLens adatsorral fogunk dolgozni, de először le kell töltenünk. http://grouplens.org/datasets/movielens/\n",
        "\n",
        "Csak akkor töltjük le a fájlt, ha még nem létezik."
      ]
    },
    {
      "cell_type": "code",
      "metadata": {
        "id": "E53BS2W6DCeC",
        "colab": {
          "base_uri": "https://localhost:8080/"
        },
        "outputId": "564f3be7-6822-49c8-e74a-9d4bd6932149"
      },
      "source": [
        "import os\n",
        "\n",
        "data_dir = os.getenv(\"MOVIELENS\")\n",
        "if data_dir is None:\n",
        "    data_dir = \"\"\n",
        "\n",
        "ml_path = os.path.join(data_dir, \"ml.zip\")\n",
        "\n",
        "if not os.path.exists(ml_path):\n",
        "    print(\"Download data\")\n",
        "    import urllib\n",
        "    u = urllib.request.URLopener()\n",
        "    u.retrieve(\"http://files.grouplens.org/datasets/movielens/ml-100k.zip\", ml_path)\n",
        "    print(\"Data downloaded\")"
      ],
      "execution_count": 2,
      "outputs": [
        {
          "output_type": "stream",
          "text": [
            "Download data\n",
            "Data downloaded\n"
          ],
          "name": "stdout"
        }
      ]
    },
    {
      "cell_type": "markdown",
      "metadata": {
        "id": "IHglULlEDCeE"
      },
      "source": [
        "Kicsomagoljuk a zip fájlt:"
      ]
    },
    {
      "cell_type": "code",
      "metadata": {
        "id": "IyRiN0FKDCeF",
        "colab": {
          "base_uri": "https://localhost:8080/"
        },
        "outputId": "6e32d672-c0b1-4b0a-f047-975913588025"
      },
      "source": [
        "unzip_path = os.path.join(data_dir, \"ml-100k\")\n",
        "\n",
        "if not os.path.exists(unzip_path):\n",
        "    print(\"Extracting data\")\n",
        "    from zipfile import ZipFile\n",
        "    with ZipFile(ml_path) as myzip:\n",
        "        myzip.extractall(data_dir)\n",
        "    print(\"Data extraction done\")\n",
        "        \n",
        "data_dir = unzip_path"
      ],
      "execution_count": 3,
      "outputs": [
        {
          "output_type": "stream",
          "text": [
            "Extracting data\n",
            "Data extraction done\n"
          ],
          "name": "stdout"
        }
      ]
    },
    {
      "cell_type": "markdown",
      "metadata": {
        "id": "JaxPIvI5DCeI"
      },
      "source": [
        "## Adat betöltése és normalizálása\n",
        "\n",
        "A `pd.read_table` függvény táblázatos adatok betöltésére alkalmas. Több tucat paraméterrel [rendelkezik](http://pandas.pydata.org/pandas-docs/stable/generated/pandas.read_table.html), de csak egy kötelező paramétere van: a fájl, amit beolvasunk.\n",
        "A karakterkódolást is meg kell adnunk, mert a fájl nem az alapértelmezett (utf-8) kódolást használja, hanem az ISO-8859-1-et, vagy köznéven a latin1-et."
      ]
    },
    {
      "cell_type": "code",
      "metadata": {
        "id": "J4eWTL3PDCeJ",
        "colab": {
          "base_uri": "https://localhost:8080/",
          "height": 195
        },
        "outputId": "6288d7ba-4ca9-449b-ffa3-3a730509395a"
      },
      "source": [
        "# df = pd.read_table(\"ml-100k/u.item\")  # UnicodeDecodeErrort kapunk, mert rossz dekódert használ\n",
        "df = pd.read_table(os.path.join(data_dir, \"u.item\"), encoding=\"latin1\")\n",
        "df.head()"
      ],
      "execution_count": 4,
      "outputs": [
        {
          "output_type": "execute_result",
          "data": {
            "text/html": [
              "<div>\n",
              "<style scoped>\n",
              "    .dataframe tbody tr th:only-of-type {\n",
              "        vertical-align: middle;\n",
              "    }\n",
              "\n",
              "    .dataframe tbody tr th {\n",
              "        vertical-align: top;\n",
              "    }\n",
              "\n",
              "    .dataframe thead th {\n",
              "        text-align: right;\n",
              "    }\n",
              "</style>\n",
              "<table border=\"1\" class=\"dataframe\">\n",
              "  <thead>\n",
              "    <tr style=\"text-align: right;\">\n",
              "      <th></th>\n",
              "      <th>1|Toy Story (1995)|01-Jan-1995||http://us.imdb.com/M/title-exact?Toy%20Story%20(1995)|0|0|0|1|1|1|0|0|0|0|0|0|0|0|0|0|0|0|0</th>\n",
              "    </tr>\n",
              "  </thead>\n",
              "  <tbody>\n",
              "    <tr>\n",
              "      <th>0</th>\n",
              "      <td>2|GoldenEye (1995)|01-Jan-1995||http://us.imdb...</td>\n",
              "    </tr>\n",
              "    <tr>\n",
              "      <th>1</th>\n",
              "      <td>3|Four Rooms (1995)|01-Jan-1995||http://us.imd...</td>\n",
              "    </tr>\n",
              "    <tr>\n",
              "      <th>2</th>\n",
              "      <td>4|Get Shorty (1995)|01-Jan-1995||http://us.imd...</td>\n",
              "    </tr>\n",
              "    <tr>\n",
              "      <th>3</th>\n",
              "      <td>5|Copycat (1995)|01-Jan-1995||http://us.imdb.c...</td>\n",
              "    </tr>\n",
              "    <tr>\n",
              "      <th>4</th>\n",
              "      <td>6|Shanghai Triad (Yao a yao yao dao waipo qiao...</td>\n",
              "    </tr>\n",
              "  </tbody>\n",
              "</table>\n",
              "</div>"
            ],
            "text/plain": [
              "  1|Toy Story (1995)|01-Jan-1995||http://us.imdb.com/M/title-exact?Toy%20Story%20(1995)|0|0|0|1|1|1|0|0|0|0|0|0|0|0|0|0|0|0|0\n",
              "0  2|GoldenEye (1995)|01-Jan-1995||http://us.imdb...                                                                         \n",
              "1  3|Four Rooms (1995)|01-Jan-1995||http://us.imd...                                                                         \n",
              "2  4|Get Shorty (1995)|01-Jan-1995||http://us.imd...                                                                         \n",
              "3  5|Copycat (1995)|01-Jan-1995||http://us.imdb.c...                                                                         \n",
              "4  6|Shanghai Triad (Yao a yao yao dao waipo qiao...                                                                         "
            ]
          },
          "metadata": {
            "tags": []
          },
          "execution_count": 4
        }
      ]
    },
    {
      "cell_type": "markdown",
      "metadata": {
        "id": "ZuUxzl4wDCeM"
      },
      "source": [
        "Ez még elég rosszul néz ki. Hogyan tudnánk javítani?\n",
        "1. Rossz szeparátort használt a függvény (tab az alapértelmezett). A fájlban | a szeparátor. Ezt a `sep` paraméterrel tudjuk megadni.\n",
        "1. A fájl első sora került az oszlopnevek helyére. Az oszlopok valódi nevei a README fájlból derülnek ki, amit kézzel megadhatjuk a read_table-nek a `names` paraméterben.\n",
        "1. A read_table automatikusan generált egy id-t minden sornak, azonban az adatfájlban a filmek már rendelkeznek egy egyedi azonosítóval (movie_id), használjuk ezt a DataFrame indexeként (`index_col` paraméter). Célszerű szóköz nélküli, kisbetűs oszlopneveket használni, mert akkor attribútumként is elérjük őket (`df.release_date`)."
      ]
    },
    {
      "cell_type": "code",
      "metadata": {
        "id": "h8tGmZvQDCeM"
      },
      "source": [
        "column_names = [\n",
        "    \"movie_id\", \"title\", \"release_date\", \"video_release_date\", \"imdb_url\", \"unknown\", \"action\", \"adventure\", \"animation\",\n",
        "    \"children\", \"comedy\", \"crime\", \"documentary\", \"drama\", \"fantasy\", \"film_noir\", \"horror\", \"musical\", \"mystery\",\n",
        "    \"romance\", \"sci_fi\", \"thriller\", \"war\", \"western\"]"
      ],
      "execution_count": 5,
      "outputs": []
    },
    {
      "cell_type": "code",
      "metadata": {
        "id": "HOFoNmFhDCeP",
        "colab": {
          "base_uri": "https://localhost:8080/",
          "height": 362
        },
        "outputId": "2bf3499e-4165-4739-d9fb-6deec7617fe0"
      },
      "source": [
        "df = pd.read_table(\n",
        "    os.path.join(data_dir, \"u.item\"), sep=\"|\",\n",
        "    names=column_names, encoding=\"latin1\", index_col='movie_id')\n",
        "df.head()"
      ],
      "execution_count": 6,
      "outputs": [
        {
          "output_type": "execute_result",
          "data": {
            "text/html": [
              "<div>\n",
              "<style scoped>\n",
              "    .dataframe tbody tr th:only-of-type {\n",
              "        vertical-align: middle;\n",
              "    }\n",
              "\n",
              "    .dataframe tbody tr th {\n",
              "        vertical-align: top;\n",
              "    }\n",
              "\n",
              "    .dataframe thead th {\n",
              "        text-align: right;\n",
              "    }\n",
              "</style>\n",
              "<table border=\"1\" class=\"dataframe\">\n",
              "  <thead>\n",
              "    <tr style=\"text-align: right;\">\n",
              "      <th></th>\n",
              "      <th>title</th>\n",
              "      <th>release_date</th>\n",
              "      <th>video_release_date</th>\n",
              "      <th>imdb_url</th>\n",
              "      <th>unknown</th>\n",
              "      <th>action</th>\n",
              "      <th>adventure</th>\n",
              "      <th>animation</th>\n",
              "      <th>children</th>\n",
              "      <th>comedy</th>\n",
              "      <th>crime</th>\n",
              "      <th>documentary</th>\n",
              "      <th>drama</th>\n",
              "      <th>fantasy</th>\n",
              "      <th>film_noir</th>\n",
              "      <th>horror</th>\n",
              "      <th>musical</th>\n",
              "      <th>mystery</th>\n",
              "      <th>romance</th>\n",
              "      <th>sci_fi</th>\n",
              "      <th>thriller</th>\n",
              "      <th>war</th>\n",
              "      <th>western</th>\n",
              "    </tr>\n",
              "    <tr>\n",
              "      <th>movie_id</th>\n",
              "      <th></th>\n",
              "      <th></th>\n",
              "      <th></th>\n",
              "      <th></th>\n",
              "      <th></th>\n",
              "      <th></th>\n",
              "      <th></th>\n",
              "      <th></th>\n",
              "      <th></th>\n",
              "      <th></th>\n",
              "      <th></th>\n",
              "      <th></th>\n",
              "      <th></th>\n",
              "      <th></th>\n",
              "      <th></th>\n",
              "      <th></th>\n",
              "      <th></th>\n",
              "      <th></th>\n",
              "      <th></th>\n",
              "      <th></th>\n",
              "      <th></th>\n",
              "      <th></th>\n",
              "      <th></th>\n",
              "    </tr>\n",
              "  </thead>\n",
              "  <tbody>\n",
              "    <tr>\n",
              "      <th>1</th>\n",
              "      <td>Toy Story (1995)</td>\n",
              "      <td>01-Jan-1995</td>\n",
              "      <td>NaN</td>\n",
              "      <td>http://us.imdb.com/M/title-exact?Toy%20Story%2...</td>\n",
              "      <td>0</td>\n",
              "      <td>0</td>\n",
              "      <td>0</td>\n",
              "      <td>1</td>\n",
              "      <td>1</td>\n",
              "      <td>1</td>\n",
              "      <td>0</td>\n",
              "      <td>0</td>\n",
              "      <td>0</td>\n",
              "      <td>0</td>\n",
              "      <td>0</td>\n",
              "      <td>0</td>\n",
              "      <td>0</td>\n",
              "      <td>0</td>\n",
              "      <td>0</td>\n",
              "      <td>0</td>\n",
              "      <td>0</td>\n",
              "      <td>0</td>\n",
              "      <td>0</td>\n",
              "    </tr>\n",
              "    <tr>\n",
              "      <th>2</th>\n",
              "      <td>GoldenEye (1995)</td>\n",
              "      <td>01-Jan-1995</td>\n",
              "      <td>NaN</td>\n",
              "      <td>http://us.imdb.com/M/title-exact?GoldenEye%20(...</td>\n",
              "      <td>0</td>\n",
              "      <td>1</td>\n",
              "      <td>1</td>\n",
              "      <td>0</td>\n",
              "      <td>0</td>\n",
              "      <td>0</td>\n",
              "      <td>0</td>\n",
              "      <td>0</td>\n",
              "      <td>0</td>\n",
              "      <td>0</td>\n",
              "      <td>0</td>\n",
              "      <td>0</td>\n",
              "      <td>0</td>\n",
              "      <td>0</td>\n",
              "      <td>0</td>\n",
              "      <td>0</td>\n",
              "      <td>1</td>\n",
              "      <td>0</td>\n",
              "      <td>0</td>\n",
              "    </tr>\n",
              "    <tr>\n",
              "      <th>3</th>\n",
              "      <td>Four Rooms (1995)</td>\n",
              "      <td>01-Jan-1995</td>\n",
              "      <td>NaN</td>\n",
              "      <td>http://us.imdb.com/M/title-exact?Four%20Rooms%...</td>\n",
              "      <td>0</td>\n",
              "      <td>0</td>\n",
              "      <td>0</td>\n",
              "      <td>0</td>\n",
              "      <td>0</td>\n",
              "      <td>0</td>\n",
              "      <td>0</td>\n",
              "      <td>0</td>\n",
              "      <td>0</td>\n",
              "      <td>0</td>\n",
              "      <td>0</td>\n",
              "      <td>0</td>\n",
              "      <td>0</td>\n",
              "      <td>0</td>\n",
              "      <td>0</td>\n",
              "      <td>0</td>\n",
              "      <td>1</td>\n",
              "      <td>0</td>\n",
              "      <td>0</td>\n",
              "    </tr>\n",
              "    <tr>\n",
              "      <th>4</th>\n",
              "      <td>Get Shorty (1995)</td>\n",
              "      <td>01-Jan-1995</td>\n",
              "      <td>NaN</td>\n",
              "      <td>http://us.imdb.com/M/title-exact?Get%20Shorty%...</td>\n",
              "      <td>0</td>\n",
              "      <td>1</td>\n",
              "      <td>0</td>\n",
              "      <td>0</td>\n",
              "      <td>0</td>\n",
              "      <td>1</td>\n",
              "      <td>0</td>\n",
              "      <td>0</td>\n",
              "      <td>1</td>\n",
              "      <td>0</td>\n",
              "      <td>0</td>\n",
              "      <td>0</td>\n",
              "      <td>0</td>\n",
              "      <td>0</td>\n",
              "      <td>0</td>\n",
              "      <td>0</td>\n",
              "      <td>0</td>\n",
              "      <td>0</td>\n",
              "      <td>0</td>\n",
              "    </tr>\n",
              "    <tr>\n",
              "      <th>5</th>\n",
              "      <td>Copycat (1995)</td>\n",
              "      <td>01-Jan-1995</td>\n",
              "      <td>NaN</td>\n",
              "      <td>http://us.imdb.com/M/title-exact?Copycat%20(1995)</td>\n",
              "      <td>0</td>\n",
              "      <td>0</td>\n",
              "      <td>0</td>\n",
              "      <td>0</td>\n",
              "      <td>0</td>\n",
              "      <td>0</td>\n",
              "      <td>1</td>\n",
              "      <td>0</td>\n",
              "      <td>1</td>\n",
              "      <td>0</td>\n",
              "      <td>0</td>\n",
              "      <td>0</td>\n",
              "      <td>0</td>\n",
              "      <td>0</td>\n",
              "      <td>0</td>\n",
              "      <td>0</td>\n",
              "      <td>1</td>\n",
              "      <td>0</td>\n",
              "      <td>0</td>\n",
              "    </tr>\n",
              "  </tbody>\n",
              "</table>\n",
              "</div>"
            ],
            "text/plain": [
              "                      title release_date  ...  war western\n",
              "movie_id                                  ...             \n",
              "1          Toy Story (1995)  01-Jan-1995  ...    0       0\n",
              "2          GoldenEye (1995)  01-Jan-1995  ...    0       0\n",
              "3         Four Rooms (1995)  01-Jan-1995  ...    0       0\n",
              "4         Get Shorty (1995)  01-Jan-1995  ...    0       0\n",
              "5            Copycat (1995)  01-Jan-1995  ...    0       0\n",
              "\n",
              "[5 rows x 23 columns]"
            ]
          },
          "metadata": {
            "tags": []
          },
          "execution_count": 6
        }
      ]
    },
    {
      "cell_type": "markdown",
      "metadata": {
        "id": "Tu3lC6DQDCeR"
      },
      "source": [
        "Két oszlop is van, amik dátumot jelölnek: `release_date, video_release_date`. A pandas parszolni tudja a dátumokat többféle népszerű formátumban, ehhez csak a `parse_dates` paraméterben kell megadnunk a dátumot tartalmazó oszlopokat. Figyeljük meg, hogy ahol nincs dátum, az Nan (not a number)-ről NaT-ra (not a time) változik."
      ]
    },
    {
      "cell_type": "code",
      "metadata": {
        "id": "OfQpCw0gDCeR",
        "colab": {
          "base_uri": "https://localhost:8080/",
          "height": 362
        },
        "outputId": "842bc6ef-c31d-4553-8b3c-50b52657cff9"
      },
      "source": [
        "df = pd.read_table(os.path.join(data_dir, \"u.item\"), sep=\"|\",\n",
        "                   names=column_names, encoding=\"latin1\",\n",
        "                   parse_dates=[2,3], index_col='movie_id')\n",
        "df.head()"
      ],
      "execution_count": 7,
      "outputs": [
        {
          "output_type": "execute_result",
          "data": {
            "text/html": [
              "<div>\n",
              "<style scoped>\n",
              "    .dataframe tbody tr th:only-of-type {\n",
              "        vertical-align: middle;\n",
              "    }\n",
              "\n",
              "    .dataframe tbody tr th {\n",
              "        vertical-align: top;\n",
              "    }\n",
              "\n",
              "    .dataframe thead th {\n",
              "        text-align: right;\n",
              "    }\n",
              "</style>\n",
              "<table border=\"1\" class=\"dataframe\">\n",
              "  <thead>\n",
              "    <tr style=\"text-align: right;\">\n",
              "      <th></th>\n",
              "      <th>title</th>\n",
              "      <th>release_date</th>\n",
              "      <th>video_release_date</th>\n",
              "      <th>imdb_url</th>\n",
              "      <th>unknown</th>\n",
              "      <th>action</th>\n",
              "      <th>adventure</th>\n",
              "      <th>animation</th>\n",
              "      <th>children</th>\n",
              "      <th>comedy</th>\n",
              "      <th>crime</th>\n",
              "      <th>documentary</th>\n",
              "      <th>drama</th>\n",
              "      <th>fantasy</th>\n",
              "      <th>film_noir</th>\n",
              "      <th>horror</th>\n",
              "      <th>musical</th>\n",
              "      <th>mystery</th>\n",
              "      <th>romance</th>\n",
              "      <th>sci_fi</th>\n",
              "      <th>thriller</th>\n",
              "      <th>war</th>\n",
              "      <th>western</th>\n",
              "    </tr>\n",
              "    <tr>\n",
              "      <th>movie_id</th>\n",
              "      <th></th>\n",
              "      <th></th>\n",
              "      <th></th>\n",
              "      <th></th>\n",
              "      <th></th>\n",
              "      <th></th>\n",
              "      <th></th>\n",
              "      <th></th>\n",
              "      <th></th>\n",
              "      <th></th>\n",
              "      <th></th>\n",
              "      <th></th>\n",
              "      <th></th>\n",
              "      <th></th>\n",
              "      <th></th>\n",
              "      <th></th>\n",
              "      <th></th>\n",
              "      <th></th>\n",
              "      <th></th>\n",
              "      <th></th>\n",
              "      <th></th>\n",
              "      <th></th>\n",
              "      <th></th>\n",
              "    </tr>\n",
              "  </thead>\n",
              "  <tbody>\n",
              "    <tr>\n",
              "      <th>1</th>\n",
              "      <td>Toy Story (1995)</td>\n",
              "      <td>1995-01-01</td>\n",
              "      <td>NaT</td>\n",
              "      <td>http://us.imdb.com/M/title-exact?Toy%20Story%2...</td>\n",
              "      <td>0</td>\n",
              "      <td>0</td>\n",
              "      <td>0</td>\n",
              "      <td>1</td>\n",
              "      <td>1</td>\n",
              "      <td>1</td>\n",
              "      <td>0</td>\n",
              "      <td>0</td>\n",
              "      <td>0</td>\n",
              "      <td>0</td>\n",
              "      <td>0</td>\n",
              "      <td>0</td>\n",
              "      <td>0</td>\n",
              "      <td>0</td>\n",
              "      <td>0</td>\n",
              "      <td>0</td>\n",
              "      <td>0</td>\n",
              "      <td>0</td>\n",
              "      <td>0</td>\n",
              "    </tr>\n",
              "    <tr>\n",
              "      <th>2</th>\n",
              "      <td>GoldenEye (1995)</td>\n",
              "      <td>1995-01-01</td>\n",
              "      <td>NaT</td>\n",
              "      <td>http://us.imdb.com/M/title-exact?GoldenEye%20(...</td>\n",
              "      <td>0</td>\n",
              "      <td>1</td>\n",
              "      <td>1</td>\n",
              "      <td>0</td>\n",
              "      <td>0</td>\n",
              "      <td>0</td>\n",
              "      <td>0</td>\n",
              "      <td>0</td>\n",
              "      <td>0</td>\n",
              "      <td>0</td>\n",
              "      <td>0</td>\n",
              "      <td>0</td>\n",
              "      <td>0</td>\n",
              "      <td>0</td>\n",
              "      <td>0</td>\n",
              "      <td>0</td>\n",
              "      <td>1</td>\n",
              "      <td>0</td>\n",
              "      <td>0</td>\n",
              "    </tr>\n",
              "    <tr>\n",
              "      <th>3</th>\n",
              "      <td>Four Rooms (1995)</td>\n",
              "      <td>1995-01-01</td>\n",
              "      <td>NaT</td>\n",
              "      <td>http://us.imdb.com/M/title-exact?Four%20Rooms%...</td>\n",
              "      <td>0</td>\n",
              "      <td>0</td>\n",
              "      <td>0</td>\n",
              "      <td>0</td>\n",
              "      <td>0</td>\n",
              "      <td>0</td>\n",
              "      <td>0</td>\n",
              "      <td>0</td>\n",
              "      <td>0</td>\n",
              "      <td>0</td>\n",
              "      <td>0</td>\n",
              "      <td>0</td>\n",
              "      <td>0</td>\n",
              "      <td>0</td>\n",
              "      <td>0</td>\n",
              "      <td>0</td>\n",
              "      <td>1</td>\n",
              "      <td>0</td>\n",
              "      <td>0</td>\n",
              "    </tr>\n",
              "    <tr>\n",
              "      <th>4</th>\n",
              "      <td>Get Shorty (1995)</td>\n",
              "      <td>1995-01-01</td>\n",
              "      <td>NaT</td>\n",
              "      <td>http://us.imdb.com/M/title-exact?Get%20Shorty%...</td>\n",
              "      <td>0</td>\n",
              "      <td>1</td>\n",
              "      <td>0</td>\n",
              "      <td>0</td>\n",
              "      <td>0</td>\n",
              "      <td>1</td>\n",
              "      <td>0</td>\n",
              "      <td>0</td>\n",
              "      <td>1</td>\n",
              "      <td>0</td>\n",
              "      <td>0</td>\n",
              "      <td>0</td>\n",
              "      <td>0</td>\n",
              "      <td>0</td>\n",
              "      <td>0</td>\n",
              "      <td>0</td>\n",
              "      <td>0</td>\n",
              "      <td>0</td>\n",
              "      <td>0</td>\n",
              "    </tr>\n",
              "    <tr>\n",
              "      <th>5</th>\n",
              "      <td>Copycat (1995)</td>\n",
              "      <td>1995-01-01</td>\n",
              "      <td>NaT</td>\n",
              "      <td>http://us.imdb.com/M/title-exact?Copycat%20(1995)</td>\n",
              "      <td>0</td>\n",
              "      <td>0</td>\n",
              "      <td>0</td>\n",
              "      <td>0</td>\n",
              "      <td>0</td>\n",
              "      <td>0</td>\n",
              "      <td>1</td>\n",
              "      <td>0</td>\n",
              "      <td>1</td>\n",
              "      <td>0</td>\n",
              "      <td>0</td>\n",
              "      <td>0</td>\n",
              "      <td>0</td>\n",
              "      <td>0</td>\n",
              "      <td>0</td>\n",
              "      <td>0</td>\n",
              "      <td>1</td>\n",
              "      <td>0</td>\n",
              "      <td>0</td>\n",
              "    </tr>\n",
              "  </tbody>\n",
              "</table>\n",
              "</div>"
            ],
            "text/plain": [
              "                      title release_date  ... war western\n",
              "movie_id                                  ...            \n",
              "1          Toy Story (1995)   1995-01-01  ...   0       0\n",
              "2          GoldenEye (1995)   1995-01-01  ...   0       0\n",
              "3         Four Rooms (1995)   1995-01-01  ...   0       0\n",
              "4         Get Shorty (1995)   1995-01-01  ...   0       0\n",
              "5            Copycat (1995)   1995-01-01  ...   0       0\n",
              "\n",
              "[5 rows x 23 columns]"
            ]
          },
          "metadata": {
            "tags": []
          },
          "execution_count": 7
        }
      ]
    },
    {
      "cell_type": "markdown",
      "metadata": {
        "id": "kG4o3LP1DCeU"
      },
      "source": [
        "Még mindig nem tökéletes, hiszen a filmek címei után szerepel az évszám zárójelben, ami egyrészt redundáns, másrészt zaj. Tüntessük el!\n",
        "\n",
        "A szokásos `str` műveletek egy része elérhető DataSeries objektumokra is (minden elemre végrehajtja). A függvényeket az `str` névtérben találjuk."
      ]
    },
    {
      "cell_type": "code",
      "metadata": {
        "id": "1qF2GKhODCeU",
        "colab": {
          "base_uri": "https://localhost:8080/"
        },
        "outputId": "891f252f-7e93-4314-f2d9-f70fa20bb41a"
      },
      "source": [
        "df.title.str"
      ],
      "execution_count": null,
      "outputs": [
        {
          "output_type": "execute_result",
          "data": {
            "text/plain": [
              "<pandas.core.strings.StringMethods at 0x7f8c641a2710>"
            ]
          },
          "metadata": {
            "tags": []
          },
          "execution_count": 8
        }
      ]
    },
    {
      "cell_type": "markdown",
      "metadata": {
        "id": "wOvkikX6DCeW"
      },
      "source": [
        "Egy reguláris kifejezéssel eltüntetjük a két zárójel közti részt, majd eltávolítjuk az ott maradt whitespace-eket (a strip függvény a stringek elejéről és végéről is eltávolítja).\n",
        "Végül adjuk értékül a régi title oszlopnak a kezdő és záró whitespace-ektől megfosztott változatát."
      ]
    },
    {
      "cell_type": "code",
      "metadata": {
        "id": "tI-tXVwYDCeX"
      },
      "source": [
        "df.title = df.title.str.replace(r'\\(.*\\)', '').str.strip()"
      ],
      "execution_count": null,
      "outputs": []
    },
    {
      "cell_type": "code",
      "metadata": {
        "id": "f5gMvhF_DCeZ",
        "colab": {
          "base_uri": "https://localhost:8080/",
          "height": 362
        },
        "outputId": "fffaae5c-e797-4ac4-fb12-8e6600430d47"
      },
      "source": [
        "df.head()"
      ],
      "execution_count": null,
      "outputs": [
        {
          "output_type": "execute_result",
          "data": {
            "text/html": [
              "<div>\n",
              "<style scoped>\n",
              "    .dataframe tbody tr th:only-of-type {\n",
              "        vertical-align: middle;\n",
              "    }\n",
              "\n",
              "    .dataframe tbody tr th {\n",
              "        vertical-align: top;\n",
              "    }\n",
              "\n",
              "    .dataframe thead th {\n",
              "        text-align: right;\n",
              "    }\n",
              "</style>\n",
              "<table border=\"1\" class=\"dataframe\">\n",
              "  <thead>\n",
              "    <tr style=\"text-align: right;\">\n",
              "      <th></th>\n",
              "      <th>title</th>\n",
              "      <th>release_date</th>\n",
              "      <th>video_release_date</th>\n",
              "      <th>imdb_url</th>\n",
              "      <th>unknown</th>\n",
              "      <th>action</th>\n",
              "      <th>adventure</th>\n",
              "      <th>animation</th>\n",
              "      <th>children</th>\n",
              "      <th>comedy</th>\n",
              "      <th>crime</th>\n",
              "      <th>documentary</th>\n",
              "      <th>drama</th>\n",
              "      <th>fantasy</th>\n",
              "      <th>film_noir</th>\n",
              "      <th>horror</th>\n",
              "      <th>musical</th>\n",
              "      <th>mystery</th>\n",
              "      <th>romance</th>\n",
              "      <th>sci_fi</th>\n",
              "      <th>thriller</th>\n",
              "      <th>war</th>\n",
              "      <th>western</th>\n",
              "    </tr>\n",
              "    <tr>\n",
              "      <th>movie_id</th>\n",
              "      <th></th>\n",
              "      <th></th>\n",
              "      <th></th>\n",
              "      <th></th>\n",
              "      <th></th>\n",
              "      <th></th>\n",
              "      <th></th>\n",
              "      <th></th>\n",
              "      <th></th>\n",
              "      <th></th>\n",
              "      <th></th>\n",
              "      <th></th>\n",
              "      <th></th>\n",
              "      <th></th>\n",
              "      <th></th>\n",
              "      <th></th>\n",
              "      <th></th>\n",
              "      <th></th>\n",
              "      <th></th>\n",
              "      <th></th>\n",
              "      <th></th>\n",
              "      <th></th>\n",
              "      <th></th>\n",
              "    </tr>\n",
              "  </thead>\n",
              "  <tbody>\n",
              "    <tr>\n",
              "      <th>1</th>\n",
              "      <td>Toy Story</td>\n",
              "      <td>1995-01-01</td>\n",
              "      <td>NaT</td>\n",
              "      <td>http://us.imdb.com/M/title-exact?Toy%20Story%2...</td>\n",
              "      <td>0</td>\n",
              "      <td>0</td>\n",
              "      <td>0</td>\n",
              "      <td>1</td>\n",
              "      <td>1</td>\n",
              "      <td>1</td>\n",
              "      <td>0</td>\n",
              "      <td>0</td>\n",
              "      <td>0</td>\n",
              "      <td>0</td>\n",
              "      <td>0</td>\n",
              "      <td>0</td>\n",
              "      <td>0</td>\n",
              "      <td>0</td>\n",
              "      <td>0</td>\n",
              "      <td>0</td>\n",
              "      <td>0</td>\n",
              "      <td>0</td>\n",
              "      <td>0</td>\n",
              "    </tr>\n",
              "    <tr>\n",
              "      <th>2</th>\n",
              "      <td>GoldenEye</td>\n",
              "      <td>1995-01-01</td>\n",
              "      <td>NaT</td>\n",
              "      <td>http://us.imdb.com/M/title-exact?GoldenEye%20(...</td>\n",
              "      <td>0</td>\n",
              "      <td>1</td>\n",
              "      <td>1</td>\n",
              "      <td>0</td>\n",
              "      <td>0</td>\n",
              "      <td>0</td>\n",
              "      <td>0</td>\n",
              "      <td>0</td>\n",
              "      <td>0</td>\n",
              "      <td>0</td>\n",
              "      <td>0</td>\n",
              "      <td>0</td>\n",
              "      <td>0</td>\n",
              "      <td>0</td>\n",
              "      <td>0</td>\n",
              "      <td>0</td>\n",
              "      <td>1</td>\n",
              "      <td>0</td>\n",
              "      <td>0</td>\n",
              "    </tr>\n",
              "    <tr>\n",
              "      <th>3</th>\n",
              "      <td>Four Rooms</td>\n",
              "      <td>1995-01-01</td>\n",
              "      <td>NaT</td>\n",
              "      <td>http://us.imdb.com/M/title-exact?Four%20Rooms%...</td>\n",
              "      <td>0</td>\n",
              "      <td>0</td>\n",
              "      <td>0</td>\n",
              "      <td>0</td>\n",
              "      <td>0</td>\n",
              "      <td>0</td>\n",
              "      <td>0</td>\n",
              "      <td>0</td>\n",
              "      <td>0</td>\n",
              "      <td>0</td>\n",
              "      <td>0</td>\n",
              "      <td>0</td>\n",
              "      <td>0</td>\n",
              "      <td>0</td>\n",
              "      <td>0</td>\n",
              "      <td>0</td>\n",
              "      <td>1</td>\n",
              "      <td>0</td>\n",
              "      <td>0</td>\n",
              "    </tr>\n",
              "    <tr>\n",
              "      <th>4</th>\n",
              "      <td>Get Shorty</td>\n",
              "      <td>1995-01-01</td>\n",
              "      <td>NaT</td>\n",
              "      <td>http://us.imdb.com/M/title-exact?Get%20Shorty%...</td>\n",
              "      <td>0</td>\n",
              "      <td>1</td>\n",
              "      <td>0</td>\n",
              "      <td>0</td>\n",
              "      <td>0</td>\n",
              "      <td>1</td>\n",
              "      <td>0</td>\n",
              "      <td>0</td>\n",
              "      <td>1</td>\n",
              "      <td>0</td>\n",
              "      <td>0</td>\n",
              "      <td>0</td>\n",
              "      <td>0</td>\n",
              "      <td>0</td>\n",
              "      <td>0</td>\n",
              "      <td>0</td>\n",
              "      <td>0</td>\n",
              "      <td>0</td>\n",
              "      <td>0</td>\n",
              "    </tr>\n",
              "    <tr>\n",
              "      <th>5</th>\n",
              "      <td>Copycat</td>\n",
              "      <td>1995-01-01</td>\n",
              "      <td>NaT</td>\n",
              "      <td>http://us.imdb.com/M/title-exact?Copycat%20(1995)</td>\n",
              "      <td>0</td>\n",
              "      <td>0</td>\n",
              "      <td>0</td>\n",
              "      <td>0</td>\n",
              "      <td>0</td>\n",
              "      <td>0</td>\n",
              "      <td>1</td>\n",
              "      <td>0</td>\n",
              "      <td>1</td>\n",
              "      <td>0</td>\n",
              "      <td>0</td>\n",
              "      <td>0</td>\n",
              "      <td>0</td>\n",
              "      <td>0</td>\n",
              "      <td>0</td>\n",
              "      <td>0</td>\n",
              "      <td>1</td>\n",
              "      <td>0</td>\n",
              "      <td>0</td>\n",
              "    </tr>\n",
              "  </tbody>\n",
              "</table>\n",
              "</div>"
            ],
            "text/plain": [
              "               title release_date video_release_date  ... thriller  war  western\n",
              "movie_id                                              ...                       \n",
              "1          Toy Story   1995-01-01                NaT  ...        0    0        0\n",
              "2          GoldenEye   1995-01-01                NaT  ...        1    0        0\n",
              "3         Four Rooms   1995-01-01                NaT  ...        1    0        0\n",
              "4         Get Shorty   1995-01-01                NaT  ...        0    0        0\n",
              "5            Copycat   1995-01-01                NaT  ...        1    0        0\n",
              "\n",
              "[5 rows x 23 columns]"
            ]
          },
          "metadata": {
            "tags": []
          },
          "execution_count": 10
        }
      ]
    },
    {
      "cell_type": "markdown",
      "metadata": {
        "id": "svcIUTB0DCeb"
      },
      "source": [
        "A `video_release_date` mező az első néhány sorban csak érvénytelen mezőket tartalmaz. Vajon igaz ez az egész DataFrame-re? Listázzuk ki azokat a mezőket, ahol nem NaT a video_release_date értéke, vagyis érvénytelen dátum."
      ]
    },
    {
      "cell_type": "code",
      "metadata": {
        "id": "1GXKH-RHDCec",
        "colab": {
          "base_uri": "https://localhost:8080/",
          "height": 97
        },
        "outputId": "38e86150-d417-445d-8026-b122bdccbb40"
      },
      "source": [
        "df[df.video_release_date.notnull()]"
      ],
      "execution_count": null,
      "outputs": [
        {
          "output_type": "execute_result",
          "data": {
            "text/html": [
              "<div>\n",
              "<style scoped>\n",
              "    .dataframe tbody tr th:only-of-type {\n",
              "        vertical-align: middle;\n",
              "    }\n",
              "\n",
              "    .dataframe tbody tr th {\n",
              "        vertical-align: top;\n",
              "    }\n",
              "\n",
              "    .dataframe thead th {\n",
              "        text-align: right;\n",
              "    }\n",
              "</style>\n",
              "<table border=\"1\" class=\"dataframe\">\n",
              "  <thead>\n",
              "    <tr style=\"text-align: right;\">\n",
              "      <th></th>\n",
              "      <th>title</th>\n",
              "      <th>release_date</th>\n",
              "      <th>video_release_date</th>\n",
              "      <th>imdb_url</th>\n",
              "      <th>unknown</th>\n",
              "      <th>action</th>\n",
              "      <th>adventure</th>\n",
              "      <th>animation</th>\n",
              "      <th>children</th>\n",
              "      <th>comedy</th>\n",
              "      <th>crime</th>\n",
              "      <th>documentary</th>\n",
              "      <th>drama</th>\n",
              "      <th>fantasy</th>\n",
              "      <th>film_noir</th>\n",
              "      <th>horror</th>\n",
              "      <th>musical</th>\n",
              "      <th>mystery</th>\n",
              "      <th>romance</th>\n",
              "      <th>sci_fi</th>\n",
              "      <th>thriller</th>\n",
              "      <th>war</th>\n",
              "      <th>western</th>\n",
              "    </tr>\n",
              "    <tr>\n",
              "      <th>movie_id</th>\n",
              "      <th></th>\n",
              "      <th></th>\n",
              "      <th></th>\n",
              "      <th></th>\n",
              "      <th></th>\n",
              "      <th></th>\n",
              "      <th></th>\n",
              "      <th></th>\n",
              "      <th></th>\n",
              "      <th></th>\n",
              "      <th></th>\n",
              "      <th></th>\n",
              "      <th></th>\n",
              "      <th></th>\n",
              "      <th></th>\n",
              "      <th></th>\n",
              "      <th></th>\n",
              "      <th></th>\n",
              "      <th></th>\n",
              "      <th></th>\n",
              "      <th></th>\n",
              "      <th></th>\n",
              "      <th></th>\n",
              "    </tr>\n",
              "  </thead>\n",
              "  <tbody>\n",
              "  </tbody>\n",
              "</table>\n",
              "</div>"
            ],
            "text/plain": [
              "Empty DataFrame\n",
              "Columns: [title, release_date, video_release_date, imdb_url, unknown, action, adventure, animation, children, comedy, crime, documentary, drama, fantasy, film_noir, horror, musical, mystery, romance, sci_fi, thriller, war, western]\n",
              "Index: []"
            ]
          },
          "metadata": {
            "tags": []
          },
          "execution_count": 11
        }
      ]
    },
    {
      "cell_type": "markdown",
      "metadata": {
        "id": "z7giGdlmDCef"
      },
      "source": [
        "Nincs ilyen mező, ezért elhagyhatjuk az oszlopot."
      ]
    },
    {
      "cell_type": "code",
      "metadata": {
        "id": "mrxfz675DCef",
        "colab": {
          "base_uri": "https://localhost:8080/",
          "height": 362
        },
        "outputId": "8d6f9912-dc10-42ad-bd7a-da15cdad5bd2"
      },
      "source": [
        "df = df.drop('video_release_date', axis=1)\n",
        "df.head()"
      ],
      "execution_count": 8,
      "outputs": [
        {
          "output_type": "execute_result",
          "data": {
            "text/html": [
              "<div>\n",
              "<style scoped>\n",
              "    .dataframe tbody tr th:only-of-type {\n",
              "        vertical-align: middle;\n",
              "    }\n",
              "\n",
              "    .dataframe tbody tr th {\n",
              "        vertical-align: top;\n",
              "    }\n",
              "\n",
              "    .dataframe thead th {\n",
              "        text-align: right;\n",
              "    }\n",
              "</style>\n",
              "<table border=\"1\" class=\"dataframe\">\n",
              "  <thead>\n",
              "    <tr style=\"text-align: right;\">\n",
              "      <th></th>\n",
              "      <th>title</th>\n",
              "      <th>release_date</th>\n",
              "      <th>imdb_url</th>\n",
              "      <th>unknown</th>\n",
              "      <th>action</th>\n",
              "      <th>adventure</th>\n",
              "      <th>animation</th>\n",
              "      <th>children</th>\n",
              "      <th>comedy</th>\n",
              "      <th>crime</th>\n",
              "      <th>documentary</th>\n",
              "      <th>drama</th>\n",
              "      <th>fantasy</th>\n",
              "      <th>film_noir</th>\n",
              "      <th>horror</th>\n",
              "      <th>musical</th>\n",
              "      <th>mystery</th>\n",
              "      <th>romance</th>\n",
              "      <th>sci_fi</th>\n",
              "      <th>thriller</th>\n",
              "      <th>war</th>\n",
              "      <th>western</th>\n",
              "    </tr>\n",
              "    <tr>\n",
              "      <th>movie_id</th>\n",
              "      <th></th>\n",
              "      <th></th>\n",
              "      <th></th>\n",
              "      <th></th>\n",
              "      <th></th>\n",
              "      <th></th>\n",
              "      <th></th>\n",
              "      <th></th>\n",
              "      <th></th>\n",
              "      <th></th>\n",
              "      <th></th>\n",
              "      <th></th>\n",
              "      <th></th>\n",
              "      <th></th>\n",
              "      <th></th>\n",
              "      <th></th>\n",
              "      <th></th>\n",
              "      <th></th>\n",
              "      <th></th>\n",
              "      <th></th>\n",
              "      <th></th>\n",
              "      <th></th>\n",
              "    </tr>\n",
              "  </thead>\n",
              "  <tbody>\n",
              "    <tr>\n",
              "      <th>1</th>\n",
              "      <td>Toy Story (1995)</td>\n",
              "      <td>1995-01-01</td>\n",
              "      <td>http://us.imdb.com/M/title-exact?Toy%20Story%2...</td>\n",
              "      <td>0</td>\n",
              "      <td>0</td>\n",
              "      <td>0</td>\n",
              "      <td>1</td>\n",
              "      <td>1</td>\n",
              "      <td>1</td>\n",
              "      <td>0</td>\n",
              "      <td>0</td>\n",
              "      <td>0</td>\n",
              "      <td>0</td>\n",
              "      <td>0</td>\n",
              "      <td>0</td>\n",
              "      <td>0</td>\n",
              "      <td>0</td>\n",
              "      <td>0</td>\n",
              "      <td>0</td>\n",
              "      <td>0</td>\n",
              "      <td>0</td>\n",
              "      <td>0</td>\n",
              "    </tr>\n",
              "    <tr>\n",
              "      <th>2</th>\n",
              "      <td>GoldenEye (1995)</td>\n",
              "      <td>1995-01-01</td>\n",
              "      <td>http://us.imdb.com/M/title-exact?GoldenEye%20(...</td>\n",
              "      <td>0</td>\n",
              "      <td>1</td>\n",
              "      <td>1</td>\n",
              "      <td>0</td>\n",
              "      <td>0</td>\n",
              "      <td>0</td>\n",
              "      <td>0</td>\n",
              "      <td>0</td>\n",
              "      <td>0</td>\n",
              "      <td>0</td>\n",
              "      <td>0</td>\n",
              "      <td>0</td>\n",
              "      <td>0</td>\n",
              "      <td>0</td>\n",
              "      <td>0</td>\n",
              "      <td>0</td>\n",
              "      <td>1</td>\n",
              "      <td>0</td>\n",
              "      <td>0</td>\n",
              "    </tr>\n",
              "    <tr>\n",
              "      <th>3</th>\n",
              "      <td>Four Rooms (1995)</td>\n",
              "      <td>1995-01-01</td>\n",
              "      <td>http://us.imdb.com/M/title-exact?Four%20Rooms%...</td>\n",
              "      <td>0</td>\n",
              "      <td>0</td>\n",
              "      <td>0</td>\n",
              "      <td>0</td>\n",
              "      <td>0</td>\n",
              "      <td>0</td>\n",
              "      <td>0</td>\n",
              "      <td>0</td>\n",
              "      <td>0</td>\n",
              "      <td>0</td>\n",
              "      <td>0</td>\n",
              "      <td>0</td>\n",
              "      <td>0</td>\n",
              "      <td>0</td>\n",
              "      <td>0</td>\n",
              "      <td>0</td>\n",
              "      <td>1</td>\n",
              "      <td>0</td>\n",
              "      <td>0</td>\n",
              "    </tr>\n",
              "    <tr>\n",
              "      <th>4</th>\n",
              "      <td>Get Shorty (1995)</td>\n",
              "      <td>1995-01-01</td>\n",
              "      <td>http://us.imdb.com/M/title-exact?Get%20Shorty%...</td>\n",
              "      <td>0</td>\n",
              "      <td>1</td>\n",
              "      <td>0</td>\n",
              "      <td>0</td>\n",
              "      <td>0</td>\n",
              "      <td>1</td>\n",
              "      <td>0</td>\n",
              "      <td>0</td>\n",
              "      <td>1</td>\n",
              "      <td>0</td>\n",
              "      <td>0</td>\n",
              "      <td>0</td>\n",
              "      <td>0</td>\n",
              "      <td>0</td>\n",
              "      <td>0</td>\n",
              "      <td>0</td>\n",
              "      <td>0</td>\n",
              "      <td>0</td>\n",
              "      <td>0</td>\n",
              "    </tr>\n",
              "    <tr>\n",
              "      <th>5</th>\n",
              "      <td>Copycat (1995)</td>\n",
              "      <td>1995-01-01</td>\n",
              "      <td>http://us.imdb.com/M/title-exact?Copycat%20(1995)</td>\n",
              "      <td>0</td>\n",
              "      <td>0</td>\n",
              "      <td>0</td>\n",
              "      <td>0</td>\n",
              "      <td>0</td>\n",
              "      <td>0</td>\n",
              "      <td>1</td>\n",
              "      <td>0</td>\n",
              "      <td>1</td>\n",
              "      <td>0</td>\n",
              "      <td>0</td>\n",
              "      <td>0</td>\n",
              "      <td>0</td>\n",
              "      <td>0</td>\n",
              "      <td>0</td>\n",
              "      <td>0</td>\n",
              "      <td>1</td>\n",
              "      <td>0</td>\n",
              "      <td>0</td>\n",
              "    </tr>\n",
              "  </tbody>\n",
              "</table>\n",
              "</div>"
            ],
            "text/plain": [
              "                      title release_date  ... war  western\n",
              "movie_id                                  ...             \n",
              "1          Toy Story (1995)   1995-01-01  ...   0        0\n",
              "2          GoldenEye (1995)   1995-01-01  ...   0        0\n",
              "3         Four Rooms (1995)   1995-01-01  ...   0        0\n",
              "4         Get Shorty (1995)   1995-01-01  ...   0        0\n",
              "5            Copycat (1995)   1995-01-01  ...   0        0\n",
              "\n",
              "[5 rows x 22 columns]"
            ]
          },
          "metadata": {
            "tags": []
          },
          "execution_count": 8
        }
      ]
    },
    {
      "cell_type": "markdown",
      "metadata": {
        "id": "y4rllVTgDCei"
      },
      "source": [
        "Van egy `unknown` oszlop, ettől is szabaduljunk meg!"
      ]
    },
    {
      "cell_type": "code",
      "metadata": {
        "id": "KvuFQeb1DCei"
      },
      "source": [
        "df = df.drop('unknown', axis=1)"
      ],
      "execution_count": 9,
      "outputs": []
    },
    {
      "cell_type": "markdown",
      "metadata": {
        "id": "xhdbMh2gDCel"
      },
      "source": [
        "## Adatok felszínes vizsgálata\n",
        "\n",
        "Nézzük meg, hogy milyen információkat tudhatunk könnyedén meg a DataFrame-ről."
      ]
    },
    {
      "cell_type": "markdown",
      "metadata": {
        "id": "tSv2KBwHDCel"
      },
      "source": [
        "A `describe` függvény oszloponként szolgáltat alapvető infomációkkal: darabszám, átlag, szórás stb.\n",
        "Mivel a legtöbb mező bináris, most nem tudunk meg sok hasznos információt a mezőkről."
      ]
    },
    {
      "cell_type": "code",
      "metadata": {
        "id": "UwOWNA5DDCem",
        "colab": {
          "base_uri": "https://localhost:8080/",
          "height": 304
        },
        "outputId": "3dc843c9-96af-419e-dd87-859e34154443"
      },
      "source": [
        "df.describe()"
      ],
      "execution_count": null,
      "outputs": [
        {
          "output_type": "execute_result",
          "data": {
            "text/html": [
              "<div>\n",
              "<style scoped>\n",
              "    .dataframe tbody tr th:only-of-type {\n",
              "        vertical-align: middle;\n",
              "    }\n",
              "\n",
              "    .dataframe tbody tr th {\n",
              "        vertical-align: top;\n",
              "    }\n",
              "\n",
              "    .dataframe thead th {\n",
              "        text-align: right;\n",
              "    }\n",
              "</style>\n",
              "<table border=\"1\" class=\"dataframe\">\n",
              "  <thead>\n",
              "    <tr style=\"text-align: right;\">\n",
              "      <th></th>\n",
              "      <th>action</th>\n",
              "      <th>adventure</th>\n",
              "      <th>animation</th>\n",
              "      <th>children</th>\n",
              "      <th>comedy</th>\n",
              "      <th>crime</th>\n",
              "      <th>documentary</th>\n",
              "      <th>drama</th>\n",
              "      <th>fantasy</th>\n",
              "      <th>film_noir</th>\n",
              "      <th>horror</th>\n",
              "      <th>musical</th>\n",
              "      <th>mystery</th>\n",
              "      <th>romance</th>\n",
              "      <th>sci_fi</th>\n",
              "      <th>thriller</th>\n",
              "      <th>war</th>\n",
              "      <th>western</th>\n",
              "    </tr>\n",
              "  </thead>\n",
              "  <tbody>\n",
              "    <tr>\n",
              "      <th>count</th>\n",
              "      <td>1682.000000</td>\n",
              "      <td>1682.000000</td>\n",
              "      <td>1682.000000</td>\n",
              "      <td>1682.000000</td>\n",
              "      <td>1682.000000</td>\n",
              "      <td>1682.000000</td>\n",
              "      <td>1682.000000</td>\n",
              "      <td>1682.000000</td>\n",
              "      <td>1682.00000</td>\n",
              "      <td>1682.000000</td>\n",
              "      <td>1682.000000</td>\n",
              "      <td>1682.000000</td>\n",
              "      <td>1682.000000</td>\n",
              "      <td>1682.000000</td>\n",
              "      <td>1682.000000</td>\n",
              "      <td>1682.000000</td>\n",
              "      <td>1682.000000</td>\n",
              "      <td>1682.000000</td>\n",
              "    </tr>\n",
              "    <tr>\n",
              "      <th>mean</th>\n",
              "      <td>0.149227</td>\n",
              "      <td>0.080262</td>\n",
              "      <td>0.024970</td>\n",
              "      <td>0.072533</td>\n",
              "      <td>0.300238</td>\n",
              "      <td>0.064804</td>\n",
              "      <td>0.029727</td>\n",
              "      <td>0.431034</td>\n",
              "      <td>0.01308</td>\n",
              "      <td>0.014269</td>\n",
              "      <td>0.054697</td>\n",
              "      <td>0.033294</td>\n",
              "      <td>0.036266</td>\n",
              "      <td>0.146849</td>\n",
              "      <td>0.060048</td>\n",
              "      <td>0.149227</td>\n",
              "      <td>0.042212</td>\n",
              "      <td>0.016052</td>\n",
              "    </tr>\n",
              "    <tr>\n",
              "      <th>std</th>\n",
              "      <td>0.356418</td>\n",
              "      <td>0.271779</td>\n",
              "      <td>0.156081</td>\n",
              "      <td>0.259445</td>\n",
              "      <td>0.458498</td>\n",
              "      <td>0.246253</td>\n",
              "      <td>0.169882</td>\n",
              "      <td>0.495368</td>\n",
              "      <td>0.11365</td>\n",
              "      <td>0.118632</td>\n",
              "      <td>0.227455</td>\n",
              "      <td>0.179456</td>\n",
              "      <td>0.187008</td>\n",
              "      <td>0.354061</td>\n",
              "      <td>0.237646</td>\n",
              "      <td>0.356418</td>\n",
              "      <td>0.201131</td>\n",
              "      <td>0.125714</td>\n",
              "    </tr>\n",
              "    <tr>\n",
              "      <th>min</th>\n",
              "      <td>0.000000</td>\n",
              "      <td>0.000000</td>\n",
              "      <td>0.000000</td>\n",
              "      <td>0.000000</td>\n",
              "      <td>0.000000</td>\n",
              "      <td>0.000000</td>\n",
              "      <td>0.000000</td>\n",
              "      <td>0.000000</td>\n",
              "      <td>0.00000</td>\n",
              "      <td>0.000000</td>\n",
              "      <td>0.000000</td>\n",
              "      <td>0.000000</td>\n",
              "      <td>0.000000</td>\n",
              "      <td>0.000000</td>\n",
              "      <td>0.000000</td>\n",
              "      <td>0.000000</td>\n",
              "      <td>0.000000</td>\n",
              "      <td>0.000000</td>\n",
              "    </tr>\n",
              "    <tr>\n",
              "      <th>25%</th>\n",
              "      <td>0.000000</td>\n",
              "      <td>0.000000</td>\n",
              "      <td>0.000000</td>\n",
              "      <td>0.000000</td>\n",
              "      <td>0.000000</td>\n",
              "      <td>0.000000</td>\n",
              "      <td>0.000000</td>\n",
              "      <td>0.000000</td>\n",
              "      <td>0.00000</td>\n",
              "      <td>0.000000</td>\n",
              "      <td>0.000000</td>\n",
              "      <td>0.000000</td>\n",
              "      <td>0.000000</td>\n",
              "      <td>0.000000</td>\n",
              "      <td>0.000000</td>\n",
              "      <td>0.000000</td>\n",
              "      <td>0.000000</td>\n",
              "      <td>0.000000</td>\n",
              "    </tr>\n",
              "    <tr>\n",
              "      <th>50%</th>\n",
              "      <td>0.000000</td>\n",
              "      <td>0.000000</td>\n",
              "      <td>0.000000</td>\n",
              "      <td>0.000000</td>\n",
              "      <td>0.000000</td>\n",
              "      <td>0.000000</td>\n",
              "      <td>0.000000</td>\n",
              "      <td>0.000000</td>\n",
              "      <td>0.00000</td>\n",
              "      <td>0.000000</td>\n",
              "      <td>0.000000</td>\n",
              "      <td>0.000000</td>\n",
              "      <td>0.000000</td>\n",
              "      <td>0.000000</td>\n",
              "      <td>0.000000</td>\n",
              "      <td>0.000000</td>\n",
              "      <td>0.000000</td>\n",
              "      <td>0.000000</td>\n",
              "    </tr>\n",
              "    <tr>\n",
              "      <th>75%</th>\n",
              "      <td>0.000000</td>\n",
              "      <td>0.000000</td>\n",
              "      <td>0.000000</td>\n",
              "      <td>0.000000</td>\n",
              "      <td>1.000000</td>\n",
              "      <td>0.000000</td>\n",
              "      <td>0.000000</td>\n",
              "      <td>1.000000</td>\n",
              "      <td>0.00000</td>\n",
              "      <td>0.000000</td>\n",
              "      <td>0.000000</td>\n",
              "      <td>0.000000</td>\n",
              "      <td>0.000000</td>\n",
              "      <td>0.000000</td>\n",
              "      <td>0.000000</td>\n",
              "      <td>0.000000</td>\n",
              "      <td>0.000000</td>\n",
              "      <td>0.000000</td>\n",
              "    </tr>\n",
              "    <tr>\n",
              "      <th>max</th>\n",
              "      <td>1.000000</td>\n",
              "      <td>1.000000</td>\n",
              "      <td>1.000000</td>\n",
              "      <td>1.000000</td>\n",
              "      <td>1.000000</td>\n",
              "      <td>1.000000</td>\n",
              "      <td>1.000000</td>\n",
              "      <td>1.000000</td>\n",
              "      <td>1.00000</td>\n",
              "      <td>1.000000</td>\n",
              "      <td>1.000000</td>\n",
              "      <td>1.000000</td>\n",
              "      <td>1.000000</td>\n",
              "      <td>1.000000</td>\n",
              "      <td>1.000000</td>\n",
              "      <td>1.000000</td>\n",
              "      <td>1.000000</td>\n",
              "      <td>1.000000</td>\n",
              "    </tr>\n",
              "  </tbody>\n",
              "</table>\n",
              "</div>"
            ],
            "text/plain": [
              "            action    adventure  ...          war      western\n",
              "count  1682.000000  1682.000000  ...  1682.000000  1682.000000\n",
              "mean      0.149227     0.080262  ...     0.042212     0.016052\n",
              "std       0.356418     0.271779  ...     0.201131     0.125714\n",
              "min       0.000000     0.000000  ...     0.000000     0.000000\n",
              "25%       0.000000     0.000000  ...     0.000000     0.000000\n",
              "50%       0.000000     0.000000  ...     0.000000     0.000000\n",
              "75%       0.000000     0.000000  ...     0.000000     0.000000\n",
              "max       1.000000     1.000000  ...     1.000000     1.000000\n",
              "\n",
              "[8 rows x 18 columns]"
            ]
          },
          "metadata": {
            "tags": []
          },
          "execution_count": 15
        }
      ]
    },
    {
      "cell_type": "markdown",
      "metadata": {
        "id": "riTff8ZkDCeo"
      },
      "source": [
        "### Átlag, szórás, variancia stb.\n",
        "\n",
        "Egyenként is lekérdezhetőek:\n",
        "\n",
        "1. `count()`\n",
        "1. átlag: `mean()`\n",
        "1. szórás: `std()`\n",
        "1. variancia: `var()`\n",
        "1. 50% kvantilis: `quantile(.5)`\n",
        "1. `min`, `max`"
      ]
    },
    {
      "cell_type": "code",
      "metadata": {
        "id": "6e9BqTQADCeo",
        "colab": {
          "base_uri": "https://localhost:8080/"
        },
        "outputId": "61200568-04a3-4983-926b-cf806cd9234e"
      },
      "source": [
        "df.quantile(.9).head()"
      ],
      "execution_count": null,
      "outputs": [
        {
          "output_type": "execute_result",
          "data": {
            "text/plain": [
              "action       1.0\n",
              "adventure    0.0\n",
              "animation    0.0\n",
              "children     0.0\n",
              "comedy       1.0\n",
              "Name: 0.9, dtype: float64"
            ]
          },
          "metadata": {
            "tags": []
          },
          "execution_count": 16
        }
      ]
    },
    {
      "cell_type": "markdown",
      "metadata": {
        "id": "8ElE2mCYDCer"
      },
      "source": [
        "# Egyszerű lekérdezések "
      ]
    },
    {
      "cell_type": "markdown",
      "metadata": {
        "id": "hSCTVAxfDCes"
      },
      "source": [
        "## Melyik filmek jelentek meg 1956-ban? "
      ]
    },
    {
      "cell_type": "code",
      "metadata": {
        "id": "y-po2MtQDCes",
        "colab": {
          "base_uri": "https://localhost:8080/",
          "height": 343
        },
        "outputId": "a55e0386-8785-474a-f092-90b8d1bb5a3a"
      },
      "source": [
        "df[df.release_date.dt.year == 1956]"
      ],
      "execution_count": null,
      "outputs": [
        {
          "output_type": "execute_result",
          "data": {
            "text/html": [
              "<div>\n",
              "<style scoped>\n",
              "    .dataframe tbody tr th:only-of-type {\n",
              "        vertical-align: middle;\n",
              "    }\n",
              "\n",
              "    .dataframe tbody tr th {\n",
              "        vertical-align: top;\n",
              "    }\n",
              "\n",
              "    .dataframe thead th {\n",
              "        text-align: right;\n",
              "    }\n",
              "</style>\n",
              "<table border=\"1\" class=\"dataframe\">\n",
              "  <thead>\n",
              "    <tr style=\"text-align: right;\">\n",
              "      <th></th>\n",
              "      <th>title</th>\n",
              "      <th>release_date</th>\n",
              "      <th>imdb_url</th>\n",
              "      <th>action</th>\n",
              "      <th>adventure</th>\n",
              "      <th>animation</th>\n",
              "      <th>children</th>\n",
              "      <th>comedy</th>\n",
              "      <th>crime</th>\n",
              "      <th>documentary</th>\n",
              "      <th>drama</th>\n",
              "      <th>fantasy</th>\n",
              "      <th>film_noir</th>\n",
              "      <th>horror</th>\n",
              "      <th>musical</th>\n",
              "      <th>mystery</th>\n",
              "      <th>romance</th>\n",
              "      <th>sci_fi</th>\n",
              "      <th>thriller</th>\n",
              "      <th>war</th>\n",
              "      <th>western</th>\n",
              "    </tr>\n",
              "    <tr>\n",
              "      <th>movie_id</th>\n",
              "      <th></th>\n",
              "      <th></th>\n",
              "      <th></th>\n",
              "      <th></th>\n",
              "      <th></th>\n",
              "      <th></th>\n",
              "      <th></th>\n",
              "      <th></th>\n",
              "      <th></th>\n",
              "      <th></th>\n",
              "      <th></th>\n",
              "      <th></th>\n",
              "      <th></th>\n",
              "      <th></th>\n",
              "      <th></th>\n",
              "      <th></th>\n",
              "      <th></th>\n",
              "      <th></th>\n",
              "      <th></th>\n",
              "      <th></th>\n",
              "      <th></th>\n",
              "    </tr>\n",
              "  </thead>\n",
              "  <tbody>\n",
              "    <tr>\n",
              "      <th>434</th>\n",
              "      <td>Forbidden Planet</td>\n",
              "      <td>1956-01-01</td>\n",
              "      <td>http://us.imdb.com/M/title-exact?Forbidden%20P...</td>\n",
              "      <td>0</td>\n",
              "      <td>0</td>\n",
              "      <td>0</td>\n",
              "      <td>0</td>\n",
              "      <td>0</td>\n",
              "      <td>0</td>\n",
              "      <td>0</td>\n",
              "      <td>0</td>\n",
              "      <td>0</td>\n",
              "      <td>0</td>\n",
              "      <td>0</td>\n",
              "      <td>0</td>\n",
              "      <td>0</td>\n",
              "      <td>0</td>\n",
              "      <td>1</td>\n",
              "      <td>0</td>\n",
              "      <td>0</td>\n",
              "      <td>0</td>\n",
              "    </tr>\n",
              "    <tr>\n",
              "      <th>495</th>\n",
              "      <td>Around the World in 80 Days</td>\n",
              "      <td>1956-01-01</td>\n",
              "      <td>http://us.imdb.com/M/title-exact?Around%20the%...</td>\n",
              "      <td>0</td>\n",
              "      <td>1</td>\n",
              "      <td>0</td>\n",
              "      <td>0</td>\n",
              "      <td>1</td>\n",
              "      <td>0</td>\n",
              "      <td>0</td>\n",
              "      <td>0</td>\n",
              "      <td>0</td>\n",
              "      <td>0</td>\n",
              "      <td>0</td>\n",
              "      <td>0</td>\n",
              "      <td>0</td>\n",
              "      <td>0</td>\n",
              "      <td>0</td>\n",
              "      <td>0</td>\n",
              "      <td>0</td>\n",
              "      <td>0</td>\n",
              "    </tr>\n",
              "    <tr>\n",
              "      <th>614</th>\n",
              "      <td>Giant</td>\n",
              "      <td>1956-01-01</td>\n",
              "      <td>http://us.imdb.com/M/title-exact?Giant%20(1956)</td>\n",
              "      <td>0</td>\n",
              "      <td>0</td>\n",
              "      <td>0</td>\n",
              "      <td>0</td>\n",
              "      <td>0</td>\n",
              "      <td>0</td>\n",
              "      <td>0</td>\n",
              "      <td>1</td>\n",
              "      <td>0</td>\n",
              "      <td>0</td>\n",
              "      <td>0</td>\n",
              "      <td>0</td>\n",
              "      <td>0</td>\n",
              "      <td>0</td>\n",
              "      <td>0</td>\n",
              "      <td>0</td>\n",
              "      <td>0</td>\n",
              "      <td>0</td>\n",
              "    </tr>\n",
              "    <tr>\n",
              "      <th>1577</th>\n",
              "      <td>Death in the Garden</td>\n",
              "      <td>1956-01-01</td>\n",
              "      <td>http://us.imdb.com/Title?Mort+en+ce+jardin,+La...</td>\n",
              "      <td>0</td>\n",
              "      <td>0</td>\n",
              "      <td>0</td>\n",
              "      <td>0</td>\n",
              "      <td>0</td>\n",
              "      <td>0</td>\n",
              "      <td>0</td>\n",
              "      <td>1</td>\n",
              "      <td>0</td>\n",
              "      <td>0</td>\n",
              "      <td>0</td>\n",
              "      <td>0</td>\n",
              "      <td>0</td>\n",
              "      <td>0</td>\n",
              "      <td>0</td>\n",
              "      <td>0</td>\n",
              "      <td>0</td>\n",
              "      <td>0</td>\n",
              "    </tr>\n",
              "  </tbody>\n",
              "</table>\n",
              "</div>"
            ],
            "text/plain": [
              "                                title release_date  ... war  western\n",
              "movie_id                                            ...             \n",
              "434                  Forbidden Planet   1956-01-01  ...   0        0\n",
              "495       Around the World in 80 Days   1956-01-01  ...   0        0\n",
              "614                             Giant   1956-01-01  ...   0        0\n",
              "1577              Death in the Garden   1956-01-01  ...   0        0\n",
              "\n",
              "[4 rows x 21 columns]"
            ]
          },
          "metadata": {
            "tags": []
          },
          "execution_count": 40
        }
      ]
    },
    {
      "cell_type": "markdown",
      "metadata": {
        "id": "_WrwV_m3DCev"
      },
      "source": [
        "## Melyik filmek jelentek meg a 80-as években?"
      ]
    },
    {
      "cell_type": "code",
      "metadata": {
        "id": "1gYwxXJdDCev",
        "colab": {
          "base_uri": "https://localhost:8080/"
        },
        "outputId": "23ec5151-f160-4caa-8080-624bfcddd047"
      },
      "source": [
        "d = df[(df.release_date.dt.year >=  1980) & (df.release_date.dt.year < 1990)]\n",
        "len(d)"
      ],
      "execution_count": null,
      "outputs": [
        {
          "output_type": "execute_result",
          "data": {
            "text/plain": [
              "107"
            ]
          },
          "metadata": {
            "tags": []
          },
          "execution_count": 41
        }
      ]
    },
    {
      "cell_type": "markdown",
      "metadata": {
        "id": "jFZB5BpWDCey"
      },
      "source": [
        "107 film jelent meg a 80-as években, ezt már nem praktikus kiíni. Nézzük meg csak az első 3-at."
      ]
    },
    {
      "cell_type": "code",
      "metadata": {
        "id": "Jg_bAzzaDCey",
        "colab": {
          "base_uri": "https://localhost:8080/",
          "height": 261
        },
        "outputId": "46a2d061-9a7c-40e1-bed9-0e4741fb9a60"
      },
      "source": [
        "d.head(3)"
      ],
      "execution_count": null,
      "outputs": [
        {
          "output_type": "execute_result",
          "data": {
            "text/html": [
              "<div>\n",
              "<style scoped>\n",
              "    .dataframe tbody tr th:only-of-type {\n",
              "        vertical-align: middle;\n",
              "    }\n",
              "\n",
              "    .dataframe tbody tr th {\n",
              "        vertical-align: top;\n",
              "    }\n",
              "\n",
              "    .dataframe thead th {\n",
              "        text-align: right;\n",
              "    }\n",
              "</style>\n",
              "<table border=\"1\" class=\"dataframe\">\n",
              "  <thead>\n",
              "    <tr style=\"text-align: right;\">\n",
              "      <th></th>\n",
              "      <th>title</th>\n",
              "      <th>release_date</th>\n",
              "      <th>imdb_url</th>\n",
              "      <th>action</th>\n",
              "      <th>adventure</th>\n",
              "      <th>animation</th>\n",
              "      <th>children</th>\n",
              "      <th>comedy</th>\n",
              "      <th>crime</th>\n",
              "      <th>documentary</th>\n",
              "      <th>drama</th>\n",
              "      <th>fantasy</th>\n",
              "      <th>film_noir</th>\n",
              "      <th>horror</th>\n",
              "      <th>musical</th>\n",
              "      <th>mystery</th>\n",
              "      <th>romance</th>\n",
              "      <th>sci_fi</th>\n",
              "      <th>thriller</th>\n",
              "      <th>war</th>\n",
              "      <th>western</th>\n",
              "    </tr>\n",
              "    <tr>\n",
              "      <th>movie_id</th>\n",
              "      <th></th>\n",
              "      <th></th>\n",
              "      <th></th>\n",
              "      <th></th>\n",
              "      <th></th>\n",
              "      <th></th>\n",
              "      <th></th>\n",
              "      <th></th>\n",
              "      <th></th>\n",
              "      <th></th>\n",
              "      <th></th>\n",
              "      <th></th>\n",
              "      <th></th>\n",
              "      <th></th>\n",
              "      <th></th>\n",
              "      <th></th>\n",
              "      <th></th>\n",
              "      <th></th>\n",
              "      <th></th>\n",
              "      <th></th>\n",
              "      <th></th>\n",
              "    </tr>\n",
              "  </thead>\n",
              "  <tbody>\n",
              "    <tr>\n",
              "      <th>89</th>\n",
              "      <td>Blade Runner</td>\n",
              "      <td>1982-01-01</td>\n",
              "      <td>http://us.imdb.com/M/title-exact?Blade%20Runne...</td>\n",
              "      <td>0</td>\n",
              "      <td>0</td>\n",
              "      <td>0</td>\n",
              "      <td>0</td>\n",
              "      <td>0</td>\n",
              "      <td>0</td>\n",
              "      <td>0</td>\n",
              "      <td>0</td>\n",
              "      <td>0</td>\n",
              "      <td>1</td>\n",
              "      <td>0</td>\n",
              "      <td>0</td>\n",
              "      <td>0</td>\n",
              "      <td>0</td>\n",
              "      <td>1</td>\n",
              "      <td>0</td>\n",
              "      <td>0</td>\n",
              "      <td>0</td>\n",
              "    </tr>\n",
              "    <tr>\n",
              "      <th>101</th>\n",
              "      <td>Heavy Metal</td>\n",
              "      <td>1981-03-08</td>\n",
              "      <td>http://us.imdb.com/M/title-exact?Heavy%20Metal...</td>\n",
              "      <td>1</td>\n",
              "      <td>1</td>\n",
              "      <td>1</td>\n",
              "      <td>0</td>\n",
              "      <td>0</td>\n",
              "      <td>0</td>\n",
              "      <td>0</td>\n",
              "      <td>0</td>\n",
              "      <td>0</td>\n",
              "      <td>0</td>\n",
              "      <td>1</td>\n",
              "      <td>0</td>\n",
              "      <td>0</td>\n",
              "      <td>0</td>\n",
              "      <td>1</td>\n",
              "      <td>0</td>\n",
              "      <td>0</td>\n",
              "      <td>0</td>\n",
              "    </tr>\n",
              "    <tr>\n",
              "      <th>144</th>\n",
              "      <td>Die Hard</td>\n",
              "      <td>1988-01-01</td>\n",
              "      <td>http://us.imdb.com/M/title-exact?Die%20Hard%20...</td>\n",
              "      <td>1</td>\n",
              "      <td>0</td>\n",
              "      <td>0</td>\n",
              "      <td>0</td>\n",
              "      <td>0</td>\n",
              "      <td>0</td>\n",
              "      <td>0</td>\n",
              "      <td>0</td>\n",
              "      <td>0</td>\n",
              "      <td>0</td>\n",
              "      <td>0</td>\n",
              "      <td>0</td>\n",
              "      <td>0</td>\n",
              "      <td>0</td>\n",
              "      <td>0</td>\n",
              "      <td>1</td>\n",
              "      <td>0</td>\n",
              "      <td>0</td>\n",
              "    </tr>\n",
              "  </tbody>\n",
              "</table>\n",
              "</div>"
            ],
            "text/plain": [
              "                 title release_date  ... war  western\n",
              "movie_id                             ...             \n",
              "89        Blade Runner   1982-01-01  ...   0        0\n",
              "101        Heavy Metal   1981-03-08  ...   0        0\n",
              "144           Die Hard   1988-01-01  ...   0        0\n",
              "\n",
              "[3 rows x 21 columns]"
            ]
          },
          "metadata": {
            "tags": []
          },
          "execution_count": 42
        }
      ]
    },
    {
      "cell_type": "markdown",
      "metadata": {
        "id": "jfNFGP8tDCe0"
      },
      "source": [
        "### A megjelenítési év legyen külön oszlop\n",
        "\n",
        "Többször fogjuk még használni a megjelenési évet, ezért praktikus külön év oszlopot létrehozni.\n",
        "\n",
        "A DateTime mezőhöz használható metódusok és attribútumok a dt névtérben vannak, így tudjuk minden oszlopra egyszerre meghívni. Az eredményt egy új oszlopban tároljuk."
      ]
    },
    {
      "cell_type": "code",
      "metadata": {
        "id": "eYCIi59bDCe1"
      },
      "source": [
        "df['year'] = df.release_date.dt.year"
      ],
      "execution_count": 10,
      "outputs": []
    },
    {
      "cell_type": "markdown",
      "metadata": {
        "id": "dBQvC4hkDCe3"
      },
      "source": [
        "## Mikor jelentek meg a Die Hard filmek? "
      ]
    },
    {
      "cell_type": "code",
      "metadata": {
        "id": "MuVUhdbXDCe4",
        "colab": {
          "base_uri": "https://localhost:8080/",
          "height": 165
        },
        "outputId": "2fa2c870-ab68-46b8-9770-2d26231b1820"
      },
      "source": [
        "df[df.title == 'Die Hard']"
      ],
      "execution_count": null,
      "outputs": [
        {
          "output_type": "execute_result",
          "data": {
            "text/html": [
              "<div>\n",
              "<style scoped>\n",
              "    .dataframe tbody tr th:only-of-type {\n",
              "        vertical-align: middle;\n",
              "    }\n",
              "\n",
              "    .dataframe tbody tr th {\n",
              "        vertical-align: top;\n",
              "    }\n",
              "\n",
              "    .dataframe thead th {\n",
              "        text-align: right;\n",
              "    }\n",
              "</style>\n",
              "<table border=\"1\" class=\"dataframe\">\n",
              "  <thead>\n",
              "    <tr style=\"text-align: right;\">\n",
              "      <th></th>\n",
              "      <th>title</th>\n",
              "      <th>release_date</th>\n",
              "      <th>imdb_url</th>\n",
              "      <th>action</th>\n",
              "      <th>adventure</th>\n",
              "      <th>animation</th>\n",
              "      <th>children</th>\n",
              "      <th>comedy</th>\n",
              "      <th>crime</th>\n",
              "      <th>documentary</th>\n",
              "      <th>drama</th>\n",
              "      <th>fantasy</th>\n",
              "      <th>film_noir</th>\n",
              "      <th>horror</th>\n",
              "      <th>musical</th>\n",
              "      <th>mystery</th>\n",
              "      <th>romance</th>\n",
              "      <th>sci_fi</th>\n",
              "      <th>thriller</th>\n",
              "      <th>war</th>\n",
              "      <th>western</th>\n",
              "      <th>year</th>\n",
              "    </tr>\n",
              "    <tr>\n",
              "      <th>movie_id</th>\n",
              "      <th></th>\n",
              "      <th></th>\n",
              "      <th></th>\n",
              "      <th></th>\n",
              "      <th></th>\n",
              "      <th></th>\n",
              "      <th></th>\n",
              "      <th></th>\n",
              "      <th></th>\n",
              "      <th></th>\n",
              "      <th></th>\n",
              "      <th></th>\n",
              "      <th></th>\n",
              "      <th></th>\n",
              "      <th></th>\n",
              "      <th></th>\n",
              "      <th></th>\n",
              "      <th></th>\n",
              "      <th></th>\n",
              "      <th></th>\n",
              "      <th></th>\n",
              "      <th></th>\n",
              "    </tr>\n",
              "  </thead>\n",
              "  <tbody>\n",
              "    <tr>\n",
              "      <th>144</th>\n",
              "      <td>Die Hard</td>\n",
              "      <td>1988-01-01</td>\n",
              "      <td>http://us.imdb.com/M/title-exact?Die%20Hard%20...</td>\n",
              "      <td>1</td>\n",
              "      <td>0</td>\n",
              "      <td>0</td>\n",
              "      <td>0</td>\n",
              "      <td>0</td>\n",
              "      <td>0</td>\n",
              "      <td>0</td>\n",
              "      <td>0</td>\n",
              "      <td>0</td>\n",
              "      <td>0</td>\n",
              "      <td>0</td>\n",
              "      <td>0</td>\n",
              "      <td>0</td>\n",
              "      <td>0</td>\n",
              "      <td>0</td>\n",
              "      <td>1</td>\n",
              "      <td>0</td>\n",
              "      <td>0</td>\n",
              "      <td>1988.0</td>\n",
              "    </tr>\n",
              "  </tbody>\n",
              "</table>\n",
              "</div>"
            ],
            "text/plain": [
              "             title release_date  ... western    year\n",
              "movie_id                         ...                \n",
              "144       Die Hard   1988-01-01  ...       0  1988.0\n",
              "\n",
              "[1 rows x 22 columns]"
            ]
          },
          "metadata": {
            "tags": []
          },
          "execution_count": 44
        }
      ]
    },
    {
      "cell_type": "markdown",
      "metadata": {
        "id": "oQnPaIfHDCe6"
      },
      "source": [
        "Sajnos csak teljes egyezésre tudunk így szűrni.\n",
        "\n",
        "A szöveges mezőkre a pandas nyújt egy csomó műveletet, amik az str névtérben vannak (ahogy a dátum mezőkre a dt-ben voltak)."
      ]
    },
    {
      "cell_type": "code",
      "metadata": {
        "id": "bF2KkqgODCe7",
        "colab": {
          "base_uri": "https://localhost:8080/",
          "height": 295
        },
        "outputId": "8bd4a3d0-ed64-42d7-f017-ae566fca3443"
      },
      "source": [
        "df[df.title.str.contains('Die Hard')]"
      ],
      "execution_count": null,
      "outputs": [
        {
          "output_type": "execute_result",
          "data": {
            "text/html": [
              "<div>\n",
              "<style scoped>\n",
              "    .dataframe tbody tr th:only-of-type {\n",
              "        vertical-align: middle;\n",
              "    }\n",
              "\n",
              "    .dataframe tbody tr th {\n",
              "        vertical-align: top;\n",
              "    }\n",
              "\n",
              "    .dataframe thead th {\n",
              "        text-align: right;\n",
              "    }\n",
              "</style>\n",
              "<table border=\"1\" class=\"dataframe\">\n",
              "  <thead>\n",
              "    <tr style=\"text-align: right;\">\n",
              "      <th></th>\n",
              "      <th>title</th>\n",
              "      <th>release_date</th>\n",
              "      <th>imdb_url</th>\n",
              "      <th>action</th>\n",
              "      <th>adventure</th>\n",
              "      <th>animation</th>\n",
              "      <th>children</th>\n",
              "      <th>comedy</th>\n",
              "      <th>crime</th>\n",
              "      <th>documentary</th>\n",
              "      <th>drama</th>\n",
              "      <th>fantasy</th>\n",
              "      <th>film_noir</th>\n",
              "      <th>horror</th>\n",
              "      <th>musical</th>\n",
              "      <th>mystery</th>\n",
              "      <th>romance</th>\n",
              "      <th>sci_fi</th>\n",
              "      <th>thriller</th>\n",
              "      <th>war</th>\n",
              "      <th>western</th>\n",
              "      <th>year</th>\n",
              "    </tr>\n",
              "    <tr>\n",
              "      <th>movie_id</th>\n",
              "      <th></th>\n",
              "      <th></th>\n",
              "      <th></th>\n",
              "      <th></th>\n",
              "      <th></th>\n",
              "      <th></th>\n",
              "      <th></th>\n",
              "      <th></th>\n",
              "      <th></th>\n",
              "      <th></th>\n",
              "      <th></th>\n",
              "      <th></th>\n",
              "      <th></th>\n",
              "      <th></th>\n",
              "      <th></th>\n",
              "      <th></th>\n",
              "      <th></th>\n",
              "      <th></th>\n",
              "      <th></th>\n",
              "      <th></th>\n",
              "      <th></th>\n",
              "      <th></th>\n",
              "    </tr>\n",
              "  </thead>\n",
              "  <tbody>\n",
              "    <tr>\n",
              "      <th>144</th>\n",
              "      <td>Die Hard</td>\n",
              "      <td>1988-01-01</td>\n",
              "      <td>http://us.imdb.com/M/title-exact?Die%20Hard%20...</td>\n",
              "      <td>1</td>\n",
              "      <td>0</td>\n",
              "      <td>0</td>\n",
              "      <td>0</td>\n",
              "      <td>0</td>\n",
              "      <td>0</td>\n",
              "      <td>0</td>\n",
              "      <td>0</td>\n",
              "      <td>0</td>\n",
              "      <td>0</td>\n",
              "      <td>0</td>\n",
              "      <td>0</td>\n",
              "      <td>0</td>\n",
              "      <td>0</td>\n",
              "      <td>0</td>\n",
              "      <td>1</td>\n",
              "      <td>0</td>\n",
              "      <td>0</td>\n",
              "      <td>1988.0</td>\n",
              "    </tr>\n",
              "    <tr>\n",
              "      <th>226</th>\n",
              "      <td>Die Hard 2</td>\n",
              "      <td>1990-01-01</td>\n",
              "      <td>http://us.imdb.com/M/title-exact?Die%20Hard%20...</td>\n",
              "      <td>1</td>\n",
              "      <td>0</td>\n",
              "      <td>0</td>\n",
              "      <td>0</td>\n",
              "      <td>0</td>\n",
              "      <td>0</td>\n",
              "      <td>0</td>\n",
              "      <td>0</td>\n",
              "      <td>0</td>\n",
              "      <td>0</td>\n",
              "      <td>0</td>\n",
              "      <td>0</td>\n",
              "      <td>0</td>\n",
              "      <td>0</td>\n",
              "      <td>0</td>\n",
              "      <td>1</td>\n",
              "      <td>0</td>\n",
              "      <td>0</td>\n",
              "      <td>1990.0</td>\n",
              "    </tr>\n",
              "    <tr>\n",
              "      <th>550</th>\n",
              "      <td>Die Hard: With a Vengeance</td>\n",
              "      <td>1995-01-01</td>\n",
              "      <td>http://us.imdb.com/M/title-exact?Die%20Hard:%2...</td>\n",
              "      <td>1</td>\n",
              "      <td>0</td>\n",
              "      <td>0</td>\n",
              "      <td>0</td>\n",
              "      <td>0</td>\n",
              "      <td>0</td>\n",
              "      <td>0</td>\n",
              "      <td>0</td>\n",
              "      <td>0</td>\n",
              "      <td>0</td>\n",
              "      <td>0</td>\n",
              "      <td>0</td>\n",
              "      <td>0</td>\n",
              "      <td>0</td>\n",
              "      <td>0</td>\n",
              "      <td>1</td>\n",
              "      <td>0</td>\n",
              "      <td>0</td>\n",
              "      <td>1995.0</td>\n",
              "    </tr>\n",
              "  </tbody>\n",
              "</table>\n",
              "</div>"
            ],
            "text/plain": [
              "                               title release_date  ... western    year\n",
              "movie_id                                           ...                \n",
              "144                         Die Hard   1988-01-01  ...       0  1988.0\n",
              "226                       Die Hard 2   1990-01-01  ...       0  1990.0\n",
              "550       Die Hard: With a Vengeance   1995-01-01  ...       0  1995.0\n",
              "\n",
              "[3 rows x 22 columns]"
            ]
          },
          "metadata": {
            "tags": []
          },
          "execution_count": 45
        }
      ]
    },
    {
      "cell_type": "markdown",
      "metadata": {
        "id": "0-ULK1fkDCe-"
      },
      "source": [
        "A Die Hard 4 és 5 hiányzik. Kilógnának az adatsorból? Nézzük meg még egyszer, hogy mikori filmek szerepelnek."
      ]
    },
    {
      "cell_type": "code",
      "metadata": {
        "id": "dR7MWKuaDCe-",
        "colab": {
          "base_uri": "https://localhost:8080/"
        },
        "outputId": "e79ea488-e8da-4c37-c987-88873ae10ca0"
      },
      "source": [
        "df.release_date.describe()"
      ],
      "execution_count": null,
      "outputs": [
        {
          "output_type": "stream",
          "text": [
            "/usr/local/lib/python3.7/dist-packages/ipykernel_launcher.py:1: FutureWarning: Treating datetime data as categorical rather than numeric in `.describe` is deprecated and will be removed in a future version of pandas. Specify `datetime_is_numeric=True` to silence this warning and adopt the future behavior now.\n",
            "  \"\"\"Entry point for launching an IPython kernel.\n"
          ],
          "name": "stderr"
        },
        {
          "output_type": "execute_result",
          "data": {
            "text/plain": [
              "count                    1681\n",
              "unique                    240\n",
              "top       1995-01-01 00:00:00\n",
              "freq                      215\n",
              "first     1922-01-01 00:00:00\n",
              "last      1998-10-23 00:00:00\n",
              "Name: release_date, dtype: object"
            ]
          },
          "metadata": {
            "tags": []
          },
          "execution_count": 46
        }
      ]
    },
    {
      "cell_type": "markdown",
      "metadata": {
        "id": "dNDo-EZsDCfB"
      },
      "source": [
        "A Die Hard 4 és 5 2007-ben, illetve 2013-ban jelentek meg, ezért nem szerepelnek az adatban."
      ]
    },
    {
      "cell_type": "markdown",
      "metadata": {
        "id": "GxNZ-6_4DCfC"
      },
      "source": [
        "### Melyik filmek tartoznak egyszerre az akció és romantikus kategóriába?"
      ]
    },
    {
      "cell_type": "code",
      "metadata": {
        "id": "y5lNA16oDCfD",
        "colab": {
          "base_uri": "https://localhost:8080/",
          "height": 408
        },
        "outputId": "b91fd32c-34e9-4d30-8eff-a4ec31b97781"
      },
      "source": [
        "d = df[(df.action==1) & (df.romance==1)]\n",
        "print(len(d))\n",
        "d.head()"
      ],
      "execution_count": null,
      "outputs": [
        {
          "output_type": "stream",
          "text": [
            "25\n"
          ],
          "name": "stdout"
        },
        {
          "output_type": "execute_result",
          "data": {
            "text/html": [
              "<div>\n",
              "<style scoped>\n",
              "    .dataframe tbody tr th:only-of-type {\n",
              "        vertical-align: middle;\n",
              "    }\n",
              "\n",
              "    .dataframe tbody tr th {\n",
              "        vertical-align: top;\n",
              "    }\n",
              "\n",
              "    .dataframe thead th {\n",
              "        text-align: right;\n",
              "    }\n",
              "</style>\n",
              "<table border=\"1\" class=\"dataframe\">\n",
              "  <thead>\n",
              "    <tr style=\"text-align: right;\">\n",
              "      <th></th>\n",
              "      <th>title</th>\n",
              "      <th>release_date</th>\n",
              "      <th>imdb_url</th>\n",
              "      <th>action</th>\n",
              "      <th>adventure</th>\n",
              "      <th>animation</th>\n",
              "      <th>children</th>\n",
              "      <th>comedy</th>\n",
              "      <th>crime</th>\n",
              "      <th>documentary</th>\n",
              "      <th>drama</th>\n",
              "      <th>fantasy</th>\n",
              "      <th>film_noir</th>\n",
              "      <th>horror</th>\n",
              "      <th>musical</th>\n",
              "      <th>mystery</th>\n",
              "      <th>romance</th>\n",
              "      <th>sci_fi</th>\n",
              "      <th>thriller</th>\n",
              "      <th>war</th>\n",
              "      <th>western</th>\n",
              "      <th>year</th>\n",
              "    </tr>\n",
              "    <tr>\n",
              "      <th>movie_id</th>\n",
              "      <th></th>\n",
              "      <th></th>\n",
              "      <th></th>\n",
              "      <th></th>\n",
              "      <th></th>\n",
              "      <th></th>\n",
              "      <th></th>\n",
              "      <th></th>\n",
              "      <th></th>\n",
              "      <th></th>\n",
              "      <th></th>\n",
              "      <th></th>\n",
              "      <th></th>\n",
              "      <th></th>\n",
              "      <th></th>\n",
              "      <th></th>\n",
              "      <th></th>\n",
              "      <th></th>\n",
              "      <th></th>\n",
              "      <th></th>\n",
              "      <th></th>\n",
              "      <th></th>\n",
              "    </tr>\n",
              "  </thead>\n",
              "  <tbody>\n",
              "    <tr>\n",
              "      <th>33</th>\n",
              "      <td>Desperado</td>\n",
              "      <td>1995-01-01</td>\n",
              "      <td>http://us.imdb.com/M/title-exact?Desperado%20(...</td>\n",
              "      <td>1</td>\n",
              "      <td>0</td>\n",
              "      <td>0</td>\n",
              "      <td>0</td>\n",
              "      <td>0</td>\n",
              "      <td>0</td>\n",
              "      <td>0</td>\n",
              "      <td>0</td>\n",
              "      <td>0</td>\n",
              "      <td>0</td>\n",
              "      <td>0</td>\n",
              "      <td>0</td>\n",
              "      <td>0</td>\n",
              "      <td>1</td>\n",
              "      <td>0</td>\n",
              "      <td>1</td>\n",
              "      <td>0</td>\n",
              "      <td>0</td>\n",
              "      <td>1995.0</td>\n",
              "    </tr>\n",
              "    <tr>\n",
              "      <th>50</th>\n",
              "      <td>Star Wars</td>\n",
              "      <td>1977-01-01</td>\n",
              "      <td>http://us.imdb.com/M/title-exact?Star%20Wars%2...</td>\n",
              "      <td>1</td>\n",
              "      <td>1</td>\n",
              "      <td>0</td>\n",
              "      <td>0</td>\n",
              "      <td>0</td>\n",
              "      <td>0</td>\n",
              "      <td>0</td>\n",
              "      <td>0</td>\n",
              "      <td>0</td>\n",
              "      <td>0</td>\n",
              "      <td>0</td>\n",
              "      <td>0</td>\n",
              "      <td>0</td>\n",
              "      <td>1</td>\n",
              "      <td>1</td>\n",
              "      <td>0</td>\n",
              "      <td>1</td>\n",
              "      <td>0</td>\n",
              "      <td>1977.0</td>\n",
              "    </tr>\n",
              "    <tr>\n",
              "      <th>68</th>\n",
              "      <td>Crow, The</td>\n",
              "      <td>1994-01-01</td>\n",
              "      <td>http://us.imdb.com/M/title-exact?Crow,%20The%2...</td>\n",
              "      <td>1</td>\n",
              "      <td>0</td>\n",
              "      <td>0</td>\n",
              "      <td>0</td>\n",
              "      <td>0</td>\n",
              "      <td>0</td>\n",
              "      <td>0</td>\n",
              "      <td>0</td>\n",
              "      <td>0</td>\n",
              "      <td>0</td>\n",
              "      <td>0</td>\n",
              "      <td>0</td>\n",
              "      <td>0</td>\n",
              "      <td>1</td>\n",
              "      <td>0</td>\n",
              "      <td>1</td>\n",
              "      <td>0</td>\n",
              "      <td>0</td>\n",
              "      <td>1994.0</td>\n",
              "    </tr>\n",
              "    <tr>\n",
              "      <th>92</th>\n",
              "      <td>True Romance</td>\n",
              "      <td>1993-01-01</td>\n",
              "      <td>http://us.imdb.com/M/title-exact?True%20Romanc...</td>\n",
              "      <td>1</td>\n",
              "      <td>0</td>\n",
              "      <td>0</td>\n",
              "      <td>0</td>\n",
              "      <td>0</td>\n",
              "      <td>1</td>\n",
              "      <td>0</td>\n",
              "      <td>0</td>\n",
              "      <td>0</td>\n",
              "      <td>0</td>\n",
              "      <td>0</td>\n",
              "      <td>0</td>\n",
              "      <td>0</td>\n",
              "      <td>1</td>\n",
              "      <td>0</td>\n",
              "      <td>0</td>\n",
              "      <td>0</td>\n",
              "      <td>0</td>\n",
              "      <td>1993.0</td>\n",
              "    </tr>\n",
              "    <tr>\n",
              "      <th>161</th>\n",
              "      <td>Top Gun</td>\n",
              "      <td>1986-01-01</td>\n",
              "      <td>http://us.imdb.com/M/title-exact?Top%20Gun%20(...</td>\n",
              "      <td>1</td>\n",
              "      <td>0</td>\n",
              "      <td>0</td>\n",
              "      <td>0</td>\n",
              "      <td>0</td>\n",
              "      <td>0</td>\n",
              "      <td>0</td>\n",
              "      <td>0</td>\n",
              "      <td>0</td>\n",
              "      <td>0</td>\n",
              "      <td>0</td>\n",
              "      <td>0</td>\n",
              "      <td>0</td>\n",
              "      <td>1</td>\n",
              "      <td>0</td>\n",
              "      <td>0</td>\n",
              "      <td>0</td>\n",
              "      <td>0</td>\n",
              "      <td>1986.0</td>\n",
              "    </tr>\n",
              "  </tbody>\n",
              "</table>\n",
              "</div>"
            ],
            "text/plain": [
              "                 title release_date  ... western    year\n",
              "movie_id                             ...                \n",
              "33           Desperado   1995-01-01  ...       0  1995.0\n",
              "50           Star Wars   1977-01-01  ...       0  1977.0\n",
              "68           Crow, The   1994-01-01  ...       0  1994.0\n",
              "92        True Romance   1993-01-01  ...       0  1993.0\n",
              "161            Top Gun   1986-01-01  ...       0  1986.0\n",
              "\n",
              "[5 rows x 22 columns]"
            ]
          },
          "metadata": {
            "tags": []
          },
          "execution_count": 47
        }
      ]
    },
    {
      "cell_type": "markdown",
      "metadata": {
        "id": "V9QF1I9ODCfG"
      },
      "source": [
        "### Melyik filmek tartoznak az akció VAGY a romantikus kategóriába?\n",
        "\n",
        "Itt a Boole vagyra gondolunk."
      ]
    },
    {
      "cell_type": "code",
      "metadata": {
        "id": "2t3Ga5MyDCfG",
        "colab": {
          "base_uri": "https://localhost:8080/",
          "height": 391
        },
        "outputId": "181fdfda-075a-40b0-84c1-cf0785c6c5c0"
      },
      "source": [
        "d = df[(df.action==1) | (df.romance==1)]\n",
        "print(len(d))\n",
        "d.head()"
      ],
      "execution_count": null,
      "outputs": [
        {
          "output_type": "stream",
          "text": [
            "473\n"
          ],
          "name": "stdout"
        },
        {
          "output_type": "execute_result",
          "data": {
            "text/html": [
              "<div>\n",
              "<style scoped>\n",
              "    .dataframe tbody tr th:only-of-type {\n",
              "        vertical-align: middle;\n",
              "    }\n",
              "\n",
              "    .dataframe tbody tr th {\n",
              "        vertical-align: top;\n",
              "    }\n",
              "\n",
              "    .dataframe thead th {\n",
              "        text-align: right;\n",
              "    }\n",
              "</style>\n",
              "<table border=\"1\" class=\"dataframe\">\n",
              "  <thead>\n",
              "    <tr style=\"text-align: right;\">\n",
              "      <th></th>\n",
              "      <th>title</th>\n",
              "      <th>release_date</th>\n",
              "      <th>imdb_url</th>\n",
              "      <th>action</th>\n",
              "      <th>adventure</th>\n",
              "      <th>animation</th>\n",
              "      <th>children</th>\n",
              "      <th>comedy</th>\n",
              "      <th>crime</th>\n",
              "      <th>documentary</th>\n",
              "      <th>drama</th>\n",
              "      <th>fantasy</th>\n",
              "      <th>film_noir</th>\n",
              "      <th>horror</th>\n",
              "      <th>musical</th>\n",
              "      <th>mystery</th>\n",
              "      <th>romance</th>\n",
              "      <th>sci_fi</th>\n",
              "      <th>thriller</th>\n",
              "      <th>war</th>\n",
              "      <th>western</th>\n",
              "      <th>year</th>\n",
              "    </tr>\n",
              "    <tr>\n",
              "      <th>movie_id</th>\n",
              "      <th></th>\n",
              "      <th></th>\n",
              "      <th></th>\n",
              "      <th></th>\n",
              "      <th></th>\n",
              "      <th></th>\n",
              "      <th></th>\n",
              "      <th></th>\n",
              "      <th></th>\n",
              "      <th></th>\n",
              "      <th></th>\n",
              "      <th></th>\n",
              "      <th></th>\n",
              "      <th></th>\n",
              "      <th></th>\n",
              "      <th></th>\n",
              "      <th></th>\n",
              "      <th></th>\n",
              "      <th></th>\n",
              "      <th></th>\n",
              "      <th></th>\n",
              "      <th></th>\n",
              "    </tr>\n",
              "  </thead>\n",
              "  <tbody>\n",
              "    <tr>\n",
              "      <th>2</th>\n",
              "      <td>GoldenEye</td>\n",
              "      <td>1995-01-01</td>\n",
              "      <td>http://us.imdb.com/M/title-exact?GoldenEye%20(...</td>\n",
              "      <td>1</td>\n",
              "      <td>1</td>\n",
              "      <td>0</td>\n",
              "      <td>0</td>\n",
              "      <td>0</td>\n",
              "      <td>0</td>\n",
              "      <td>0</td>\n",
              "      <td>0</td>\n",
              "      <td>0</td>\n",
              "      <td>0</td>\n",
              "      <td>0</td>\n",
              "      <td>0</td>\n",
              "      <td>0</td>\n",
              "      <td>0</td>\n",
              "      <td>0</td>\n",
              "      <td>1</td>\n",
              "      <td>0</td>\n",
              "      <td>0</td>\n",
              "      <td>1995.0</td>\n",
              "    </tr>\n",
              "    <tr>\n",
              "      <th>4</th>\n",
              "      <td>Get Shorty</td>\n",
              "      <td>1995-01-01</td>\n",
              "      <td>http://us.imdb.com/M/title-exact?Get%20Shorty%...</td>\n",
              "      <td>1</td>\n",
              "      <td>0</td>\n",
              "      <td>0</td>\n",
              "      <td>0</td>\n",
              "      <td>1</td>\n",
              "      <td>0</td>\n",
              "      <td>0</td>\n",
              "      <td>1</td>\n",
              "      <td>0</td>\n",
              "      <td>0</td>\n",
              "      <td>0</td>\n",
              "      <td>0</td>\n",
              "      <td>0</td>\n",
              "      <td>0</td>\n",
              "      <td>0</td>\n",
              "      <td>0</td>\n",
              "      <td>0</td>\n",
              "      <td>0</td>\n",
              "      <td>1995.0</td>\n",
              "    </tr>\n",
              "    <tr>\n",
              "      <th>14</th>\n",
              "      <td>Postino, Il</td>\n",
              "      <td>1994-01-01</td>\n",
              "      <td>http://us.imdb.com/M/title-exact?Postino,%20Il...</td>\n",
              "      <td>0</td>\n",
              "      <td>0</td>\n",
              "      <td>0</td>\n",
              "      <td>0</td>\n",
              "      <td>0</td>\n",
              "      <td>0</td>\n",
              "      <td>0</td>\n",
              "      <td>1</td>\n",
              "      <td>0</td>\n",
              "      <td>0</td>\n",
              "      <td>0</td>\n",
              "      <td>0</td>\n",
              "      <td>0</td>\n",
              "      <td>1</td>\n",
              "      <td>0</td>\n",
              "      <td>0</td>\n",
              "      <td>0</td>\n",
              "      <td>0</td>\n",
              "      <td>1994.0</td>\n",
              "    </tr>\n",
              "    <tr>\n",
              "      <th>16</th>\n",
              "      <td>French Twist</td>\n",
              "      <td>1995-01-01</td>\n",
              "      <td>http://us.imdb.com/M/title-exact?Gazon%20maudi...</td>\n",
              "      <td>0</td>\n",
              "      <td>0</td>\n",
              "      <td>0</td>\n",
              "      <td>0</td>\n",
              "      <td>1</td>\n",
              "      <td>0</td>\n",
              "      <td>0</td>\n",
              "      <td>0</td>\n",
              "      <td>0</td>\n",
              "      <td>0</td>\n",
              "      <td>0</td>\n",
              "      <td>0</td>\n",
              "      <td>0</td>\n",
              "      <td>1</td>\n",
              "      <td>0</td>\n",
              "      <td>0</td>\n",
              "      <td>0</td>\n",
              "      <td>0</td>\n",
              "      <td>1995.0</td>\n",
              "    </tr>\n",
              "    <tr>\n",
              "      <th>17</th>\n",
              "      <td>From Dusk Till Dawn</td>\n",
              "      <td>1996-02-05</td>\n",
              "      <td>http://us.imdb.com/M/title-exact?From%20Dusk%2...</td>\n",
              "      <td>1</td>\n",
              "      <td>0</td>\n",
              "      <td>0</td>\n",
              "      <td>0</td>\n",
              "      <td>1</td>\n",
              "      <td>1</td>\n",
              "      <td>0</td>\n",
              "      <td>0</td>\n",
              "      <td>0</td>\n",
              "      <td>0</td>\n",
              "      <td>1</td>\n",
              "      <td>0</td>\n",
              "      <td>0</td>\n",
              "      <td>0</td>\n",
              "      <td>0</td>\n",
              "      <td>1</td>\n",
              "      <td>0</td>\n",
              "      <td>0</td>\n",
              "      <td>1996.0</td>\n",
              "    </tr>\n",
              "  </tbody>\n",
              "</table>\n",
              "</div>"
            ],
            "text/plain": [
              "                        title release_date  ... western    year\n",
              "movie_id                                    ...                \n",
              "2                   GoldenEye   1995-01-01  ...       0  1995.0\n",
              "4                  Get Shorty   1995-01-01  ...       0  1995.0\n",
              "14                Postino, Il   1994-01-01  ...       0  1994.0\n",
              "16               French Twist   1995-01-01  ...       0  1995.0\n",
              "17        From Dusk Till Dawn   1996-02-05  ...       0  1996.0\n",
              "\n",
              "[5 rows x 22 columns]"
            ]
          },
          "metadata": {
            "tags": []
          },
          "execution_count": 48
        }
      ]
    },
    {
      "cell_type": "markdown",
      "metadata": {
        "deletable": false,
        "editable": false,
        "nbgrader": {
          "checksum": "794775487fd5d1a40e72cab5c415d0d2",
          "grade": false,
          "grade_id": "cell-83664848351a0968",
          "locked": true,
          "schema_version": 1,
          "solution": false
        },
        "id": "EFibemLGDCfI"
      },
      "source": [
        "# 1. feladat: egyszerű lekérdezések\n",
        "\n",
        "## Q1.1. Hány akciófilm jelent meg 1985 előtt, illetve 1985-ben vagy később?"
      ]
    },
    {
      "cell_type": "code",
      "metadata": {
        "deletable": false,
        "nbgrader": {
          "checksum": "a8d49ef435a03df8d2bcffbd8d87e2f2",
          "grade": false,
          "grade_id": "cell-abde75970957d2cb",
          "locked": false,
          "schema_version": 1,
          "solution": true
        },
        "id": "LASN7o-RDCfJ"
      },
      "source": [
        "def count_movies_before_1985(df):\n",
        "    return len(df[df.year < 1985])\n",
        "    \n",
        "    \n",
        "def count_movies_after_1984(df):\n",
        "    return len(df[df.year > 1984])"
      ],
      "execution_count": null,
      "outputs": []
    },
    {
      "cell_type": "code",
      "metadata": {
        "deletable": false,
        "editable": false,
        "nbgrader": {
          "checksum": "bb8e48e78102bd3ebb1f11f0c358a7b6",
          "grade": true,
          "grade_id": "cell-90380c100c2c99e4",
          "locked": true,
          "points": 2,
          "schema_version": 1,
          "solution": false
        },
        "id": "XcRkJuVPDCfL",
        "colab": {
          "base_uri": "https://localhost:8080/"
        },
        "outputId": "471b5267-72c1-4e8d-a9e5-22a325c81ac2"
      },
      "source": [
        "before = count_movies_before_1985(df)\n",
        "print(before)\n",
        "assert type(before) == int\n",
        "\n",
        "after = count_movies_after_1984(df)\n",
        "print(after)\n",
        "assert type(after) == int"
      ],
      "execution_count": null,
      "outputs": [
        {
          "output_type": "stream",
          "text": [
            "272\n",
            "1409\n"
          ],
          "name": "stdout"
        }
      ]
    },
    {
      "cell_type": "markdown",
      "metadata": {
        "collapsed": true,
        "id": "PX_GKw4SDCfN"
      },
      "source": [
        "## Q1.2. Létezik-e gyerekeknek szóló thriller? Keress egy példát rá és térj vissza a film címével."
      ]
    },
    {
      "cell_type": "code",
      "metadata": {
        "deletable": false,
        "nbgrader": {
          "checksum": "de3efd3e234bad2c9e0a269a1a59feb4",
          "grade": false,
          "grade_id": "cell-7d6998016cab5cd9",
          "locked": false,
          "schema_version": 1,
          "solution": true
        },
        "id": "jRCBl6TYDCfN"
      },
      "source": [
        "def child_thriller(df):\n",
        "    d = df[(df.thriller==1) & (df.children==1)]\n",
        "    movie=d.head(1)\n",
        "    title=movie['title'].values[0]\n",
        "    print(title)\n",
        "    return title"
      ],
      "execution_count": null,
      "outputs": []
    },
    {
      "cell_type": "code",
      "metadata": {
        "deletable": false,
        "editable": false,
        "nbgrader": {
          "checksum": "ef50f7d63580a8c6c4ad86cd2b299d9e",
          "grade": true,
          "grade_id": "cell-cbb321ba78e5eed5",
          "locked": true,
          "points": 2,
          "schema_version": 1,
          "solution": false
        },
        "id": "nUqmTI5LDCfP",
        "colab": {
          "base_uri": "https://localhost:8080/"
        },
        "outputId": "9c307bf6-8a44-4faf-dfaa-bde0a789889a"
      },
      "source": [
        "title = child_thriller(df)\n",
        "assert type(title) == str"
      ],
      "execution_count": null,
      "outputs": [
        {
          "output_type": "stream",
          "text": [
            "Transformers: The Movie, The\n"
          ],
          "name": "stdout"
        }
      ]
    },
    {
      "cell_type": "markdown",
      "metadata": {
        "collapsed": true,
        "id": "9GTC6FXtDCfR"
      },
      "source": [
        "## Q1.3. Hány filmnek hosszabb a címe, mint 30 karakter?"
      ]
    },
    {
      "cell_type": "code",
      "metadata": {
        "deletable": false,
        "nbgrader": {
          "checksum": "3851df6b38d0c8150d0ecc8f3deb4d9e",
          "grade": false,
          "grade_id": "cell-7480c2cb962bc996",
          "locked": false,
          "schema_version": 1,
          "solution": true
        },
        "id": "uv319yqMDCfS"
      },
      "source": [
        "import numpy as np\n",
        "\n",
        "def long_titles(df):\n",
        "    x=np.asarray([len(s) for s in df.title])\n",
        "    y=np.sum(x>30)\n",
        "    return y.item()"
      ],
      "execution_count": null,
      "outputs": []
    },
    {
      "cell_type": "code",
      "metadata": {
        "deletable": false,
        "editable": false,
        "nbgrader": {
          "checksum": "695639339697d688dec916a9715bd3ad",
          "grade": true,
          "grade_id": "cell-073da9a4a0ec716b",
          "locked": true,
          "points": 2,
          "schema_version": 1,
          "solution": false
        },
        "id": "mR-3uHnbDCfU",
        "colab": {
          "base_uri": "https://localhost:8080/"
        },
        "outputId": "04f4fa43-6f87-4e3c-b82d-fbc1d18dfc0f"
      },
      "source": [
        "title_cnt = long_titles(df)\n",
        "assert type(title_cnt) == int\n",
        "print(title_cnt)"
      ],
      "execution_count": null,
      "outputs": [
        {
          "output_type": "stream",
          "text": [
            "79\n"
          ],
          "name": "stdout"
        }
      ]
    },
    {
      "cell_type": "markdown",
      "metadata": {
        "id": "MXH2FByiDCfV"
      },
      "source": [
        "## Q1.4. Mi a legrégebbi és a legújabb film címe?\n",
        "\n",
        "A megjelenésnek nem csak éve van!"
      ]
    },
    {
      "cell_type": "code",
      "metadata": {
        "deletable": false,
        "nbgrader": {
          "checksum": "2791ddb8e2f2968d1f6fe4329173c259",
          "grade": false,
          "grade_id": "cell-db89cfcda5c6fb31",
          "locked": false,
          "schema_version": 1,
          "solution": true
        },
        "id": "urDUsGUqDCfY"
      },
      "source": [
        "def oldest_movie(df):\n",
        "    movie=df[df.release_date == df.release_date.min()]\n",
        "    return movie['title'].values[0]\n",
        "\n",
        "def newest_movie(df):\n",
        "    movie=df[df.release_date == df.release_date.max()]\n",
        "    return movie['title'].values[0]\n",
        "    "
      ],
      "execution_count": null,
      "outputs": []
    },
    {
      "cell_type": "code",
      "metadata": {
        "deletable": false,
        "editable": false,
        "nbgrader": {
          "checksum": "2c17a680319291981704cf5437f19fce",
          "grade": true,
          "grade_id": "cell-03b3ff7a443c1f34",
          "locked": true,
          "points": 2,
          "schema_version": 1,
          "solution": false
        },
        "id": "Bx2EIrvTDCfb",
        "colab": {
          "base_uri": "https://localhost:8080/"
        },
        "outputId": "22369623-7814-45b6-ae3a-8e05eb5d98d0"
      },
      "source": [
        "oldest = oldest_movie(df)\n",
        "newest = newest_movie(df)\n",
        "print(oldest)\n",
        "print(newest)\n",
        "assert type(oldest) == str\n",
        "assert type(newest) == str"
      ],
      "execution_count": null,
      "outputs": [
        {
          "output_type": "stream",
          "text": [
            "Nosferatu\n",
            "Apt Pupil\n"
          ],
          "name": "stdout"
        }
      ]
    },
    {
      "cell_type": "markdown",
      "metadata": {
        "id": "ixIK_Q5aDCfe"
      },
      "source": [
        "## Q1.5. Melyik a legújabb sci-fi?"
      ]
    },
    {
      "cell_type": "code",
      "metadata": {
        "deletable": false,
        "nbgrader": {
          "checksum": "1c100d0a3f7f39af248257fca9c13817",
          "grade": false,
          "grade_id": "cell-70ec6b26d5705422",
          "locked": false,
          "schema_version": 1,
          "solution": true
        },
        "id": "PJlxtzg7DCff"
      },
      "source": [
        "def newest_scifi(df):\n",
        "    movies=df[df.sci_fi==1]\n",
        "    movie=movies[movies.release_date==movies.release_date.max()]\n",
        "    return movie['title'].values[0]"
      ],
      "execution_count": null,
      "outputs": []
    },
    {
      "cell_type": "code",
      "metadata": {
        "deletable": false,
        "editable": false,
        "nbgrader": {
          "checksum": "258184942d372f64e2a04f5d638fcb44",
          "grade": true,
          "grade_id": "cell-eeae9ee18c8b9329",
          "locked": true,
          "points": 2,
          "schema_version": 1,
          "solution": false
        },
        "id": "UgWZKkGEDCfh",
        "colab": {
          "base_uri": "https://localhost:8080/"
        },
        "outputId": "b6888cfc-a207-46e2-9938-2a23e953489a"
      },
      "source": [
        "newest = newest_scifi(df)\n",
        "print(newest)\n",
        "assert type(newest) == str"
      ],
      "execution_count": null,
      "outputs": [
        {
          "output_type": "stream",
          "text": [
            "Lost in Space\n"
          ],
          "name": "stdout"
        }
      ]
    },
    {
      "cell_type": "markdown",
      "metadata": {
        "id": "e-oH9d7RDCfk"
      },
      "source": [
        "# Csoportosítás és vizualizáció"
      ]
    },
    {
      "cell_type": "markdown",
      "metadata": {
        "id": "Y-Avrov1DCfk"
      },
      "source": [
        "## Hány filmet adtak ki évente?\n",
        "\n",
        "A kérdést két lépésben tudjuk megválaszolni:\n",
        "\n",
        "1. csoportosítás évenként\n",
        "2. összesítés 1-1 évre\n"
      ]
    },
    {
      "cell_type": "code",
      "metadata": {
        "id": "VBgxew01DCfl",
        "colab": {
          "base_uri": "https://localhost:8080/",
          "height": 71
        },
        "outputId": "e7d48c0d-d652-4747-f2dc-d0e51dda57e9"
      },
      "source": [
        "df.groupby('year').size().plot()"
      ],
      "execution_count": null,
      "outputs": [
        {
          "output_type": "execute_result",
          "data": {
            "text/plain": [
              "<matplotlib.axes._subplots.AxesSubplot at 0x7f9e910ef5d0>"
            ]
          },
          "metadata": {
            "tags": []
          },
          "execution_count": 59
        },
        {
          "output_type": "display_data",
          "data": {
            "image/png": "[encoded data removed]",
            "text/plain": [
              "<Figure size 1080x216 with 1 Axes>"
            ]
          },
          "metadata": {
            "tags": []
          }
        }
      ]
    },
    {
      "cell_type": "markdown",
      "metadata": {
        "id": "OkKltYR5DCfn"
      },
      "source": [
        "Vonaldiagram az alapértelmezett, de oszlopdiagramként informatívabb lenne."
      ]
    },
    {
      "cell_type": "code",
      "metadata": {
        "id": "Z2zOnZ5bDCfn",
        "colab": {
          "base_uri": "https://localhost:8080/",
          "height": 71
        },
        "outputId": "7db3a140-ff0b-4686-ab6c-ddddacb1e461"
      },
      "source": [
        "df.groupby('year').size().plot(kind='bar')"
      ],
      "execution_count": null,
      "outputs": [
        {
          "output_type": "execute_result",
          "data": {
            "text/plain": [
              "<matplotlib.axes._subplots.AxesSubplot at 0x7f9e91036790>"
            ]
          },
          "metadata": {
            "tags": []
          },
          "execution_count": 60
        },
        {
          "output_type": "display_data",
          "data": {
            "image/png": "[encoded data removed]",
            "text/plain": [
              "<Figure size 1080x216 with 1 Axes>"
            ]
          },
          "metadata": {
            "tags": []
          }
        }
      ]
    },
    {
      "cell_type": "markdown",
      "metadata": {
        "id": "H_rm84w5DCfp"
      },
      "source": [
        "Lásztik, hogy a 80-as évek végén nőtt meg a kiadott filmek száma, kicsit közelítsünk rá. Ehhez először szűrni fogjuk a 1985 utáni filmeket, majd csoportosítva ábrázolni."
      ]
    },
    {
      "cell_type": "code",
      "metadata": {
        "id": "e6RDUuFQDCfp",
        "colab": {
          "base_uri": "https://localhost:8080/",
          "height": 71
        },
        "outputId": "af049a4e-528e-4311-cc72-67803fb4782d"
      },
      "source": [
        "d = df[df.year > 1985]\n",
        "d.groupby('year').size().plot(kind='bar')\n",
        "# df[df.year > 1985].groupby('year').size().plot(kind='bar')  # vagy egy sorban"
      ],
      "execution_count": null,
      "outputs": [
        {
          "output_type": "execute_result",
          "data": {
            "text/plain": [
              "<matplotlib.axes._subplots.AxesSubplot at 0x7f9e90967910>"
            ]
          },
          "metadata": {
            "tags": []
          },
          "execution_count": 61
        },
        {
          "output_type": "display_data",
          "data": {
            "image/png": "[encoded data removed]",
            "text/plain": [
              "<Figure size 1080x216 with 1 Axes>"
            ]
          },
          "metadata": {
            "tags": []
          }
        }
      ]
    },
    {
      "cell_type": "markdown",
      "metadata": {
        "id": "SIv8vpgfDCfs"
      },
      "source": [
        "## Groupby tetszőleges feltétel szerint\n",
        "\n",
        "Nem csak egy kategóriaértékű oszlop szerint csoportosíthatunk, hanem tetszőleges kifejezés szerint. Ezt kihasználva fogunk évtizedenként csoportosítani. A groupby-nak bármilyen kifejezést megadhatunk, ami diszkrét értékekre képezi le a sorokat, tehát véges sok csoport egyikébe helyezi (mint egy hash függvény).\n",
        "\n",
        "Az évtizedet úgy kaphatjuk meg, ha az évet 10-zel osztjuk és csak az egészrészt tartjuk meg, hiszen 1983/10 és 1984/10 egészrésze ugyanúgy 198. Használjuk a Python egészosztás operátorát (//)."
      ]
    },
    {
      "cell_type": "code",
      "metadata": {
        "id": "3bUzxlCHDCft",
        "colab": {
          "base_uri": "https://localhost:8080/"
        },
        "outputId": "c3608a68-cf7d-40e4-b3cd-230ca9898e39"
      },
      "source": [
        "d = df.groupby(df.year // 10 * 10)\n",
        "d.groups.keys()  # létrejött csoportok listázása"
      ],
      "execution_count": null,
      "outputs": [
        {
          "output_type": "execute_result",
          "data": {
            "text/plain": [
              "dict_keys([1920.0, 1930.0, 1940.0, 1950.0, 1960.0, 1970.0, 1980.0, 1990.0])"
            ]
          },
          "metadata": {
            "tags": []
          },
          "execution_count": 62
        }
      ]
    },
    {
      "cell_type": "code",
      "metadata": {
        "id": "XdL02rlsDCfu",
        "colab": {
          "base_uri": "https://localhost:8080/",
          "height": 71
        },
        "outputId": "7d078a73-14a8-4389-a343-3aeac5150eb1"
      },
      "source": [
        "d.size().plot(kind='bar')"
      ],
      "execution_count": null,
      "outputs": [
        {
          "output_type": "execute_result",
          "data": {
            "text/plain": [
              "<matplotlib.axes._subplots.AxesSubplot at 0x7f9e909031d0>"
            ]
          },
          "metadata": {
            "tags": []
          },
          "execution_count": 63
        },
        {
          "output_type": "display_data",
          "data": {
            "image/png": "[encoded data removed]",
            "text/plain": [
              "<Figure size 1080x216 with 1 Axes>"
            ]
          },
          "metadata": {
            "tags": []
          }
        }
      ]
    },
    {
      "cell_type": "markdown",
      "metadata": {
        "collapsed": true,
        "id": "FfFLoA1KDCfw"
      },
      "source": [
        "# 2. feladat: csoportosítás és vizualizáció\n",
        "\n",
        "## Q2.1. Csoportosítsd vígjátékokat (comedy) évenként. Ábrázold oszlopdiagramon hány vígjátékot adtak ki évente."
      ]
    },
    {
      "cell_type": "code",
      "metadata": {
        "deletable": false,
        "nbgrader": {
          "checksum": "be8d1d71406b33b08aa7200aa81ba5c4",
          "grade": false,
          "grade_id": "cell-c10e5a08055ccda8",
          "locked": false,
          "schema_version": 1,
          "solution": true
        },
        "id": "ApaihX4bDCfw"
      },
      "source": [
        "def comedy_by_year(df):\n",
        "    comedies=df[df.comedy==1]\n",
        "    return comedies.groupby('year')"
      ],
      "execution_count": null,
      "outputs": []
    },
    {
      "cell_type": "code",
      "metadata": {
        "deletable": false,
        "editable": false,
        "nbgrader": {
          "checksum": "2bff52040d9c83abd2826e93e200f615",
          "grade": true,
          "grade_id": "cell-807aa8d0d6a6bfc1",
          "locked": true,
          "points": 1,
          "schema_version": 1,
          "solution": false
        },
        "id": "ylC2t1ktDCfy"
      },
      "source": [
        "c = comedy_by_year(df)\n",
        "assert type(c) == pd.core.groupby.DataFrameGroupBy"
      ],
      "execution_count": null,
      "outputs": []
    },
    {
      "cell_type": "markdown",
      "metadata": {
        "id": "0tHcDA0ODCf0"
      },
      "source": [
        "### Ábrázold."
      ]
    },
    {
      "cell_type": "code",
      "metadata": {
        "deletable": false,
        "nbgrader": {
          "checksum": "80917f3a05ad5692f978d35ef2b19356",
          "grade": true,
          "grade_id": "cell-140b896a5eb168c2",
          "locked": false,
          "points": 1,
          "schema_version": 1,
          "solution": true
        },
        "id": "Y3lOjfJoDCf1",
        "colab": {
          "base_uri": "https://localhost:8080/",
          "height": 270
        },
        "outputId": "56b77cb3-cac6-4f83-dc2f-46d470027e17"
      },
      "source": [
        "c.size().plot(kind='bar')"
      ],
      "execution_count": null,
      "outputs": [
        {
          "output_type": "execute_result",
          "data": {
            "text/plain": [
              "<matplotlib.axes._subplots.AxesSubplot at 0x7f9e8fa8f850>"
            ]
          },
          "metadata": {
            "tags": []
          },
          "execution_count": 83
        },
        {
          "output_type": "display_data",
          "data": {
            "image/png": "[encoded data removed]",
            "text/plain": [
              "<Figure size 1080x216 with 1 Axes>"
            ]
          },
          "metadata": {
            "tags": []
          }
        }
      ]
    },
    {
      "cell_type": "markdown",
      "metadata": {
        "collapsed": true,
        "id": "ZjxhLbXWDCf2"
      },
      "source": [
        "## Gyerekfilmet vagy krimit adnak ki többet évtizedenként?"
      ]
    },
    {
      "cell_type": "code",
      "metadata": {
        "id": "l_M13G8HDCf2",
        "colab": {
          "base_uri": "https://localhost:8080/",
          "height": 348
        },
        "outputId": "8fb1f3fd-8a23-47ce-e5f6-3e69762cb36b"
      },
      "source": [
        "col1 = 'children'\n",
        "col2 = 'crime'\n",
        "d = df[['year', col1, col2]].copy()\n",
        "d['diff'] = d[col1] - d[col2]\n",
        "d.groupby(d.year // 10 * 10).sum()"
      ],
      "execution_count": null,
      "outputs": [
        {
          "output_type": "execute_result",
          "data": {
            "text/html": [
              "<div>\n",
              "<style scoped>\n",
              "    .dataframe tbody tr th:only-of-type {\n",
              "        vertical-align: middle;\n",
              "    }\n",
              "\n",
              "    .dataframe tbody tr th {\n",
              "        vertical-align: top;\n",
              "    }\n",
              "\n",
              "    .dataframe thead th {\n",
              "        text-align: right;\n",
              "    }\n",
              "</style>\n",
              "<table border=\"1\" class=\"dataframe\">\n",
              "  <thead>\n",
              "    <tr style=\"text-align: right;\">\n",
              "      <th></th>\n",
              "      <th>year</th>\n",
              "      <th>children</th>\n",
              "      <th>crime</th>\n",
              "      <th>diff</th>\n",
              "    </tr>\n",
              "    <tr>\n",
              "      <th>year</th>\n",
              "      <th></th>\n",
              "      <th></th>\n",
              "      <th></th>\n",
              "      <th></th>\n",
              "    </tr>\n",
              "  </thead>\n",
              "  <tbody>\n",
              "    <tr>\n",
              "      <th>1920.0</th>\n",
              "      <td>3848.0</td>\n",
              "      <td>0</td>\n",
              "      <td>0</td>\n",
              "      <td>0</td>\n",
              "    </tr>\n",
              "    <tr>\n",
              "      <th>1930.0</th>\n",
              "      <td>56142.0</td>\n",
              "      <td>3</td>\n",
              "      <td>2</td>\n",
              "      <td>1</td>\n",
              "    </tr>\n",
              "    <tr>\n",
              "      <th>1940.0</th>\n",
              "      <td>87486.0</td>\n",
              "      <td>5</td>\n",
              "      <td>4</td>\n",
              "      <td>1</td>\n",
              "    </tr>\n",
              "    <tr>\n",
              "      <th>1950.0</th>\n",
              "      <td>105558.0</td>\n",
              "      <td>6</td>\n",
              "      <td>2</td>\n",
              "      <td>4</td>\n",
              "    </tr>\n",
              "    <tr>\n",
              "      <th>1960.0</th>\n",
              "      <td>84475.0</td>\n",
              "      <td>8</td>\n",
              "      <td>2</td>\n",
              "      <td>6</td>\n",
              "    </tr>\n",
              "    <tr>\n",
              "      <th>1970.0</th>\n",
              "      <td>104668.0</td>\n",
              "      <td>7</td>\n",
              "      <td>4</td>\n",
              "      <td>3</td>\n",
              "    </tr>\n",
              "    <tr>\n",
              "      <th>1980.0</th>\n",
              "      <td>212384.0</td>\n",
              "      <td>4</td>\n",
              "      <td>3</td>\n",
              "      <td>1</td>\n",
              "    </tr>\n",
              "    <tr>\n",
              "      <th>1990.0</th>\n",
              "      <td>2689597.0</td>\n",
              "      <td>89</td>\n",
              "      <td>92</td>\n",
              "      <td>-3</td>\n",
              "    </tr>\n",
              "  </tbody>\n",
              "</table>\n",
              "</div>"
            ],
            "text/plain": [
              "             year  children  crime  diff\n",
              "year                                    \n",
              "1920.0     3848.0         0      0     0\n",
              "1930.0    56142.0         3      2     1\n",
              "1940.0    87486.0         5      4     1\n",
              "1950.0   105558.0         6      2     4\n",
              "1960.0    84475.0         8      2     6\n",
              "1970.0   104668.0         7      4     3\n",
              "1980.0   212384.0         4      3     1\n",
              "1990.0  2689597.0        89     92    -3"
            ]
          },
          "metadata": {
            "tags": []
          },
          "execution_count": 67
        }
      ]
    },
    {
      "cell_type": "code",
      "metadata": {
        "id": "ZPmUp3ZbDCf4",
        "colab": {
          "base_uri": "https://localhost:8080/",
          "height": 71
        },
        "outputId": "91002e35-ec74-49aa-dfd4-ebaeb4d8d7a8"
      },
      "source": [
        "d.groupby(d.year // 10 * 10).sum().plot(y='diff', kind='bar')"
      ],
      "execution_count": null,
      "outputs": [
        {
          "output_type": "execute_result",
          "data": {
            "text/plain": [
              "<matplotlib.axes._subplots.AxesSubplot at 0x7f9e906a9250>"
            ]
          },
          "metadata": {
            "tags": []
          },
          "execution_count": 68
        },
        {
          "output_type": "display_data",
          "data": {
            "image/png": "[encoded data removed]",
            "text/plain": [
              "<Figure size 1080x216 with 1 Axes>"
            ]
          },
          "metadata": {
            "tags": []
          }
        }
      ]
    },
    {
      "cell_type": "markdown",
      "metadata": {
        "collapsed": true,
        "id": "6Nt-mHYGDCf5"
      },
      "source": [
        "A 90-es években több filmet adtak ki, mint előtte összesen, nézzük meg azt az évtizedet közelebbről!"
      ]
    },
    {
      "cell_type": "markdown",
      "metadata": {
        "id": "VqzaQf-HDCf5"
      },
      "source": [
        "## Q2.2. Mennyivel adtak ki több gyerekfilmet, mint krimit *évente* a 90-es években? Ábrázold.\n",
        "\n",
        "Először a szűrt groupby-t készítsd el az imént létrhozott `d` `DataFrame`-ből."
      ]
    },
    {
      "cell_type": "code",
      "metadata": {
        "deletable": false,
        "nbgrader": {
          "checksum": "ac74ffafba0296a080ccc610c0d65a47",
          "grade": false,
          "grade_id": "cell-7c0a00a23a0d4571",
          "locked": false,
          "schema_version": 1,
          "solution": true
        },
        "id": "Hd7OYkCKDCf6"
      },
      "source": [
        "def groupby_nineties(d):\n",
        "    dd=d[(d.year>1989) & (d.year<2000)]\n",
        "    print(dd)\n",
        "    return dd.groupby(dd.year)"
      ],
      "execution_count": null,
      "outputs": []
    },
    {
      "cell_type": "code",
      "metadata": {
        "deletable": false,
        "editable": false,
        "nbgrader": {
          "checksum": "74f6b565c663678b1e06a1c3403fce51",
          "grade": true,
          "grade_id": "cell-b2540f371e9031f2",
          "locked": true,
          "points": 1,
          "schema_version": 1,
          "solution": false
        },
        "id": "CSnvqQyqDCf7",
        "colab": {
          "base_uri": "https://localhost:8080/"
        },
        "outputId": "07b61a66-f989-4550-d9c3-781eed40b105"
      },
      "source": [
        "nineties = groupby_nineties(d)\n",
        "assert type(nineties) == pd.core.groupby.DataFrameGroupBy\n",
        "\n",
        "# a diff oszlop szerepel\n",
        "assert 'diff' in nineties.sum()"
      ],
      "execution_count": null,
      "outputs": [
        {
          "output_type": "stream",
          "text": [
            "            year  children  crime  diff\n",
            "movie_id                               \n",
            "1         1995.0         1      0     1\n",
            "2         1995.0         0      0     0\n",
            "3         1995.0         0      0     0\n",
            "4         1995.0         0      0     0\n",
            "5         1995.0         0      1    -1\n",
            "...          ...       ...    ...   ...\n",
            "1678      1998.0         0      0     0\n",
            "1679      1998.0         0      0     0\n",
            "1680      1998.0         0      0     0\n",
            "1681      1994.0         0      0     0\n",
            "1682      1996.0         0      0     0\n",
            "\n",
            "[1348 rows x 4 columns]\n"
          ],
          "name": "stdout"
        }
      ]
    },
    {
      "cell_type": "markdown",
      "metadata": {
        "id": "HuEryS-eDCf8"
      },
      "source": [
        "### Ábrázold."
      ]
    },
    {
      "cell_type": "code",
      "metadata": {
        "deletable": false,
        "nbgrader": {
          "checksum": "51d69e2d32d3424b6ade8a8dc0539c7c",
          "grade": true,
          "grade_id": "cell-3e55984d23007a72",
          "locked": false,
          "points": 1,
          "schema_version": 1,
          "solution": true
        },
        "id": "v_tfdVcaDCf9",
        "colab": {
          "base_uri": "https://localhost:8080/",
          "height": 71
        },
        "outputId": "0e048c66-6245-4e20-deab-11319caa4186"
      },
      "source": [
        "nineties.sum().plot(y='diff', kind='bar')"
      ],
      "execution_count": null,
      "outputs": [
        {
          "output_type": "execute_result",
          "data": {
            "text/plain": [
              "<matplotlib.axes._subplots.AxesSubplot at 0x7f9e906740d0>"
            ]
          },
          "metadata": {
            "tags": []
          },
          "execution_count": 71
        },
        {
          "output_type": "display_data",
          "data": {
            "image/png": "[encoded data removed]",
            "text/plain": [
              "<Figure size 1080x216 with 1 Axes>"
            ]
          },
          "metadata": {
            "tags": []
          }
        }
      ]
    },
    {
      "cell_type": "markdown",
      "metadata": {
        "id": "4iRpSNYiDCf_"
      },
      "source": [
        "## Q2.3. Ábrázold a kiadási napok (hónap napjai) eloszlását egy tortadiagramon!\n",
        "\n",
        "Tortadiagramot a `plot` függvény `kind=\"pie\"` argumentumával tudsz készíteni.\n",
        "\n",
        "A tortadiagramhoz érdemes megváltoztatni a diagram képarányát, amit a plot függvény `figsize` paraméterének megadásával tehetsz meg. `figsize=(10,10)`. Százalékokat a `autopct=\"%.0lf%%\"` opcióval lehet a diagramra írni.\n",
        "\n",
        "A tortadiagramot szebbé teheted másik colormap választásával: [dokumentáció](http://pandas.pydata.org/pandas-docs/stable/visualization.html#colormaps) és a [colormapek listája](http://scipy.github.io/old-wiki/pages/Cookbook/Matplotlib/Show_colormaps)."
      ]
    },
    {
      "cell_type": "code",
      "metadata": {
        "colab": {
          "base_uri": "https://localhost:8080/"
        },
        "id": "r_jRnkaZwWPE",
        "outputId": "c77d9197-f221-4d21-a2f4-afad197e332e"
      },
      "source": [
        "print(df.columns)"
      ],
      "execution_count": null,
      "outputs": [
        {
          "output_type": "stream",
          "text": [
            "Index(['title', 'release_date', 'imdb_url', 'action', 'adventure', 'animation',\n",
            "       'children', 'comedy', 'crime', 'documentary', 'drama', 'fantasy',\n",
            "       'film_noir', 'horror', 'musical', 'mystery', 'romance', 'sci_fi',\n",
            "       'thriller', 'war', 'western', 'year'],\n",
            "      dtype='object')\n"
          ],
          "name": "stdout"
        }
      ]
    },
    {
      "cell_type": "code",
      "metadata": {
        "deletable": false,
        "nbgrader": {
          "checksum": "cc610af14cec9330d6cd862a367614cb",
          "grade": false,
          "grade_id": "cell-315ae1f679373727",
          "locked": false,
          "schema_version": 1,
          "solution": true
        },
        "id": "K6uyFfj9DCgA"
      },
      "source": [
        "def groupby_release_day(df):\n",
        "    x=df.groupby(df.release_date.dt.day)\n",
        "    return x"
      ],
      "execution_count": null,
      "outputs": []
    },
    {
      "cell_type": "code",
      "metadata": {
        "deletable": false,
        "editable": false,
        "nbgrader": {
          "checksum": "05ec9f6098c828dd93956a00cf5762e9",
          "grade": true,
          "grade_id": "cell-096bd0f71dd64737",
          "locked": true,
          "points": 1,
          "schema_version": 1,
          "solution": false
        },
        "id": "II-XeUn4DCgB"
      },
      "source": [
        "by_day = groupby_release_day(df)\n",
        "assert type(by_day) == pd.core.groupby.DataFrameGroupBy\n",
        "\n",
        "# legfeljebb 31 napos egy hónap\n",
        "assert len(by_day) < 32\n",
        "\n",
        "# nehogy a hét napjai szerint csoportosítsunk\n",
        "assert len(by_day) > 7\n",
        "\n"
      ],
      "execution_count": null,
      "outputs": []
    },
    {
      "cell_type": "code",
      "metadata": {
        "colab": {
          "base_uri": "https://localhost:8080/"
        },
        "id": "zE6ANTw9rnoj",
        "outputId": "134fa6b0-387d-4532-b41d-1ade08788cbf"
      },
      "source": [
        "print(by_day.sum())"
      ],
      "execution_count": null,
      "outputs": [
        {
          "output_type": "stream",
          "text": [
            "              action  adventure  animation  ...  war  western       year\n",
            "release_date                                ...                         \n",
            "1.0              168         92         30  ...   53       25  2226278.0\n",
            "2.0                3          1          0  ...    0        0    39930.0\n",
            "3.0                2          0          0  ...    1        0    17966.0\n",
            "4.0                5          2          0  ...    1        0    35912.0\n",
            "5.0                2          0          1  ...    0        0    17965.0\n",
            "6.0                6          3          0  ...    0        0    45927.0\n",
            "7.0                2          2          0  ...    0        0    29949.0\n",
            "8.0                3          3          1  ...    1        0    41884.0\n",
            "9.0                6          2          0  ...    0        0    47919.0\n",
            "10.0               3          2          0  ...    0        1    43927.0\n",
            "11.0               3          2          0  ...    1        0    37934.0\n",
            "12.0               0          0          2  ...    0        0    29940.0\n",
            "13.0               4          4          0  ...    1        0    51910.0\n",
            "14.0               3          1          0  ...    1        0    45925.0\n",
            "15.0               1          1          1  ...    1        0    17965.0\n",
            "16.0               6          3          0  ...    1        0    63890.0\n",
            "17.0               4          0          0  ...    0        0    17950.0\n",
            "18.0               0          0          0  ...    3        0    33940.0\n",
            "19.0               2          1          0  ...    0        0    33933.0\n",
            "20.0               2          1          1  ...    0        1    55888.0\n",
            "21.0               1          1          1  ...    0        0    25957.0\n",
            "22.0               4          3          0  ...    1        0    43920.0\n",
            "23.0               3          2          0  ...    0        0    55902.0\n",
            "24.0               0          0          0  ...    1        0    15973.0\n",
            "25.0               2          0          0  ...    0        0    51904.0\n",
            "26.0               3          3          1  ...    1        0    45904.0\n",
            "27.0               3          1          1  ...    0        0    49916.0\n",
            "28.0               2          1          1  ...    0        0    27915.0\n",
            "29.0               2          2          2  ...    2        0    29935.0\n",
            "30.0               3          0          0  ...    1        0    41931.0\n",
            "31.0               3          2          0  ...    1        0    17969.0\n",
            "\n",
            "[31 rows x 19 columns]\n"
          ],
          "name": "stdout"
        }
      ]
    },
    {
      "cell_type": "markdown",
      "metadata": {
        "id": "1J1xMmUvDCgC"
      },
      "source": [
        "### Ábrázold."
      ]
    },
    {
      "cell_type": "code",
      "metadata": {
        "deletable": false,
        "nbgrader": {
          "checksum": "9f547fcc006ac4e3f509f92ba132d84c",
          "grade": true,
          "grade_id": "cell-6ec6a50f9b8f16ce",
          "locked": false,
          "points": 1,
          "schema_version": 1,
          "solution": true
        },
        "id": "5Jo84x7QDCgC",
        "colab": {
          "base_uri": "https://localhost:8080/",
          "height": 1000
        },
        "outputId": "192c38da-545b-4625-aaea-3a21223fb732"
      },
      "source": [
        "d=by_day.sum()\r\n",
        "d=d.drop(['year'], axis=1)\r\n",
        "d.sum(axis=1).plot(kind='pie', figsize=(20, 20))"
      ],
      "execution_count": null,
      "outputs": [
        {
          "output_type": "execute_result",
          "data": {
            "text/plain": [
              "<matplotlib.axes._subplots.AxesSubplot at 0x7f0870b00e10>"
            ]
          },
          "metadata": {
            "tags": []
          },
          "execution_count": 93
        },
        {
          "output_type": "display_data",
          "data": {
            "image/png": "[encoded data removed]",
            "text/plain": [
              "<Figure size 1440x1440 with 1 Axes>"
            ]
          },
          "metadata": {
            "tags": []
          }
        }
      ]
    },
    {
      "cell_type": "markdown",
      "metadata": {
        "id": "tPb-PaCyDCgE"
      },
      "source": [
        "## Q2.4. Hagyományos lexikont szeretnénk készíteni a filmekből. Melyik kezdőbetű hányszor fordul elő a filmek címében? Ábrázold tortadiagramon.\n",
        "\n",
        "### Csoportosítsd a filmeket kezdőbetű szerint."
      ]
    },
    {
      "cell_type": "code",
      "metadata": {
        "deletable": false,
        "nbgrader": {
          "checksum": "be4e5df09ed307a8bd77138a2325cec1",
          "grade": false,
          "grade_id": "cell-195ef56890ee5308",
          "locked": false,
          "schema_version": 1,
          "solution": true
        },
        "id": "T9uh8ObtDCgE"
      },
      "source": [
        "def groupby_initial_letter(df):\n",
        "    d=df\n",
        "    d['initial']=d.title.str[0]\n",
        "    x=d.groupby(d.initial)\n",
        "    return x"
      ],
      "execution_count": null,
      "outputs": []
    },
    {
      "cell_type": "code",
      "metadata": {
        "deletable": false,
        "editable": false,
        "nbgrader": {
          "checksum": "41cc9b28cc9bb7e69dfc1b6facc41ab9",
          "grade": true,
          "grade_id": "cell-adf0cd4d7e02bbce",
          "locked": true,
          "points": 1,
          "schema_version": 1,
          "solution": false
        },
        "id": "1X-V90_JDCgF",
        "colab": {
          "base_uri": "https://localhost:8080/"
        },
        "outputId": "e706a250-21df-4446-9eff-190255f9be1f"
      },
      "source": [
        "initial = groupby_initial_letter(df)\n",
        "print(initial.sum())\n",
        "assert type(initial) == pd.core.groupby.DataFrameGroupBy"
      ],
      "execution_count": null,
      "outputs": [
        {
          "output_type": "stream",
          "text": [
            "<pandas.core.groupby.generic.DataFrameGroupBy object at 0x7f8c63d30bd0>\n",
            "32\n",
            "         action  adventure  animation  ...  war  western      year\n",
            "initial                                ...                        \n",
            "'             0          0          0  ...    0        0    1997.0\n",
            "1             0          0          0  ...    0        0    7944.0\n",
            "2             0          1          0  ...    0        0    5918.0\n",
            "3             1          0          0  ...    0        0    3932.0\n",
            "8             0          0          0  ...    0        0    5954.0\n",
            "A            13         11          7  ...    3        2  186814.0\n",
            "B            24         10          3  ...    5        2  294360.0\n",
            "C            15          9          3  ...    6        1  234811.0\n",
            "D            16          3          1  ...    4        3  159171.0\n",
            "E             7          7          0  ...    2        0   75708.0\n",
            "F            12         11          3  ...    5        0  187053.0\n",
            "G            11          6          4  ...    4        2  141019.0\n",
            "H            13          7          3  ...    3        1  145349.0\n",
            "I             5          2          0  ...    3        0   89562.0\n",
            "J            12          5          1  ...    0        0   75758.0\n",
            "K             3          3          0  ...    2        0   57800.0\n",
            "L             9          3          2  ...    4        3  157146.0\n",
            "M            22          8          0  ...    5        2  260570.0\n",
            "N             6          0          0  ...    1        0   99498.0\n",
            "O             2          2          1  ...    1        2   55584.0\n",
            "P             8          4          4  ...    8        0  159135.0\n",
            "Q             2          2          0  ...    0        1   13922.0\n",
            "R             8          4          0  ...    5        0  131259.0\n",
            "S            33         22          4  ...    5        0  360138.0\n",
            "T            21          7          3  ...    2        2  214765.0\n",
            "U             4          0          0  ...    1        1   39882.0\n",
            "V             0          0          0  ...    0        0   31844.0\n",
            "W             2          8          3  ...    2        3  129337.0\n",
            "Y             2          0          0  ...    0        2   13935.0\n",
            "Z             0          0          0  ...    0        0    1997.0\n",
            "u             0          0          0  ...    0        0       0.0\n",
            "Á             0          0          0  ...    0        0    1996.0\n",
            "\n",
            "[32 rows x 19 columns]\n"
          ],
          "name": "stdout"
        }
      ]
    },
    {
      "cell_type": "markdown",
      "metadata": {
        "id": "7X-TaYpbDCgI"
      },
      "source": [
        "### Ábrázold."
      ]
    },
    {
      "cell_type": "code",
      "metadata": {
        "deletable": false,
        "nbgrader": {
          "checksum": "a19f66d4fdda83e2ce6d577fcff4062c",
          "grade": true,
          "grade_id": "cell-f0fffc87a2e19e12",
          "locked": false,
          "points": 1,
          "schema_version": 1,
          "solution": true
        },
        "id": "UHxU2d2tDCgI",
        "colab": {
          "base_uri": "https://localhost:8080/",
          "height": 1000
        },
        "outputId": "2aa2ccb4-d375-43eb-84e7-5e6efb4e2377"
      },
      "source": [
        "d=initial.sum()\r\n",
        "d=d.drop(['year'], axis=1)\r\n",
        "d.sum(axis=1).plot(kind='pie', figsize=(20, 20))"
      ],
      "execution_count": null,
      "outputs": [
        {
          "output_type": "execute_result",
          "data": {
            "text/plain": [
              "<matplotlib.axes._subplots.AxesSubplot at 0x7f8c5f7abad0>"
            ]
          },
          "metadata": {
            "tags": []
          },
          "execution_count": 39
        },
        {
          "output_type": "display_data",
          "data": {
            "image/png": "[encoded data removed]",
            "text/plain": [
              "<Figure size 1440x1440 with 1 Axes>"
            ]
          },
          "metadata": {
            "tags": []
          }
        }
      ]
    },
    {
      "cell_type": "markdown",
      "metadata": {
        "id": "WAnzkDuuDCgK"
      },
      "source": [
        "## \\*Q2.5. Írj függvényt, ami több oszlop mentén csoportosít és visszaadja a legnagyobb csoportot.\n",
        "\n",
        "Tipp: a `GroupBy` objektum `get_group` függvénye visszaad egy csoportot."
      ]
    },
    {
      "cell_type": "code",
      "metadata": {
        "deletable": false,
        "nbgrader": {
          "checksum": "c64c4391204f80e449a4ee53e74d37dc",
          "grade": false,
          "grade_id": "cell-c579e9521b6eeb41",
          "locked": false,
          "schema_version": 1,
          "solution": true
        },
        "id": "SK1Uae_qDCgL"
      },
      "source": [
        "def get_largest_group(df, groupby_columns):\n",
        "    y=[]\n",
        "    for i in groupby_columns:\n",
        "      d=df.groupby(i)\n",
        "      x=d.get_group(1)\n",
        "      x2=d.get_group(0)\n",
        "      if len(x2)>len(x):\n",
        "        x=x2\n",
        "      if len(x)>len(y):\n",
        "        y=x\n",
        "    return y\n",
        "      "
      ],
      "execution_count": null,
      "outputs": []
    },
    {
      "cell_type": "code",
      "metadata": {
        "deletable": false,
        "editable": false,
        "nbgrader": {
          "checksum": "89337b207f37a7e68e8e30c29053a1f6",
          "grade": true,
          "grade_id": "cell-29cf58ac88388473",
          "locked": true,
          "points": 2,
          "schema_version": 1,
          "solution": false
        },
        "id": "0S5dkbfNDCgM",
        "colab": {
          "base_uri": "https://localhost:8080/",
          "height": 464
        },
        "outputId": "1689bb32-bc38-42bf-dc1c-9c2a766c3c7d"
      },
      "source": [
        "genres = [\"drama\"]\n",
        "drama_largest = get_largest_group(df, genres)\n",
        "\n",
        "print(drama_largest)\n",
        "\n",
        "assert type(drama_largest) == pd.DataFrame\n",
        "assert len(drama_largest) == 957\n",
        "\n",
        "genres = [\"drama\", \"comedy\"]\n",
        "both_largest = get_largest_group(df, genres)\n",
        "\n",
        "# a csoportban minden film comedy es drama cimkeje azonos\n",
        "assert both_largest[[\"comedy\", \"drama\"]].nunique().loc[\"comedy\"] == 1\n",
        "assert both_largest[[\"comedy\", \"drama\"]].nunique().loc[\"drama\"] == 1\n",
        "print(both_largest.shape)"
      ],
      "execution_count": null,
      "outputs": [
        {
          "output_type": "stream",
          "text": [
            "                        title release_date  ...    year  initial\n",
            "movie_id                                    ...                 \n",
            "1                   Toy Story   1995-01-01  ...  1995.0        T\n",
            "2                   GoldenEye   1995-01-01  ...  1995.0        G\n",
            "3                  Four Rooms   1995-01-01  ...  1995.0        F\n",
            "11                      Seven   1995-01-01  ...  1995.0        S\n",
            "12        Usual Suspects, The   1995-08-14  ...  1995.0        U\n",
            "...                       ...          ...  ...     ...      ...\n",
            "1668       Wedding Bell Blues   1997-06-13  ...  1997.0        W\n",
            "1670                  Tainted   1998-02-01  ...  1998.0        T\n",
            "1673                   Mirage   1995-01-01  ...  1995.0        M\n",
            "1679                B. Monkey   1998-02-06  ...  1998.0        B\n",
            "1681             You So Crazy   1994-01-01  ...  1994.0        Y\n",
            "\n",
            "[957 rows x 23 columns]\n"
          ],
          "name": "stdout"
        },
        {
          "output_type": "error",
          "ename": "AssertionError",
          "evalue": "ignored",
          "traceback": [
            "\u001b[0;31m---------------------------------------------------------------------------\u001b[0m",
            "\u001b[0;31mAssertionError\u001b[0m                            Traceback (most recent call last)",
            "\u001b[0;32m<ipython-input-61-360a8e095bcc>\u001b[0m in \u001b[0;36m<module>\u001b[0;34m()\u001b[0m\n\u001b[1;32m     12\u001b[0m \u001b[0;31m# a csoportban minden film comedy es drama cimkeje azonos\u001b[0m\u001b[0;34m\u001b[0m\u001b[0;34m\u001b[0m\u001b[0;34m\u001b[0m\u001b[0m\n\u001b[1;32m     13\u001b[0m \u001b[0;32massert\u001b[0m \u001b[0mboth_largest\u001b[0m\u001b[0;34m[\u001b[0m\u001b[0;34m[\u001b[0m\u001b[0;34m\"comedy\"\u001b[0m\u001b[0;34m,\u001b[0m \u001b[0;34m\"drama\"\u001b[0m\u001b[0;34m]\u001b[0m\u001b[0;34m]\u001b[0m\u001b[0;34m.\u001b[0m\u001b[0mnunique\u001b[0m\u001b[0;34m(\u001b[0m\u001b[0;34m)\u001b[0m\u001b[0;34m.\u001b[0m\u001b[0mloc\u001b[0m\u001b[0;34m[\u001b[0m\u001b[0;34m\"comedy\"\u001b[0m\u001b[0;34m]\u001b[0m \u001b[0;34m==\u001b[0m \u001b[0;36m1\u001b[0m\u001b[0;34m\u001b[0m\u001b[0;34m\u001b[0m\u001b[0m\n\u001b[0;32m---> 14\u001b[0;31m \u001b[0;32massert\u001b[0m \u001b[0mboth_largest\u001b[0m\u001b[0;34m[\u001b[0m\u001b[0;34m[\u001b[0m\u001b[0;34m\"comedy\"\u001b[0m\u001b[0;34m,\u001b[0m \u001b[0;34m\"drama\"\u001b[0m\u001b[0;34m]\u001b[0m\u001b[0;34m]\u001b[0m\u001b[0;34m.\u001b[0m\u001b[0mnunique\u001b[0m\u001b[0;34m(\u001b[0m\u001b[0;34m)\u001b[0m\u001b[0;34m.\u001b[0m\u001b[0mloc\u001b[0m\u001b[0;34m[\u001b[0m\u001b[0;34m\"drama\"\u001b[0m\u001b[0;34m]\u001b[0m \u001b[0;34m==\u001b[0m \u001b[0;36m1\u001b[0m\u001b[0;34m\u001b[0m\u001b[0;34m\u001b[0m\u001b[0m\n\u001b[0m\u001b[1;32m     15\u001b[0m \u001b[0mprint\u001b[0m\u001b[0;34m(\u001b[0m\u001b[0mboth_largest\u001b[0m\u001b[0;34m.\u001b[0m\u001b[0mshape\u001b[0m\u001b[0;34m)\u001b[0m\u001b[0;34m\u001b[0m\u001b[0;34m\u001b[0m\u001b[0m\n",
            "\u001b[0;31mAssertionError\u001b[0m: "
          ]
        }
      ]
    },
    {
      "cell_type": "markdown",
      "metadata": {
        "id": "Dw732kbjDCgO"
      },
      "source": [
        "# Több DataFrame kezelése, pd.merge"
      ]
    },
    {
      "cell_type": "markdown",
      "metadata": {
        "id": "FQtVlQYPDCgO"
      },
      "source": [
        "Az adathalmaz lényegi része a 100000 értékelés, amit az u.data fájlból tudunk beolvasni. A README-ből kiolvashatjuk a fájl oszlopait."
      ]
    },
    {
      "cell_type": "code",
      "metadata": {
        "id": "6xOdoljGDCgO"
      },
      "source": [
        "cols = ['user', 'movie_id', 'rating', 'timestamp']\n",
        "ratings = pd.read_table(os.path.join(data_dir, \"u.data\"), names=cols)"
      ],
      "execution_count": 31,
      "outputs": []
    },
    {
      "cell_type": "code",
      "metadata": {
        "id": "oMncRA8eDCgQ",
        "colab": {
          "base_uri": "https://localhost:8080/",
          "height": 195
        },
        "outputId": "04828407-ecd4-44c1-bd7c-963702c99e08"
      },
      "source": [
        "ratings.head()"
      ],
      "execution_count": null,
      "outputs": [
        {
          "output_type": "execute_result",
          "data": {
            "text/html": [
              "<div>\n",
              "<style scoped>\n",
              "    .dataframe tbody tr th:only-of-type {\n",
              "        vertical-align: middle;\n",
              "    }\n",
              "\n",
              "    .dataframe tbody tr th {\n",
              "        vertical-align: top;\n",
              "    }\n",
              "\n",
              "    .dataframe thead th {\n",
              "        text-align: right;\n",
              "    }\n",
              "</style>\n",
              "<table border=\"1\" class=\"dataframe\">\n",
              "  <thead>\n",
              "    <tr style=\"text-align: right;\">\n",
              "      <th></th>\n",
              "      <th>user</th>\n",
              "      <th>movie_id</th>\n",
              "      <th>rating</th>\n",
              "      <th>timestamp</th>\n",
              "    </tr>\n",
              "  </thead>\n",
              "  <tbody>\n",
              "    <tr>\n",
              "      <th>0</th>\n",
              "      <td>196</td>\n",
              "      <td>242</td>\n",
              "      <td>3</td>\n",
              "      <td>881250949</td>\n",
              "    </tr>\n",
              "    <tr>\n",
              "      <th>1</th>\n",
              "      <td>186</td>\n",
              "      <td>302</td>\n",
              "      <td>3</td>\n",
              "      <td>891717742</td>\n",
              "    </tr>\n",
              "    <tr>\n",
              "      <th>2</th>\n",
              "      <td>22</td>\n",
              "      <td>377</td>\n",
              "      <td>1</td>\n",
              "      <td>878887116</td>\n",
              "    </tr>\n",
              "    <tr>\n",
              "      <th>3</th>\n",
              "      <td>244</td>\n",
              "      <td>51</td>\n",
              "      <td>2</td>\n",
              "      <td>880606923</td>\n",
              "    </tr>\n",
              "    <tr>\n",
              "      <th>4</th>\n",
              "      <td>166</td>\n",
              "      <td>346</td>\n",
              "      <td>1</td>\n",
              "      <td>886397596</td>\n",
              "    </tr>\n",
              "  </tbody>\n",
              "</table>\n",
              "</div>"
            ],
            "text/plain": [
              "   user  movie_id  rating  timestamp\n",
              "0   196       242       3  881250949\n",
              "1   186       302       3  891717742\n",
              "2    22       377       1  878887116\n",
              "3   244        51       2  880606923\n",
              "4   166       346       1  886397596"
            ]
          },
          "metadata": {
            "tags": []
          },
          "execution_count": 63
        }
      ]
    },
    {
      "cell_type": "markdown",
      "metadata": {
        "id": "76162XWRDCgR"
      },
      "source": [
        "A timestamp oszlop Unix timestampeket tartalmaz, konvertáljuk DateTime-má."
      ]
    },
    {
      "cell_type": "code",
      "metadata": {
        "id": "_Xat7zlADCgS",
        "colab": {
          "base_uri": "https://localhost:8080/",
          "height": 195
        },
        "outputId": "6f789e8d-64d0-469d-e33f-f50472b0037b"
      },
      "source": [
        "ratings['timestamp'] = pd.to_datetime(ratings.timestamp, unit='s')\n",
        "ratings.head()"
      ],
      "execution_count": 32,
      "outputs": [
        {
          "output_type": "execute_result",
          "data": {
            "text/html": [
              "<div>\n",
              "<style scoped>\n",
              "    .dataframe tbody tr th:only-of-type {\n",
              "        vertical-align: middle;\n",
              "    }\n",
              "\n",
              "    .dataframe tbody tr th {\n",
              "        vertical-align: top;\n",
              "    }\n",
              "\n",
              "    .dataframe thead th {\n",
              "        text-align: right;\n",
              "    }\n",
              "</style>\n",
              "<table border=\"1\" class=\"dataframe\">\n",
              "  <thead>\n",
              "    <tr style=\"text-align: right;\">\n",
              "      <th></th>\n",
              "      <th>user</th>\n",
              "      <th>movie_id</th>\n",
              "      <th>rating</th>\n",
              "      <th>timestamp</th>\n",
              "    </tr>\n",
              "  </thead>\n",
              "  <tbody>\n",
              "    <tr>\n",
              "      <th>0</th>\n",
              "      <td>196</td>\n",
              "      <td>242</td>\n",
              "      <td>3</td>\n",
              "      <td>1997-12-04 15:55:49</td>\n",
              "    </tr>\n",
              "    <tr>\n",
              "      <th>1</th>\n",
              "      <td>186</td>\n",
              "      <td>302</td>\n",
              "      <td>3</td>\n",
              "      <td>1998-04-04 19:22:22</td>\n",
              "    </tr>\n",
              "    <tr>\n",
              "      <th>2</th>\n",
              "      <td>22</td>\n",
              "      <td>377</td>\n",
              "      <td>1</td>\n",
              "      <td>1997-11-07 07:18:36</td>\n",
              "    </tr>\n",
              "    <tr>\n",
              "      <th>3</th>\n",
              "      <td>244</td>\n",
              "      <td>51</td>\n",
              "      <td>2</td>\n",
              "      <td>1997-11-27 05:02:03</td>\n",
              "    </tr>\n",
              "    <tr>\n",
              "      <th>4</th>\n",
              "      <td>166</td>\n",
              "      <td>346</td>\n",
              "      <td>1</td>\n",
              "      <td>1998-02-02 05:33:16</td>\n",
              "    </tr>\n",
              "  </tbody>\n",
              "</table>\n",
              "</div>"
            ],
            "text/plain": [
              "   user  movie_id  rating           timestamp\n",
              "0   196       242       3 1997-12-04 15:55:49\n",
              "1   186       302       3 1998-04-04 19:22:22\n",
              "2    22       377       1 1997-11-07 07:18:36\n",
              "3   244        51       2 1997-11-27 05:02:03\n",
              "4   166       346       1 1998-02-02 05:33:16"
            ]
          },
          "metadata": {
            "tags": []
          },
          "execution_count": 32
        }
      ]
    },
    {
      "cell_type": "markdown",
      "metadata": {
        "collapsed": true,
        "id": "uJAkmqZ6DCgT"
      },
      "source": [
        "## Merge a film táblával"
      ]
    },
    {
      "cell_type": "markdown",
      "metadata": {
        "id": "WvCpCI7IDCgU"
      },
      "source": [
        "Mivel már több DataFrame-mel dolgozunk, érdemes a filmeket tartalmazó táblának beszédesebb nevet adni."
      ]
    },
    {
      "cell_type": "code",
      "metadata": {
        "id": "l4OIo8AGDCgU"
      },
      "source": [
        "movies = df"
      ],
      "execution_count": 33,
      "outputs": []
    },
    {
      "cell_type": "markdown",
      "metadata": {
        "id": "yoiS6Xh0DCgV"
      },
      "source": [
        "Felülírjuk a ratings táblát:"
      ]
    },
    {
      "cell_type": "code",
      "metadata": {
        "id": "MUbjHQulDCgV",
        "colab": {
          "base_uri": "https://localhost:8080/",
          "height": 383
        },
        "outputId": "eab66ead-7162-47cf-84c2-b2f4945430c5"
      },
      "source": [
        "ratings = pd.merge(ratings, movies, left_on='movie_id', right_index=True)\n",
        "ratings.head()"
      ],
      "execution_count": 34,
      "outputs": [
        {
          "output_type": "execute_result",
          "data": {
            "text/html": [
              "<div>\n",
              "<style scoped>\n",
              "    .dataframe tbody tr th:only-of-type {\n",
              "        vertical-align: middle;\n",
              "    }\n",
              "\n",
              "    .dataframe tbody tr th {\n",
              "        vertical-align: top;\n",
              "    }\n",
              "\n",
              "    .dataframe thead th {\n",
              "        text-align: right;\n",
              "    }\n",
              "</style>\n",
              "<table border=\"1\" class=\"dataframe\">\n",
              "  <thead>\n",
              "    <tr style=\"text-align: right;\">\n",
              "      <th></th>\n",
              "      <th>user</th>\n",
              "      <th>movie_id</th>\n",
              "      <th>rating</th>\n",
              "      <th>timestamp</th>\n",
              "      <th>title</th>\n",
              "      <th>release_date</th>\n",
              "      <th>imdb_url</th>\n",
              "      <th>action</th>\n",
              "      <th>adventure</th>\n",
              "      <th>animation</th>\n",
              "      <th>children</th>\n",
              "      <th>comedy</th>\n",
              "      <th>crime</th>\n",
              "      <th>documentary</th>\n",
              "      <th>drama</th>\n",
              "      <th>fantasy</th>\n",
              "      <th>film_noir</th>\n",
              "      <th>horror</th>\n",
              "      <th>musical</th>\n",
              "      <th>mystery</th>\n",
              "      <th>romance</th>\n",
              "      <th>sci_fi</th>\n",
              "      <th>thriller</th>\n",
              "      <th>war</th>\n",
              "      <th>western</th>\n",
              "      <th>year</th>\n",
              "    </tr>\n",
              "  </thead>\n",
              "  <tbody>\n",
              "    <tr>\n",
              "      <th>0</th>\n",
              "      <td>196</td>\n",
              "      <td>242</td>\n",
              "      <td>3</td>\n",
              "      <td>1997-12-04 15:55:49</td>\n",
              "      <td>Kolya (1996)</td>\n",
              "      <td>1997-01-24</td>\n",
              "      <td>http://us.imdb.com/M/title-exact?Kolya%20(1996)</td>\n",
              "      <td>0</td>\n",
              "      <td>0</td>\n",
              "      <td>0</td>\n",
              "      <td>0</td>\n",
              "      <td>1</td>\n",
              "      <td>0</td>\n",
              "      <td>0</td>\n",
              "      <td>0</td>\n",
              "      <td>0</td>\n",
              "      <td>0</td>\n",
              "      <td>0</td>\n",
              "      <td>0</td>\n",
              "      <td>0</td>\n",
              "      <td>0</td>\n",
              "      <td>0</td>\n",
              "      <td>0</td>\n",
              "      <td>0</td>\n",
              "      <td>0</td>\n",
              "      <td>1997.0</td>\n",
              "    </tr>\n",
              "    <tr>\n",
              "      <th>253</th>\n",
              "      <td>63</td>\n",
              "      <td>242</td>\n",
              "      <td>3</td>\n",
              "      <td>1997-10-01 23:06:30</td>\n",
              "      <td>Kolya (1996)</td>\n",
              "      <td>1997-01-24</td>\n",
              "      <td>http://us.imdb.com/M/title-exact?Kolya%20(1996)</td>\n",
              "      <td>0</td>\n",
              "      <td>0</td>\n",
              "      <td>0</td>\n",
              "      <td>0</td>\n",
              "      <td>1</td>\n",
              "      <td>0</td>\n",
              "      <td>0</td>\n",
              "      <td>0</td>\n",
              "      <td>0</td>\n",
              "      <td>0</td>\n",
              "      <td>0</td>\n",
              "      <td>0</td>\n",
              "      <td>0</td>\n",
              "      <td>0</td>\n",
              "      <td>0</td>\n",
              "      <td>0</td>\n",
              "      <td>0</td>\n",
              "      <td>0</td>\n",
              "      <td>1997.0</td>\n",
              "    </tr>\n",
              "    <tr>\n",
              "      <th>629</th>\n",
              "      <td>226</td>\n",
              "      <td>242</td>\n",
              "      <td>5</td>\n",
              "      <td>1998-01-04 04:37:51</td>\n",
              "      <td>Kolya (1996)</td>\n",
              "      <td>1997-01-24</td>\n",
              "      <td>http://us.imdb.com/M/title-exact?Kolya%20(1996)</td>\n",
              "      <td>0</td>\n",
              "      <td>0</td>\n",
              "      <td>0</td>\n",
              "      <td>0</td>\n",
              "      <td>1</td>\n",
              "      <td>0</td>\n",
              "      <td>0</td>\n",
              "      <td>0</td>\n",
              "      <td>0</td>\n",
              "      <td>0</td>\n",
              "      <td>0</td>\n",
              "      <td>0</td>\n",
              "      <td>0</td>\n",
              "      <td>0</td>\n",
              "      <td>0</td>\n",
              "      <td>0</td>\n",
              "      <td>0</td>\n",
              "      <td>0</td>\n",
              "      <td>1997.0</td>\n",
              "    </tr>\n",
              "    <tr>\n",
              "      <th>1232</th>\n",
              "      <td>154</td>\n",
              "      <td>242</td>\n",
              "      <td>3</td>\n",
              "      <td>1997-11-10 05:03:55</td>\n",
              "      <td>Kolya (1996)</td>\n",
              "      <td>1997-01-24</td>\n",
              "      <td>http://us.imdb.com/M/title-exact?Kolya%20(1996)</td>\n",
              "      <td>0</td>\n",
              "      <td>0</td>\n",
              "      <td>0</td>\n",
              "      <td>0</td>\n",
              "      <td>1</td>\n",
              "      <td>0</td>\n",
              "      <td>0</td>\n",
              "      <td>0</td>\n",
              "      <td>0</td>\n",
              "      <td>0</td>\n",
              "      <td>0</td>\n",
              "      <td>0</td>\n",
              "      <td>0</td>\n",
              "      <td>0</td>\n",
              "      <td>0</td>\n",
              "      <td>0</td>\n",
              "      <td>0</td>\n",
              "      <td>0</td>\n",
              "      <td>1997.0</td>\n",
              "    </tr>\n",
              "    <tr>\n",
              "      <th>2159</th>\n",
              "      <td>306</td>\n",
              "      <td>242</td>\n",
              "      <td>5</td>\n",
              "      <td>1997-10-10 17:16:33</td>\n",
              "      <td>Kolya (1996)</td>\n",
              "      <td>1997-01-24</td>\n",
              "      <td>http://us.imdb.com/M/title-exact?Kolya%20(1996)</td>\n",
              "      <td>0</td>\n",
              "      <td>0</td>\n",
              "      <td>0</td>\n",
              "      <td>0</td>\n",
              "      <td>1</td>\n",
              "      <td>0</td>\n",
              "      <td>0</td>\n",
              "      <td>0</td>\n",
              "      <td>0</td>\n",
              "      <td>0</td>\n",
              "      <td>0</td>\n",
              "      <td>0</td>\n",
              "      <td>0</td>\n",
              "      <td>0</td>\n",
              "      <td>0</td>\n",
              "      <td>0</td>\n",
              "      <td>0</td>\n",
              "      <td>0</td>\n",
              "      <td>1997.0</td>\n",
              "    </tr>\n",
              "  </tbody>\n",
              "</table>\n",
              "</div>"
            ],
            "text/plain": [
              "      user  movie_id  rating  ... war western    year\n",
              "0      196       242       3  ...   0       0  1997.0\n",
              "253     63       242       3  ...   0       0  1997.0\n",
              "629    226       242       5  ...   0       0  1997.0\n",
              "1232   154       242       3  ...   0       0  1997.0\n",
              "2159   306       242       5  ...   0       0  1997.0\n",
              "\n",
              "[5 rows x 26 columns]"
            ]
          },
          "metadata": {
            "tags": []
          },
          "execution_count": 34
        }
      ]
    },
    {
      "cell_type": "markdown",
      "metadata": {
        "id": "8hf7U7chDCgW"
      },
      "source": [
        "## Hány értékelés érkezett a film megjelenése előtt?"
      ]
    },
    {
      "cell_type": "code",
      "metadata": {
        "id": "2_UrcmcrDCgX",
        "colab": {
          "base_uri": "https://localhost:8080/"
        },
        "outputId": "8d920f5d-cb94-4742-a201-32b47d740290"
      },
      "source": [
        "len(ratings[ratings.timestamp <= ratings.release_date])"
      ],
      "execution_count": null,
      "outputs": [
        {
          "output_type": "execute_result",
          "data": {
            "text/plain": [
              "231"
            ]
          },
          "metadata": {
            "tags": []
          },
          "execution_count": 67
        }
      ]
    },
    {
      "cell_type": "markdown",
      "metadata": {
        "id": "33T6yT-oDCga"
      },
      "source": [
        "## Hogy oszlik meg ez a szám a filmek között? "
      ]
    },
    {
      "cell_type": "code",
      "metadata": {
        "id": "n3DyQx1FDCgb",
        "colab": {
          "base_uri": "https://localhost:8080/"
        },
        "outputId": "3c1a68b2-afae-460f-d791-170c41dc062b"
      },
      "source": [
        "ratings[ratings.timestamp <= ratings.release_date].title.value_counts()"
      ],
      "execution_count": null,
      "outputs": [
        {
          "output_type": "execute_result",
          "data": {
            "text/plain": [
              "Apt Pupil                          160\n",
              "Desperate Measures                  21\n",
              "Hard Rain                            4\n",
              "Phantoms                             4\n",
              "Fallen                               4\n",
              "Dangerous Beauty                     4\n",
              "Leading Man, The                     3\n",
              "Firestorm                            3\n",
              "Mighty, The                          3\n",
              "Prophecy II, The                     3\n",
              "Four Days in September               3\n",
              "Magic Hour, The                      3\n",
              "Half Baked                           2\n",
              "Duoluo tianshi                       2\n",
              "Wag the Dog                          2\n",
              "Hurricane Streets                    2\n",
              "Shooting Fish                        2\n",
              "Truman Show, The                     1\n",
              "I Know What You Did Last Summer      1\n",
              "Star Kid                             1\n",
              "Oscar & Lucinda                      1\n",
              "Deep Rising                          1\n",
              "Sliding Doors                        1\n",
              "Name: title, dtype: int64"
            ]
          },
          "metadata": {
            "tags": []
          },
          "execution_count": 68
        }
      ]
    },
    {
      "cell_type": "markdown",
      "metadata": {
        "id": "c6DAN0hQDCgc"
      },
      "source": [
        "# 3. feladat: merge\n",
        "\n",
        "## Q3.1. Hány film kapott legalább egyszer 4 fölötti értékelést?\n",
        "\n",
        "VIGYÁZAT! A filmek címe nem feltétlenül egyedi."
      ]
    },
    {
      "cell_type": "code",
      "metadata": {
        "deletable": false,
        "nbgrader": {
          "checksum": "085f89d27394d0ae19b45216759960b8",
          "grade": false,
          "grade_id": "cell-85e9dec05f71c070",
          "locked": false,
          "schema_version": 1,
          "solution": true
        },
        "id": "jqO7nesEDCgc"
      },
      "source": [
        "def count_greater_than_4(ratings):\n",
        "    r=ratings[ratings.rating>4]\n",
        "    er=r.movie_id.unique()\n",
        "    return len(er)"
      ],
      "execution_count": null,
      "outputs": []
    },
    {
      "cell_type": "code",
      "metadata": {
        "deletable": false,
        "editable": false,
        "nbgrader": {
          "checksum": "9995e201ac6886a917afc32f4de6dfa5",
          "grade": true,
          "grade_id": "cell-c78934077414f26d",
          "locked": true,
          "points": 2,
          "schema_version": 1,
          "solution": false
        },
        "id": "IfPriFPsDCgd",
        "colab": {
          "base_uri": "https://localhost:8080/"
        },
        "outputId": "ed5b4ae9-b349-4a75-b483-7dea4165f564"
      },
      "source": [
        "greater = count_greater_than_4(ratings)\n",
        "print(greater)\n",
        "assert type(greater) == int\n",
        "assert greater != 1160  # titles are NOT UNIQUE"
      ],
      "execution_count": null,
      "outputs": [
        {
          "output_type": "stream",
          "text": [
            "1172\n"
          ],
          "name": "stdout"
        }
      ]
    },
    {
      "cell_type": "markdown",
      "metadata": {
        "id": "28oB43RpDCge"
      },
      "source": [
        "## Hisztogram készítése az egyes értékelésekről\n",
        "\n",
        "Hisztogram készítésére (melyik érték hányszor szerepelt), a hist függvény áll rendelkezésünkre:"
      ]
    },
    {
      "cell_type": "code",
      "metadata": {
        "id": "zKl3bT_pDCge",
        "colab": {
          "base_uri": "https://localhost:8080/",
          "height": 316
        },
        "outputId": "d58fb205-3ad6-48bd-d086-704a7de2d610"
      },
      "source": [
        "ratings.hist('rating', bins=5)"
      ],
      "execution_count": null,
      "outputs": [
        {
          "output_type": "execute_result",
          "data": {
            "text/plain": [
              "array([[<matplotlib.axes._subplots.AxesSubplot object at 0x7f8c5c3b4390>]],\n",
              "      dtype=object)"
            ]
          },
          "metadata": {
            "tags": []
          },
          "execution_count": 82
        },
        {
          "output_type": "display_data",
          "data": {
            "image/png": "[encoded data removed]",
            "text/plain": [
              "<Figure size 432x288 with 1 Axes>"
            ]
          },
          "metadata": {
            "tags": [],
            "needs_background": "light"
          }
        }
      ]
    },
    {
      "cell_type": "markdown",
      "metadata": {
        "id": "qEhJShnzDCgf"
      },
      "source": [
        "## Q3.2. Ábrázold hisztogramon az 1960 előtti krimik értékeléseit!"
      ]
    },
    {
      "cell_type": "code",
      "metadata": {
        "deletable": false,
        "nbgrader": {
          "checksum": "7664e34c48231f99cc0e44323a21a527",
          "grade": false,
          "grade_id": "cell-82bbc27fb2b886d4",
          "locked": false,
          "schema_version": 1,
          "solution": true
        },
        "id": "5nSWlVdJDCgg"
      },
      "source": [
        "def filter_old_crime_movies(ratings):\n",
        "    return ratings[ratings.year < 1960]"
      ],
      "execution_count": null,
      "outputs": []
    },
    {
      "cell_type": "code",
      "metadata": {
        "deletable": false,
        "editable": false,
        "nbgrader": {
          "checksum": "4f390cfea8e8d8d965e14b85dc851fde",
          "grade": true,
          "grade_id": "cell-404084fefeed11d9",
          "locked": true,
          "points": 1,
          "schema_version": 1,
          "solution": false
        },
        "id": "O1RJcwyTDCgh"
      },
      "source": [
        "old_crime_movies = filter_old_crime_movies(ratings)\n",
        "\n",
        "assert type(old_crime_movies) == pd.DataFrame"
      ],
      "execution_count": null,
      "outputs": []
    },
    {
      "cell_type": "markdown",
      "metadata": {
        "id": "XOMwmxJ6DCgi"
      },
      "source": [
        "### Ábrázold."
      ]
    },
    {
      "cell_type": "code",
      "metadata": {
        "deletable": false,
        "nbgrader": {
          "checksum": "82680a50937d370fe18002d1a7734d9d",
          "grade": true,
          "grade_id": "cell-49e31c1f00cff001",
          "locked": false,
          "points": 1,
          "schema_version": 1,
          "solution": true
        },
        "id": "5cwaZ35iDCgj",
        "colab": {
          "base_uri": "https://localhost:8080/",
          "height": 316
        },
        "outputId": "c59edac4-8207-4b59-c6b6-43c9d7ff28aa"
      },
      "source": [
        "old_crime_movies.hist('rating', bins=5)"
      ],
      "execution_count": null,
      "outputs": [
        {
          "output_type": "execute_result",
          "data": {
            "text/plain": [
              "array([[<matplotlib.axes._subplots.AxesSubplot object at 0x7f8c5c33e210>]],\n",
              "      dtype=object)"
            ]
          },
          "metadata": {
            "tags": []
          },
          "execution_count": 85
        },
        {
          "output_type": "display_data",
          "data": {
            "image/png": "[encoded data removed]",
            "text/plain": [
              "<Figure size 432x288 with 1 Axes>"
            ]
          },
          "metadata": {
            "tags": [],
            "needs_background": "light"
          }
        }
      ]
    },
    {
      "cell_type": "markdown",
      "metadata": {
        "id": "XZt0JmD3DCgk"
      },
      "source": [
        "## Q3.3. Mi az értékelések átlaga évtizedenként (film megjelenési éve)? \n",
        "\n",
        "Figyelj arra, hogy csak annyi adat szerepeljen az összesítésben, amennyit a feladat kér. Az indexek legyenek az évtizedek kezdőévei."
      ]
    },
    {
      "cell_type": "code",
      "metadata": {
        "deletable": false,
        "nbgrader": {
          "checksum": "21d988438d2feb9ac6e3afc8fdbeb3f8",
          "grade": false,
          "grade_id": "cell-decbc921ca930464",
          "locked": false,
          "schema_version": 1,
          "solution": true
        },
        "id": "F2CnZYf0DCgk"
      },
      "source": [
        "def rating_mean_by_decade(ratings):\n",
        "    r=ratings.groupby(ratings.year // 10 * 10)\n",
        "    rr=r.mean()\n",
        "    return rr.rating"
      ],
      "execution_count": null,
      "outputs": []
    },
    {
      "cell_type": "code",
      "metadata": {
        "deletable": false,
        "editable": false,
        "nbgrader": {
          "checksum": "fb5e4cbe7864918a4aabe47c0fe31544",
          "grade": true,
          "grade_id": "cell-982a107959b04fcb",
          "locked": true,
          "points": 2,
          "schema_version": 1,
          "solution": false
        },
        "id": "1ITd_uchDCgn",
        "colab": {
          "base_uri": "https://localhost:8080/"
        },
        "outputId": "7cba26e1-c0aa-43ad-bfe7-511627c1356b"
      },
      "source": [
        "decade_mean = rating_mean_by_decade(ratings)\n",
        "\n",
        "print(decade_mean)\n",
        "\n",
        "# csak az ertekeles oszlop atalga erdekel minket, nem az egesz DataFrame-e\n",
        "assert not type(decade_mean) == pd.DataFrame\n",
        "assert type(decade_mean) == pd.Series\n",
        "assert 1920 in decade_mean.index\n",
        "assert 1921 not in decade_mean.index"
      ],
      "execution_count": null,
      "outputs": [
        {
          "output_type": "stream",
          "text": [
            "year\n",
            "1920.0    3.535714\n",
            "1930.0    3.925134\n",
            "1940.0    4.010671\n",
            "1950.0    3.937250\n",
            "1960.0    3.881548\n",
            "1970.0    3.866069\n",
            "1980.0    3.749794\n",
            "1990.0    3.398864\n",
            "Name: rating, dtype: float64\n"
          ],
          "name": "stdout"
        }
      ]
    },
    {
      "cell_type": "markdown",
      "metadata": {
        "id": "jINIPgDfDCgo"
      },
      "source": [
        "## Q3.4. Az értékelésekhez tartozik egy timestamp. Mi az értékelések átlaga a hét napjaira  lebontva?\n",
        "\n",
        "Tehát melyik napon jószívűbbek az emberek?\n",
        "\n",
        "Tipp: érdemes körbenézni a dátummezőkhöz tartozó `dt` névtérben."
      ]
    },
    {
      "cell_type": "code",
      "metadata": {
        "deletable": false,
        "nbgrader": {
          "checksum": "59ad65b0533eb7982fc56cef0985ae65",
          "grade": false,
          "grade_id": "cell-834d55d50f7f0b46",
          "locked": false,
          "schema_version": 1,
          "solution": true
        },
        "id": "U5Ja4mtODCgo"
      },
      "source": [
        "def rating_mean_by_weekday(ratings):\n",
        "    r=ratings.groupby(ratings.release_date.dt.dayofweek)\n",
        "    r=r.mean()\n",
        "    return r.rating"
      ],
      "execution_count": null,
      "outputs": []
    },
    {
      "cell_type": "code",
      "metadata": {
        "deletable": false,
        "editable": false,
        "nbgrader": {
          "checksum": "9821cb15070fb1de971586f487fa3a7e",
          "grade": true,
          "grade_id": "cell-fe28d509139366c5",
          "locked": true,
          "points": 2,
          "schema_version": 1,
          "solution": false
        },
        "id": "_lYE5yYgDCgr",
        "colab": {
          "base_uri": "https://localhost:8080/"
        },
        "outputId": "64757192-bb8f-4b71-d9ff-e949d559957b"
      },
      "source": [
        "weekday_mean = rating_mean_by_weekday(ratings)\n",
        "\n",
        "print(weekday_mean)\n",
        "\n",
        "assert type(weekday_mean) == pd.Series\n",
        "assert type(weekday_mean) != pd.DataFrame  # csak egy oszlop kell"
      ],
      "execution_count": null,
      "outputs": [
        {
          "output_type": "stream",
          "text": [
            "release_date\n",
            "0.0    3.701030\n",
            "1.0    3.886214\n",
            "2.0    3.508773\n",
            "3.0    3.791739\n",
            "4.0    3.414516\n",
            "5.0    3.540526\n",
            "6.0    3.499132\n",
            "Name: rating, dtype: float64\n"
          ],
          "name": "stdout"
        }
      ]
    },
    {
      "cell_type": "markdown",
      "metadata": {
        "id": "KzYdRsyIDCgs"
      },
      "source": [
        "## Q3.5. Melyik hónapban mennyi a kalandfilmek (adventure) értékeléseinek szórása? \n",
        "\n",
        "Vigyázat, a szórás és a variancia nem azonos!"
      ]
    },
    {
      "cell_type": "code",
      "metadata": {
        "deletable": false,
        "nbgrader": {
          "checksum": "243453c70ea4cc3787b5c2b748b7b928",
          "grade": false,
          "grade_id": "cell-740366a1e5685e43",
          "locked": false,
          "schema_version": 1,
          "solution": true
        },
        "id": "DlGY5ZFSDCgs"
      },
      "source": [
        "def adventure_monthly_std(ratings):\n",
        "    r=ratings[ratings.adventure==1]\n",
        "    r=r.groupby(r.release_date.dt.month)\n",
        "    r=r.std()\n",
        "    return r.rating\n"
      ],
      "execution_count": null,
      "outputs": []
    },
    {
      "cell_type": "code",
      "metadata": {
        "deletable": false,
        "editable": false,
        "nbgrader": {
          "checksum": "229db57fdc101b6f1d476a7d521da857",
          "grade": true,
          "grade_id": "cell-2c59e52f7ed415e2",
          "locked": true,
          "points": 2,
          "schema_version": 1,
          "solution": false
        },
        "id": "NFIdyWP0DCgt",
        "colab": {
          "base_uri": "https://localhost:8080/"
        },
        "outputId": "e72a155e-5d75-4e86-9ff5-6d7e96eca1da"
      },
      "source": [
        "adventure = adventure_monthly_std(ratings)\n",
        "assert type(adventure) == pd.Series\n",
        "assert type(adventure) != pd.DataFrame\n",
        "\n",
        "print(adventure)\n",
        "\n",
        "# legfeljebb 12 különböző hónapban érkezhettek értékelések\n",
        "assert len(adventure) <= 12"
      ],
      "execution_count": null,
      "outputs": [
        {
          "output_type": "stream",
          "text": [
            "release_date\n",
            "1     1.116254\n",
            "2     1.060079\n",
            "3     1.058203\n",
            "4     1.070810\n",
            "5     1.068863\n",
            "6     1.102157\n",
            "7     1.069308\n",
            "8     1.203906\n",
            "9     0.977338\n",
            "10    1.045119\n",
            "11    1.052887\n",
            "12    1.035401\n",
            "Name: rating, dtype: float64\n"
          ],
          "name": "stdout"
        }
      ]
    },
    {
      "cell_type": "markdown",
      "metadata": {
        "id": "v7aSubC_DCgv"
      },
      "source": [
        "# 4. feladat: Users DataFrame"
      ]
    },
    {
      "cell_type": "markdown",
      "metadata": {
        "id": "cVDNezaHDCgv"
      },
      "source": [
        "## Q4.1 Olvasd be a u.user fájlt egy `users` nevű DataFrame-be!\n",
        "\n",
        "Segítségképpen az oszlopok: `user_id, age, gender, occupation, zip`. A `user_id` oszlop legyen a `DataFrame` indexe."
      ]
    },
    {
      "cell_type": "code",
      "metadata": {
        "deletable": false,
        "nbgrader": {
          "checksum": "300acdd4652736b1e334a3ca437c490e",
          "grade": false,
          "grade_id": "cell-3b9d4b1a3c17f947",
          "locked": false,
          "schema_version": 1,
          "solution": true
        },
        "id": "fCgeRlxMDCgw"
      },
      "source": [
        "userCols =['user_id', 'age', 'gender', 'occupation', 'zip']\n",
        "users = pd.read_table(os.path.join(data_dir, \"u.user\"), names=userCols, index_col='user_id', sep=\"|\")"
      ],
      "execution_count": 46,
      "outputs": []
    },
    {
      "cell_type": "code",
      "metadata": {
        "deletable": false,
        "editable": false,
        "nbgrader": {
          "checksum": "21f331de89d666db3580e25ea528e89e",
          "grade": true,
          "grade_id": "cell-6f08c87c9232ef24",
          "locked": true,
          "points": 2,
          "schema_version": 1,
          "solution": false
        },
        "id": "cs-utGZlDCgy"
      },
      "source": [
        "assert type(users) == pd.DataFrame\n",
        "\n",
        "# user_id starts from 1\n",
        "assert 0 not in users.index"
      ],
      "execution_count": 47,
      "outputs": []
    },
    {
      "cell_type": "markdown",
      "metadata": {
        "id": "EheZl1bWDCgz"
      },
      "source": [
        "## Q4.2. Egyesítsd (merge) a `ratings` táblát a `users` táblával. Őrizd meg az összes oszlopot."
      ]
    },
    {
      "cell_type": "code",
      "metadata": {
        "deletable": false,
        "nbgrader": {
          "checksum": "7f3bdac78b968a765255a4842fc16e1e",
          "grade": false,
          "grade_id": "cell-ec3d2a62dc6dc469",
          "locked": false,
          "schema_version": 1,
          "solution": true
        },
        "id": "BuFAguw1DCg0",
        "colab": {
          "base_uri": "https://localhost:8080/"
        },
        "outputId": "e0cd1944-5c36-40c8-87ca-6e91f69517ad"
      },
      "source": [
        "# ratings = ratings.merge...\n",
        "print(ratings)\n",
        "print(users)\n",
        "ratings=ratings.merge(users, left_on='movie_id', right_on='user_id')\n",
        "print(ratings)\n",
        "print(ratings.shape)"
      ],
      "execution_count": 52,
      "outputs": [
        {
          "output_type": "stream",
          "text": [
            "       user  movie_id  rating  ... war western    year\n",
            "0       196       242       3  ...   0       0  1997.0\n",
            "253      63       242       3  ...   0       0  1997.0\n",
            "629     226       242       5  ...   0       0  1997.0\n",
            "1232    154       242       3  ...   0       0  1997.0\n",
            "2159    306       242       5  ...   0       0  1997.0\n",
            "...     ...       ...     ...  ...  ..     ...     ...\n",
            "96444   840      1674       4  ...   0       0  1962.0\n",
            "97649   655      1640       3  ...   0       0  1996.0\n",
            "98427   655      1637       3  ...   0       0  1996.0\n",
            "98640   655      1630       3  ...   0       0  1996.0\n",
            "98955   655      1641       3  ...   0       0  1996.0\n",
            "\n",
            "[100000 rows x 26 columns]\n",
            "         age gender     occupation    zip\n",
            "user_id                                  \n",
            "1         24      M     technician  85711\n",
            "2         53      F          other  94043\n",
            "3         23      M         writer  32067\n",
            "4         24      M     technician  43537\n",
            "5         33      F          other  15213\n",
            "...      ...    ...            ...    ...\n",
            "939       26      F        student  33319\n",
            "940       32      M  administrator  02215\n",
            "941       20      M        student  97229\n",
            "942       48      F      librarian  78209\n",
            "943       22      M        student  77841\n",
            "\n",
            "[943 rows x 4 columns]\n",
            "       user  movie_id  rating           timestamp  ... age gender occupation    zip\n",
            "0       196       242       3 1997-12-04 15:55:49  ...  33      M   educator  31404\n",
            "1        63       242       3 1997-10-01 23:06:30  ...  33      M   educator  31404\n",
            "2       226       242       5 1998-01-04 04:37:51  ...  33      M   educator  31404\n",
            "3       154       242       3 1997-11-10 05:03:55  ...  33      M   educator  31404\n",
            "4       306       242       5 1997-10-10 17:16:33  ...  33      M   educator  31404\n",
            "...     ...       ...     ...                 ...  ...  ..    ...        ...    ...\n",
            "90635   489       897       2 1998-04-01 16:36:05  ...  30      M      other  33484\n",
            "90636   683       911       3 1998-04-22 23:05:46  ...  37      F     writer  53210\n",
            "90637    13       911       2 1998-04-08 05:59:01  ...  37      F     writer  53210\n",
            "90638   328       911       3 1998-04-21 21:57:59  ...  37      F     writer  53210\n",
            "90639   655       911       2 1998-04-05 23:05:22  ...  37      F     writer  53210\n",
            "\n",
            "[90640 rows x 30 columns]\n",
            "(90640, 30)\n"
          ],
          "name": "stdout"
        }
      ]
    },
    {
      "cell_type": "code",
      "metadata": {
        "deletable": false,
        "editable": false,
        "nbgrader": {
          "checksum": "91bb0a80db734d99b3617e84d0c5a9c8",
          "grade": true,
          "grade_id": "cell-d0b90709db5b9338",
          "locked": true,
          "points": 2,
          "schema_version": 1,
          "solution": false
        },
        "id": "aj9SlXiwDCg1",
        "colab": {
          "base_uri": "https://localhost:8080/",
          "height": 178
        },
        "outputId": "0e67a3ad-4c71-41d4-90c6-db773f73e3db"
      },
      "source": [
        "assert type(ratings) == pd.DataFrame\n",
        "assert ratings.shape == (100000, 30)"
      ],
      "execution_count": 53,
      "outputs": [
        {
          "output_type": "error",
          "ename": "AssertionError",
          "evalue": "ignored",
          "traceback": [
            "\u001b[0;31m---------------------------------------------------------------------------\u001b[0m",
            "\u001b[0;31mAssertionError\u001b[0m                            Traceback (most recent call last)",
            "\u001b[0;32m<ipython-input-53-ce90ec2ca81e>\u001b[0m in \u001b[0;36m<module>\u001b[0;34m()\u001b[0m\n\u001b[1;32m      1\u001b[0m \u001b[0;32massert\u001b[0m \u001b[0mtype\u001b[0m\u001b[0;34m(\u001b[0m\u001b[0mratings\u001b[0m\u001b[0;34m)\u001b[0m \u001b[0;34m==\u001b[0m \u001b[0mpd\u001b[0m\u001b[0;34m.\u001b[0m\u001b[0mDataFrame\u001b[0m\u001b[0;34m\u001b[0m\u001b[0;34m\u001b[0m\u001b[0m\n\u001b[0;32m----> 2\u001b[0;31m \u001b[0;32massert\u001b[0m \u001b[0mratings\u001b[0m\u001b[0;34m.\u001b[0m\u001b[0mshape\u001b[0m \u001b[0;34m==\u001b[0m \u001b[0;34m(\u001b[0m\u001b[0;36m100000\u001b[0m\u001b[0;34m,\u001b[0m \u001b[0;36m30\u001b[0m\u001b[0;34m)\u001b[0m\u001b[0;34m\u001b[0m\u001b[0;34m\u001b[0m\u001b[0m\n\u001b[0m",
            "\u001b[0;31mAssertionError\u001b[0m: "
          ]
        }
      ]
    },
    {
      "cell_type": "markdown",
      "metadata": {
        "id": "rcVkkfIMDCg2"
      },
      "source": [
        "## Q4.3. Korcsoportonként hány értékelést adtak le? 10 évet veszünk egy korcsoportnak, tehát 10-19, 20-29 stb. Ábrázold oszlopdiagramon."
      ]
    },
    {
      "cell_type": "code",
      "metadata": {
        "deletable": false,
        "nbgrader": {
          "checksum": "a1d8e6269570eb72352d0742e6f68841",
          "grade": false,
          "grade_id": "cell-a5a8c50bbaffd17a",
          "locked": false,
          "schema_version": 1,
          "solution": true
        },
        "id": "4SXuSQEhDCg2"
      },
      "source": [
        "def by_age_group(ratings):\n",
        "    r=ratings.groupby(ratings.age // 10 * 10)\n",
        "    r=r.count()\n",
        "    r=r.rating\n",
        "    print(type(r))\n",
        "    return r"
      ],
      "execution_count": 72,
      "outputs": []
    },
    {
      "cell_type": "code",
      "metadata": {
        "deletable": false,
        "editable": false,
        "nbgrader": {
          "checksum": "f858a40259afc91033cd4d9897861607",
          "grade": true,
          "grade_id": "cell-348e64e87ba32c6d",
          "locked": true,
          "points": 1,
          "schema_version": 1,
          "solution": false
        },
        "id": "BqOvTgShDCg3",
        "colab": {
          "base_uri": "https://localhost:8080/"
        },
        "outputId": "7d0734e7-4bd1-4ba2-8117-42cef95e7c5e"
      },
      "source": [
        "r = by_age_group(ratings)\n",
        "\n",
        "assert type(r) == pd.Series\n",
        "assert 20 in r"
      ],
      "execution_count": 73,
      "outputs": [
        {
          "output_type": "stream",
          "text": [
            "<class 'pandas.core.series.Series'>\n"
          ],
          "name": "stdout"
        }
      ]
    },
    {
      "cell_type": "markdown",
      "metadata": {
        "id": "ehA9-auCDCg4"
      },
      "source": [
        "### Ábrázold."
      ]
    },
    {
      "cell_type": "code",
      "metadata": {
        "deletable": false,
        "nbgrader": {
          "checksum": "807f663652ebd596c99c577e1cc05344",
          "grade": true,
          "grade_id": "cell-1b2695f675b80d8f",
          "locked": false,
          "points": 1,
          "schema_version": 1,
          "solution": true
        },
        "id": "tVyjx20QDCg5",
        "colab": {
          "base_uri": "https://localhost:8080/",
          "height": 302
        },
        "outputId": "84f7132b-8758-4d1e-c64c-2e597360c9bb"
      },
      "source": [
        "r.plot(kind='bar')"
      ],
      "execution_count": 75,
      "outputs": [
        {
          "output_type": "execute_result",
          "data": {
            "text/plain": [
              "<matplotlib.axes._subplots.AxesSubplot at 0x7f50eeef7290>"
            ]
          },
          "metadata": {
            "tags": []
          },
          "execution_count": 75
        },
        {
          "output_type": "display_data",
          "data": {
            "image/png": "[encoded data removed]",
            "text/plain": [
              "<Figure size 432x288 with 1 Axes>"
            ]
          },
          "metadata": {
            "tags": [],
            "needs_background": "light"
          }
        }
      ]
    },
    {
      "cell_type": "markdown",
      "metadata": {
        "id": "Lh9ICAT7DCg7"
      },
      "source": [
        "## Q4.4. A nap melyik órájában értékelnek a programozók, illetve a marketingesek? Ábrázold két tortadiagramon.\n",
        "\n",
        "Tipp:\n",
        "\n",
        "1. használd az értékelések táblából származó `timestamp` mezőt,\n",
        "1. használhatsz két külön cellát a megoldáshoz,\n",
        "1. gondold át hány szeletes lesz a tortadiagram.\n",
        "\n",
        "Készíts egy függvényt, ami egy adott szakma képviselőinek óránkénti értékelésszámát adja vissza."
      ]
    },
    {
      "cell_type": "code",
      "metadata": {
        "deletable": false,
        "nbgrader": {
          "checksum": "43919b2780a814d46a366590cbf6fa2a",
          "grade": false,
          "grade_id": "cell-defd70a60c72f32a",
          "locked": false,
          "schema_version": 1,
          "solution": true
        },
        "id": "Ugk7nWyqDCg7"
      },
      "source": [
        "def occupation_cnt_by_hour(ratings, occupation):\n",
        "    r=ratings[ratings.occupation==occupation]\n",
        "    r=r.groupby(r.timestamp.dt.hour)\n",
        "    print(r.count())\n",
        "    return r.count().rating"
      ],
      "execution_count": 88,
      "outputs": []
    },
    {
      "cell_type": "code",
      "metadata": {
        "deletable": false,
        "editable": false,
        "nbgrader": {
          "checksum": "633baebec1c9266bc316e359ccbcdd4e",
          "grade": true,
          "grade_id": "cell-aec840e200fcc70a",
          "locked": true,
          "points": 1,
          "schema_version": 1,
          "solution": false
        },
        "id": "K6c5RpUmDCg8",
        "colab": {
          "base_uri": "https://localhost:8080/"
        },
        "outputId": "1436f799-6106-4902-b4db-0806f05fd1a2"
      },
      "source": [
        "marketing = occupation_cnt_by_hour(ratings, \"marketing\")\n",
        "assert type(marketing) == pd.Series\n",
        "\n",
        "# 24 órás egy nap\n",
        "assert len(marketing) < 25"
      ],
      "execution_count": 89,
      "outputs": [
        {
          "output_type": "stream",
          "text": [
            "           user  movie_id  rating  timestamp  ...  age  gender  occupation  zip\n",
            "timestamp                                     ...                              \n",
            "0           159       159     159        159  ...  159     159         159  159\n",
            "1           154       154     154        154  ...  154     154         154  154\n",
            "2           135       135     135        135  ...  135     135         135  135\n",
            "3           163       163     163        163  ...  163     163         163  163\n",
            "4           129       129     129        129  ...  129     129         129  129\n",
            "5           137       137     137        137  ...  137     137         137  137\n",
            "6            97        97      97         97  ...   97      97          97   97\n",
            "7            42        42      42         42  ...   42      42          42   42\n",
            "8            42        42      42         42  ...   42      42          42   42\n",
            "9            55        55      55         55  ...   55      55          55   55\n",
            "10           37        37      37         37  ...   37      37          37   37\n",
            "11           19        19      19         19  ...   19      19          19   19\n",
            "12           31        31      31         31  ...   31      31          31   31\n",
            "13           58        58      58         58  ...   58      58          58   58\n",
            "14           89        89      89         89  ...   89      89          89   89\n",
            "15           89        89      89         89  ...   89      89          89   89\n",
            "16          151       151     151        151  ...  151     151         151  151\n",
            "17          177       177     177        177  ...  177     177         177  177\n",
            "18          194       194     194        194  ...  194     194         194  194\n",
            "19          224       224     224        224  ...  224     224         224  224\n",
            "20          177       177     177        177  ...  177     177         177  177\n",
            "21          254       254     254        254  ...  254     254         254  254\n",
            "22          195       195     195        195  ...  195     195         195  195\n",
            "23          172       172     172        172  ...  172     172         172  172\n",
            "\n",
            "[24 rows x 30 columns]\n"
          ],
          "name": "stdout"
        }
      ]
    },
    {
      "cell_type": "markdown",
      "metadata": {
        "id": "ZN0BGRk_DCg9"
      },
      "source": [
        "###  Ábrázold tortadiagramon a marketingesek és a programozók értékelési óráit.\n",
        "\n",
        "Először a marketingesek:"
      ]
    },
    {
      "cell_type": "code",
      "metadata": {
        "deletable": false,
        "nbgrader": {
          "checksum": "4f0b463b5cf3dddfb5d24e2d67d29d1c",
          "grade": true,
          "grade_id": "cell-624786d146b9ec08",
          "locked": false,
          "points": 1,
          "schema_version": 1,
          "solution": true
        },
        "id": "0XWmAjVFDCg-",
        "colab": {
          "base_uri": "https://localhost:8080/",
          "height": 302
        },
        "outputId": "41e89da8-9f93-4e50-f1d2-bbd4b55894dd"
      },
      "source": [
        "marketing.plot(kind='bar')"
      ],
      "execution_count": 90,
      "outputs": [
        {
          "output_type": "execute_result",
          "data": {
            "text/plain": [
              "<matplotlib.axes._subplots.AxesSubplot at 0x7f50eedf64d0>"
            ]
          },
          "metadata": {
            "tags": []
          },
          "execution_count": 90
        },
        {
          "output_type": "display_data",
          "data": {
            "image/png": "[encoded data removed]",
            "text/plain": [
              "<Figure size 432x288 with 1 Axes>"
            ]
          },
          "metadata": {
            "tags": [],
            "needs_background": "light"
          }
        }
      ]
    },
    {
      "cell_type": "markdown",
      "metadata": {
        "id": "aSoECnjADCg_"
      },
      "source": [
        "majd a programozók:"
      ]
    },
    {
      "cell_type": "code",
      "metadata": {
        "deletable": false,
        "editable": false,
        "nbgrader": {
          "checksum": "64d0039cced739f29ada9434a414f80d",
          "grade": false,
          "grade_id": "cell-5fee31c959a6e3fa",
          "locked": true,
          "schema_version": 1,
          "solution": false
        },
        "id": "M6r4T2MLDChA",
        "colab": {
          "base_uri": "https://localhost:8080/"
        },
        "outputId": "ce6c4c3a-d085-45fd-a808-c75a311ffb05"
      },
      "source": [
        "programmer = occupation_cnt_by_hour(ratings, \"programmer\")"
      ],
      "execution_count": 92,
      "outputs": [
        {
          "output_type": "stream",
          "text": [
            "           user  movie_id  rating  timestamp  ...  age  gender  occupation  zip\n",
            "timestamp                                     ...                              \n",
            "0           347       347     347        347  ...  347     347         347  347\n",
            "1           358       358     358        358  ...  358     358         358  358\n",
            "2           314       314     314        314  ...  314     314         314  314\n",
            "3           321       321     321        321  ...  321     321         321  321\n",
            "4           267       267     267        267  ...  267     267         267  267\n",
            "5           273       273     273        273  ...  273     273         273  273\n",
            "6           191       191     191        191  ...  191     191         191  191\n",
            "7            98        98      98         98  ...   98      98          98   98\n",
            "8            83        83      83         83  ...   83      83          83   83\n",
            "9           126       126     126        126  ...  126     126         126  126\n",
            "10           83        83      83         83  ...   83      83          83   83\n",
            "11           34        34      34         34  ...   34      34          34   34\n",
            "12           66        66      66         66  ...   66      66          66   66\n",
            "13          123       123     123        123  ...  123     123         123  123\n",
            "14          222       222     222        222  ...  222     222         222  222\n",
            "15          217       217     217        217  ...  217     217         217  217\n",
            "16          413       413     413        413  ...  413     413         413  413\n",
            "17          420       420     420        420  ...  420     420         420  420\n",
            "18          456       456     456        456  ...  456     456         456  456\n",
            "19          465       465     465        465  ...  465     465         465  465\n",
            "20          426       426     426        426  ...  426     426         426  426\n",
            "21          567       567     567        567  ...  567     567         567  567\n",
            "22          457       457     457        457  ...  457     457         457  457\n",
            "23          347       347     347        347  ...  347     347         347  347\n",
            "\n",
            "[24 rows x 30 columns]\n"
          ],
          "name": "stdout"
        }
      ]
    },
    {
      "cell_type": "code",
      "metadata": {
        "deletable": false,
        "nbgrader": {
          "checksum": "e8ea2ec288ef2477b912735f95424727",
          "grade": true,
          "grade_id": "cell-624786d146b9ec09",
          "locked": false,
          "points": 0,
          "schema_version": 1,
          "solution": true
        },
        "id": "Mde5ZS0SDChB",
        "colab": {
          "base_uri": "https://localhost:8080/",
          "height": 302
        },
        "outputId": "65f267c8-7131-4e3d-9b07-e4a763e15292"
      },
      "source": [
        "programmer.plot(kind='bar')"
      ],
      "execution_count": 93,
      "outputs": [
        {
          "output_type": "execute_result",
          "data": {
            "text/plain": [
              "<matplotlib.axes._subplots.AxesSubplot at 0x7f50eecfb310>"
            ]
          },
          "metadata": {
            "tags": []
          },
          "execution_count": 93
        },
        {
          "output_type": "display_data",
          "data": {
            "image/png": "[encoded data removed]",
            "text/plain": [
              "<Figure size 432x288 with 1 Axes>"
            ]
          },
          "metadata": {
            "tags": [],
            "needs_background": "light"
          }
        }
      ]
    },
    {
      "cell_type": "markdown",
      "metadata": {
        "id": "oNWGs3QmDChC"
      },
      "source": [
        "## Q4.5. Készíts hisztogramot az értékelési kedvről! Hány user adott le N értékelést?\n",
        "\n",
        "Segítség:\n",
        "\n",
        "- Az adatból hiányoznak a 20 értékelésnél kevesebbet leadó felhasználók, ami a hisztogramról könnyen leolvasható, ha jól ábrázoltad."
      ]
    },
    {
      "cell_type": "code",
      "metadata": {
        "deletable": false,
        "nbgrader": {
          "checksum": "4dc9f2e6f53b563203552c5c1e269463",
          "grade": true,
          "grade_id": "cell-873bebda81a56f86",
          "locked": false,
          "points": 2,
          "schema_version": 1,
          "solution": true
        },
        "id": "Io9wdPCgDChC",
        "colab": {
          "base_uri": "https://localhost:8080/",
          "height": 1000
        },
        "outputId": "cca5eb26-3e27-4422-972e-d2315e8e9ebe"
      },
      "source": [
        "def n_ertekeles(ratings):\n",
        "    r=ratings.groupby(ratings.user)\n",
        "    return r.count().rating\n",
        "\n",
        "x=n_ertekeles(ratings)\n",
        "x.plot(kind='bar', figsize=(20, 20))"
      ],
      "execution_count": 96,
      "outputs": [
        {
          "output_type": "execute_result",
          "data": {
            "text/plain": [
              "<matplotlib.axes._subplots.AxesSubplot at 0x7f50e2462ad0>"
            ]
          },
          "metadata": {
            "tags": []
          },
          "execution_count": 96
        },
        {
          "output_type": "display_data",
          "data": {
            "image/png": "[encoded data removed]",
            "text/plain": [
              "<Figure size 1440x1440 with 1 Axes>"
            ]
          },
          "metadata": {
            "tags": [],
            "needs_background": "light"
          }
        }
      ]
    },
    {
      "cell_type": "markdown",
      "metadata": {
        "id": "Esi1SFIaDChD"
      },
      "source": [
        "## Q4.6. Milyen volt a nemek eloszlása a romantikus filmet, illetve az akciófilmeket értékelők között? Készíts két tortadiagramot!"
      ]
    },
    {
      "cell_type": "code",
      "metadata": {
        "deletable": false,
        "nbgrader": {
          "checksum": "1083b280ed030ce2e39a462f55c939dd",
          "grade": true,
          "grade_id": "cell-19dac56e5f81c7bb",
          "locked": false,
          "points": 1,
          "schema_version": 1,
          "solution": true
        },
        "id": "TMcda3MqDChD",
        "colab": {
          "base_uri": "https://localhost:8080/",
          "height": 365
        },
        "outputId": "fbfdffde-3dbb-4c8c-a7bd-4915b7f67169"
      },
      "source": [
        "def rom(ratings):\n",
        "    r=ratings[ratings.romance==1]\n",
        "    r=r.groupby(r.gender)\n",
        "    print(r.count().rating)\n",
        "    return r.count().rating\n",
        "\n",
        "romantic=rom(ratings)\n",
        "romantic.plot(kind='bar')"
      ],
      "execution_count": 102,
      "outputs": [
        {
          "output_type": "stream",
          "text": [
            "gender\n",
            "F     4114\n",
            "M    13889\n",
            "Name: rating, dtype: int64\n"
          ],
          "name": "stdout"
        },
        {
          "output_type": "execute_result",
          "data": {
            "text/plain": [
              "<matplotlib.axes._subplots.AxesSubplot at 0x7f50e0423c10>"
            ]
          },
          "metadata": {
            "tags": []
          },
          "execution_count": 102
        },
        {
          "output_type": "display_data",
          "data": {
            "image/png": "[encoded data removed]",
            "text/plain": [
              "<Figure size 432x288 with 1 Axes>"
            ]
          },
          "metadata": {
            "tags": [],
            "needs_background": "light"
          }
        }
      ]
    },
    {
      "cell_type": "code",
      "metadata": {
        "deletable": false,
        "nbgrader": {
          "checksum": "afb1e10b58b2faf9068adb6414927c86",
          "grade": true,
          "grade_id": "cell-e1a7f1085bbddd74",
          "locked": false,
          "points": 1,
          "schema_version": 1,
          "solution": true
        },
        "id": "nbj9cwujDChE",
        "colab": {
          "base_uri": "https://localhost:8080/",
          "height": 365
        },
        "outputId": "79f703b7-61cb-47ad-b44a-05d7e271f3ae"
      },
      "source": [
        "def act(ratings):\n",
        "    r=ratings[ratings.action==1]\n",
        "    r=r.groupby(r.gender)\n",
        "    print(r.count().rating)\n",
        "    return r.count().rating\n",
        "\n",
        "action=act(ratings)\n",
        "action.plot(kind='bar')"
      ],
      "execution_count": 103,
      "outputs": [
        {
          "output_type": "stream",
          "text": [
            "gender\n",
            "F     5831\n",
            "M    18745\n",
            "Name: rating, dtype: int64\n"
          ],
          "name": "stdout"
        },
        {
          "output_type": "execute_result",
          "data": {
            "text/plain": [
              "<matplotlib.axes._subplots.AxesSubplot at 0x7f50df8aebd0>"
            ]
          },
          "metadata": {
            "tags": []
          },
          "execution_count": 103
        },
        {
          "output_type": "display_data",
          "data": {
            "image/png": "[encoded data removed]",
            "text/plain": [
              "<Figure size 432x288 with 1 Axes>"
            ]
          },
          "metadata": {
            "tags": [],
            "needs_background": "light"
          }
        }
      ]
    },
    {
      "cell_type": "markdown",
      "metadata": {
        "id": "HLtzRrJRDChF"
      },
      "source": [
        "## Q4.7. Jóval több férfi adott le értékelést. Hogy alakulnak ezek az arányok, ha normálunk az összes értékelésre jellemző nemek arányával?"
      ]
    },
    {
      "cell_type": "code",
      "metadata": {
        "deletable": false,
        "nbgrader": {
          "checksum": "8b4bc70991da0e4936641b6364a16ade",
          "grade": true,
          "grade_id": "cell-e2e0b2a84a665316",
          "locked": false,
          "points": 1,
          "schema_version": 1,
          "solution": true
        },
        "id": "BnECr3ZgDChF",
        "colab": {
          "base_uri": "https://localhost:8080/",
          "height": 352
        },
        "outputId": "9e691672-9aa9-48e6-c9a3-e13c47a6a9b3"
      },
      "source": [
        "def norm_rom(ratings):\n",
        "    x=rom(ratings)\n",
        "    y=ratings.groupby(ratings.gender).count().rating\n",
        "    y.plot(kind='bar')\n",
        "\n",
        "norm_rom(ratings)\n",
        "#?"
      ],
      "execution_count": 112,
      "outputs": [
        {
          "output_type": "stream",
          "text": [
            "gender\n",
            "F     4114\n",
            "M    13889\n",
            "Name: rating, dtype: int64\n"
          ],
          "name": "stdout"
        },
        {
          "output_type": "display_data",
          "data": {
            "image/png": "[encoded data removed]",
            "text/plain": [
              "<Figure size 432x288 with 1 Axes>"
            ]
          },
          "metadata": {
            "tags": [],
            "needs_background": "light"
          }
        }
      ]
    },
    {
      "cell_type": "code",
      "metadata": {
        "deletable": false,
        "nbgrader": {
          "checksum": "ed75a235e5f992fcae0c213dbd728b84",
          "grade": true,
          "grade_id": "cell-f057a3e74b72e950",
          "locked": false,
          "points": 1,
          "schema_version": 1,
          "solution": true
        },
        "id": "SI9CQIr7DChH",
        "colab": {
          "base_uri": "https://localhost:8080/",
          "height": 352
        },
        "outputId": "56db3012-e9f2-4e5d-aa55-4e2754cb16d3"
      },
      "source": [
        "def norm_act(ratings):\n",
        "    x=act(ratings)\n",
        "    y=ratings.groupby(ratings.gender).count().rating\n",
        "    y.plot(kind='bar')\n",
        "\n",
        "norm_act(ratings)\n",
        "#?"
      ],
      "execution_count": 113,
      "outputs": [
        {
          "output_type": "stream",
          "text": [
            "gender\n",
            "F     5831\n",
            "M    18745\n",
            "Name: rating, dtype: int64\n"
          ],
          "name": "stdout"
        },
        {
          "output_type": "display_data",
          "data": {
            "image/png": "[encoded data removed]",
            "text/plain": [
              "<Figure size 432x288 with 1 Axes>"
            ]
          },
          "metadata": {
            "tags": [],
            "needs_background": "light"
          }
        }
      ]
    },
    {
      "cell_type": "markdown",
      "metadata": {
        "id": "WEnZdZJbDChI"
      },
      "source": [
        "## Q4.8. A nap melyik órájában melyik szakma értékel legtöbbször és hányszor értékelnek?\n",
        "\n",
        "Példa válasz:\n",
        "\n",
        "* 0-1 óra között a mérnökök értékelnek legtöbbször, 2134-szer.\n",
        "* 1-2 óra között az oktatók (educator) értékelnek legtöbbször, 1879-szer.\n",
        "\n",
        "Táblázatos formában elég megválaszolni."
      ]
    },
    {
      "cell_type": "code",
      "metadata": {
        "deletable": false,
        "nbgrader": {
          "checksum": "a804d91f7bfd236ad862597d35e84164",
          "grade": true,
          "grade_id": "cell-6b047a791e3254e0",
          "locked": false,
          "points": 4,
          "schema_version": 1,
          "solution": true
        },
        "id": "easGUOhhDChJ",
        "colab": {
          "base_uri": "https://localhost:8080/"
        },
        "outputId": "33e30bcc-04fb-4670-c637-5da73694ddd6"
      },
      "source": [
        "def szakma(ratings):\n",
        "    r=ratings.groupby([ratings.occupation, ratings.timestamp.dt.hour])\n",
        "    r=r.count()\n",
        "    r=r.rating\n",
        "    r=r.to_frame()\n",
        "    r.reset_index(inplace=True)\n",
        "    for i in range(0, 24):\n",
        "        x=r[r.timestamp==i]\n",
        "        y=x.max().to_frame()\n",
        "        print(y)\n",
        "    \n",
        "    \n",
        "       \n",
        "\n",
        "    \n",
        "\n",
        "szakma(ratings)"
      ],
      "execution_count": 180,
      "outputs": [
        {
          "output_type": "stream",
          "text": [
            "                 0\n",
            "occupation  writer\n",
            "timestamp        0\n",
            "rating         938\n",
            "                 0\n",
            "occupation  writer\n",
            "timestamp        1\n",
            "rating         918\n",
            "                 0\n",
            "occupation  writer\n",
            "timestamp        2\n",
            "rating         901\n",
            "                 0\n",
            "occupation  writer\n",
            "timestamp        3\n",
            "rating         903\n",
            "                 0\n",
            "occupation  writer\n",
            "timestamp        4\n",
            "rating         750\n",
            "                 0\n",
            "occupation  writer\n",
            "timestamp        5\n",
            "rating         798\n",
            "                 0\n",
            "occupation  writer\n",
            "timestamp        6\n",
            "rating         608\n",
            "                 0\n",
            "occupation  writer\n",
            "timestamp        7\n",
            "rating         297\n",
            "                 0\n",
            "occupation  writer\n",
            "timestamp        8\n",
            "rating         211\n",
            "                 0\n",
            "occupation  writer\n",
            "timestamp        9\n",
            "rating         328\n",
            "                 0\n",
            "occupation  writer\n",
            "timestamp       10\n",
            "rating         179\n",
            "                 0\n",
            "occupation  writer\n",
            "timestamp       11\n",
            "rating         105\n",
            "                 0\n",
            "occupation  writer\n",
            "timestamp       12\n",
            "rating         197\n",
            "                 0\n",
            "occupation  writer\n",
            "timestamp       13\n",
            "rating         297\n",
            "                 0\n",
            "occupation  writer\n",
            "timestamp       14\n",
            "rating         568\n",
            "                 0\n",
            "occupation  writer\n",
            "timestamp       15\n",
            "rating         552\n",
            "                 0\n",
            "occupation  writer\n",
            "timestamp       16\n",
            "rating        1017\n",
            "                 0\n",
            "occupation  writer\n",
            "timestamp       17\n",
            "rating        1092\n",
            "                 0\n",
            "occupation  writer\n",
            "timestamp       18\n",
            "rating        1265\n",
            "                 0\n",
            "occupation  writer\n",
            "timestamp       19\n",
            "rating        1296\n",
            "                 0\n",
            "occupation  writer\n",
            "timestamp       20\n",
            "rating        1181\n",
            "                 0\n",
            "occupation  writer\n",
            "timestamp       21\n",
            "rating        1557\n",
            "                 0\n",
            "occupation  writer\n",
            "timestamp       22\n",
            "rating        1343\n",
            "                 0\n",
            "occupation  writer\n",
            "timestamp       23\n",
            "rating        1054\n"
          ],
          "name": "stdout"
        }
      ]
    }
  ]
}